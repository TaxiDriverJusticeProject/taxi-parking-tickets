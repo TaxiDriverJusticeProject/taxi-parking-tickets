{
 "cells": [
  {
   "cell_type": "code",
   "execution_count": 1,
   "metadata": {
    "collapsed": true
   },
   "outputs": [],
   "source": [
    "from __future__ import absolute_import, division, print_function, unicode_literals\n",
    "import numpy as np\n",
    "import pandas as pd\n",
    "import matplotlib.pyplot as plt\n",
    "import seaborn as sns\n",
    "%matplotlib inline"
   ]
  },
  {
   "cell_type": "code",
   "execution_count": 2,
   "metadata": {
    "collapsed": false
   },
   "outputs": [
    {
     "name": "stdout",
     "output_type": "stream",
     "text": [
      "(261936, 16)\n",
      "Ticket Number              int64\n",
      "License Plate Number      object\n",
      "License Plate State       object\n",
      "License Plate Type        object\n",
      "Ticket Make               object\n",
      "Issue Date                object\n",
      "Violation Location        object\n",
      "Violation Code            object\n",
      "Violation Description     object\n",
      "Badge                     object\n",
      "Unit                      object\n",
      "Ticket Queue              object\n",
      "Hearing Dispo             object\n",
      "Latitude                 float64\n",
      "Longitude                float64\n",
      "Ward                       int64\n",
      "dtype: object\n"
     ]
    },
    {
     "name": "stderr",
     "output_type": "stream",
     "text": [
      "/usr/local/lib/python2.7/site-packages/IPython/core/interactiveshell.py:2723: DtypeWarning: Columns (10) have mixed types. Specify dtype option on import or set low_memory=False.\n",
      "  interactivity=interactivity, compiler=compiler, result=result)\n"
     ]
    },
    {
     "data": {
      "text/html": [
       "<div>\n",
       "<table border=\"1\" class=\"dataframe\">\n",
       "  <thead>\n",
       "    <tr style=\"text-align: right;\">\n",
       "      <th></th>\n",
       "      <th>Ticket Number</th>\n",
       "      <th>License Plate Number</th>\n",
       "      <th>License Plate State</th>\n",
       "      <th>License Plate Type</th>\n",
       "      <th>Ticket Make</th>\n",
       "      <th>Issue Date</th>\n",
       "      <th>Violation Location</th>\n",
       "      <th>Violation Code</th>\n",
       "      <th>Violation Description</th>\n",
       "      <th>Badge</th>\n",
       "      <th>Unit</th>\n",
       "      <th>Ticket Queue</th>\n",
       "      <th>Hearing Dispo</th>\n",
       "      <th>Latitude</th>\n",
       "      <th>Longitude</th>\n",
       "      <th>Ward</th>\n",
       "    </tr>\n",
       "  </thead>\n",
       "  <tbody>\n",
       "    <tr>\n",
       "      <th>0</th>\n",
       "      <td>55884862</td>\n",
       "      <td>4079TX</td>\n",
       "      <td>IL</td>\n",
       "      <td>TXI</td>\n",
       "      <td>FORD</td>\n",
       "      <td>01/02/2009 10:05 am</td>\n",
       "      <td>5210 N BROADWAY</td>\n",
       "      <td>0964190</td>\n",
       "      <td>EXPIRED METER OR OVERSTAY</td>\n",
       "      <td>8117</td>\n",
       "      <td>20</td>\n",
       "      <td>Paid</td>\n",
       "      <td>Did Not Challenge</td>\n",
       "      <td>41.976507</td>\n",
       "      <td>-87.659944</td>\n",
       "      <td>48</td>\n",
       "    </tr>\n",
       "    <tr>\n",
       "      <th>1</th>\n",
       "      <td>54574383</td>\n",
       "      <td>5141TX</td>\n",
       "      <td>IL</td>\n",
       "      <td>TXI</td>\n",
       "      <td>MERC</td>\n",
       "      <td>01/06/2009 06:53 am</td>\n",
       "      <td>4707 N PULASKI</td>\n",
       "      <td>0964170B</td>\n",
       "      <td>TRUCK,MOTOR HOME, BUS BUSINESS STREET</td>\n",
       "      <td>12769</td>\n",
       "      <td>17</td>\n",
       "      <td>Paid</td>\n",
       "      <td>Did Not Challenge</td>\n",
       "      <td>41.966575</td>\n",
       "      <td>-87.727904</td>\n",
       "      <td>39</td>\n",
       "    </tr>\n",
       "    <tr>\n",
       "      <th>2</th>\n",
       "      <td>55388795</td>\n",
       "      <td>25495TX</td>\n",
       "      <td>IL</td>\n",
       "      <td>TXI</td>\n",
       "      <td>MERC</td>\n",
       "      <td>01/05/2009 04:19 am</td>\n",
       "      <td>5721 W EASTWOOD</td>\n",
       "      <td>0964170A</td>\n",
       "      <td>TRUCK,RV,BUS, OR TAXI RESIDENTIAL STREET</td>\n",
       "      <td>13250</td>\n",
       "      <td>16</td>\n",
       "      <td>Notice</td>\n",
       "      <td>Did Not Challenge</td>\n",
       "      <td>41.964930</td>\n",
       "      <td>-87.770331</td>\n",
       "      <td>38</td>\n",
       "    </tr>\n",
       "    <tr>\n",
       "      <th>3</th>\n",
       "      <td>9177658970</td>\n",
       "      <td>25368TX</td>\n",
       "      <td>IL</td>\n",
       "      <td>TXI</td>\n",
       "      <td>OLDS</td>\n",
       "      <td>01/10/2009 10:30 am</td>\n",
       "      <td>6410 N CLAREMONT AV</td>\n",
       "      <td>0964190</td>\n",
       "      <td>EXPIRED METER OR OVERSTAY</td>\n",
       "      <td>197</td>\n",
       "      <td>498</td>\n",
       "      <td>Paid</td>\n",
       "      <td>Did Not Challenge</td>\n",
       "      <td>41.997942</td>\n",
       "      <td>-87.688741</td>\n",
       "      <td>50</td>\n",
       "    </tr>\n",
       "    <tr>\n",
       "      <th>4</th>\n",
       "      <td>55835485</td>\n",
       "      <td>3001TX</td>\n",
       "      <td>IL</td>\n",
       "      <td>TXI</td>\n",
       "      <td>FORD</td>\n",
       "      <td>01/01/2009 06:35 pm</td>\n",
       "      <td>36 W 26TH</td>\n",
       "      <td>0976160F</td>\n",
       "      <td>EXPIRED PLATES OR TEMPORARY REGISTRATION</td>\n",
       "      <td>19503</td>\n",
       "      <td>21</td>\n",
       "      <td>Bankruptcy</td>\n",
       "      <td>Did Not Challenge</td>\n",
       "      <td>41.845162</td>\n",
       "      <td>-87.628529</td>\n",
       "      <td>3</td>\n",
       "    </tr>\n",
       "  </tbody>\n",
       "</table>\n",
       "</div>"
      ],
      "text/plain": [
       "   Ticket Number License Plate Number License Plate State License Plate Type  \\\n",
       "0       55884862               4079TX                  IL                TXI   \n",
       "1       54574383               5141TX                  IL                TXI   \n",
       "2       55388795              25495TX                  IL                TXI   \n",
       "3     9177658970              25368TX                  IL                TXI   \n",
       "4       55835485               3001TX                  IL                TXI   \n",
       "\n",
       "  Ticket Make           Issue Date   Violation Location Violation Code  \\\n",
       "0        FORD  01/02/2009 10:05 am      5210 N BROADWAY        0964190   \n",
       "1        MERC  01/06/2009 06:53 am       4707 N PULASKI       0964170B   \n",
       "2        MERC  01/05/2009 04:19 am      5721 W EASTWOOD       0964170A   \n",
       "3        OLDS  01/10/2009 10:30 am  6410 N CLAREMONT AV        0964190   \n",
       "4        FORD  01/01/2009 06:35 pm            36 W 26TH       0976160F   \n",
       "\n",
       "                      Violation Description  Badge Unit Ticket Queue  \\\n",
       "0                 EXPIRED METER OR OVERSTAY   8117   20         Paid   \n",
       "1     TRUCK,MOTOR HOME, BUS BUSINESS STREET  12769   17         Paid   \n",
       "2  TRUCK,RV,BUS, OR TAXI RESIDENTIAL STREET  13250   16       Notice   \n",
       "3                 EXPIRED METER OR OVERSTAY    197  498         Paid   \n",
       "4  EXPIRED PLATES OR TEMPORARY REGISTRATION  19503   21   Bankruptcy   \n",
       "\n",
       "       Hearing Dispo   Latitude  Longitude  Ward  \n",
       "0  Did Not Challenge  41.976507 -87.659944    48  \n",
       "1  Did Not Challenge  41.966575 -87.727904    39  \n",
       "2  Did Not Challenge  41.964930 -87.770331    38  \n",
       "3  Did Not Challenge  41.997942 -87.688741    50  \n",
       "4  Did Not Challenge  41.845162 -87.628529     3  "
      ]
     },
     "execution_count": 2,
     "metadata": {},
     "output_type": "execute_result"
    }
   ],
   "source": [
    "taxi_tickets = pd.read_csv('taxi_ticket_data/taxi_tickets_by_ward.csv')\n",
    "print(taxi_tickets.shape)\n",
    "print(taxi_tickets.dtypes)\n",
    "taxi_tickets.head()"
   ]
  },
  {
   "cell_type": "code",
   "execution_count": 4,
   "metadata": {
    "collapsed": false
   },
   "outputs": [
    {
     "name": "stdout",
     "output_type": "stream",
     "text": [
      "(51740, 16)\n",
      "Ticket Number              int64\n",
      "License Plate Number      object\n",
      "License Plate State       object\n",
      "License Plate Type        object\n",
      "Ticket Make               object\n",
      "Issue Date                object\n",
      "Violation Location        object\n",
      "Violation Code            object\n",
      "Violation Description     object\n",
      "Badge                     object\n",
      "Unit                      object\n",
      "Ticket Queue              object\n",
      "Hearing Dispo             object\n",
      "Latitude                 float64\n",
      "Longitude                float64\n",
      "Ward                       int64\n",
      "dtype: object\n"
     ]
    },
    {
     "data": {
      "text/html": [
       "<div>\n",
       "<table border=\"1\" class=\"dataframe\">\n",
       "  <thead>\n",
       "    <tr style=\"text-align: right;\">\n",
       "      <th></th>\n",
       "      <th>Ticket Number</th>\n",
       "      <th>License Plate Number</th>\n",
       "      <th>License Plate State</th>\n",
       "      <th>License Plate Type</th>\n",
       "      <th>Ticket Make</th>\n",
       "      <th>Issue Date</th>\n",
       "      <th>Violation Location</th>\n",
       "      <th>Violation Code</th>\n",
       "      <th>Violation Description</th>\n",
       "      <th>Badge</th>\n",
       "      <th>Unit</th>\n",
       "      <th>Ticket Queue</th>\n",
       "      <th>Hearing Dispo</th>\n",
       "      <th>Latitude</th>\n",
       "      <th>Longitude</th>\n",
       "      <th>Ward</th>\n",
       "    </tr>\n",
       "  </thead>\n",
       "  <tbody>\n",
       "    <tr>\n",
       "      <th>1</th>\n",
       "      <td>54574383</td>\n",
       "      <td>5141TX</td>\n",
       "      <td>IL</td>\n",
       "      <td>TXI</td>\n",
       "      <td>MERC</td>\n",
       "      <td>01/06/2009 06:53 am</td>\n",
       "      <td>4707 N PULASKI</td>\n",
       "      <td>0964170B</td>\n",
       "      <td>TRUCK,MOTOR HOME, BUS BUSINESS STREET</td>\n",
       "      <td>12769</td>\n",
       "      <td>17</td>\n",
       "      <td>Paid</td>\n",
       "      <td>Did Not Challenge</td>\n",
       "      <td>41.966575</td>\n",
       "      <td>-87.727904</td>\n",
       "      <td>39</td>\n",
       "    </tr>\n",
       "    <tr>\n",
       "      <th>2</th>\n",
       "      <td>55388795</td>\n",
       "      <td>25495TX</td>\n",
       "      <td>IL</td>\n",
       "      <td>TXI</td>\n",
       "      <td>MERC</td>\n",
       "      <td>01/05/2009 04:19 am</td>\n",
       "      <td>5721 W EASTWOOD</td>\n",
       "      <td>0964170A</td>\n",
       "      <td>TRUCK,RV,BUS, OR TAXI RESIDENTIAL STREET</td>\n",
       "      <td>13250</td>\n",
       "      <td>16</td>\n",
       "      <td>Notice</td>\n",
       "      <td>Did Not Challenge</td>\n",
       "      <td>41.964930</td>\n",
       "      <td>-87.770331</td>\n",
       "      <td>38</td>\n",
       "    </tr>\n",
       "    <tr>\n",
       "      <th>15</th>\n",
       "      <td>55984582</td>\n",
       "      <td>3529TX</td>\n",
       "      <td>IL</td>\n",
       "      <td>TXI</td>\n",
       "      <td>MERZ</td>\n",
       "      <td>01/18/2009 10:04 pm</td>\n",
       "      <td>2822 W BRYN MAWR</td>\n",
       "      <td>0964170A</td>\n",
       "      <td>TRUCK,RV,BUS, OR TAXI RESIDENTIAL STREET</td>\n",
       "      <td>19838</td>\n",
       "      <td>20</td>\n",
       "      <td>Paid</td>\n",
       "      <td>Did Not Challenge</td>\n",
       "      <td>41.983193</td>\n",
       "      <td>-87.699957</td>\n",
       "      <td>40</td>\n",
       "    </tr>\n",
       "    <tr>\n",
       "      <th>16</th>\n",
       "      <td>55571353</td>\n",
       "      <td>5493TX</td>\n",
       "      <td>IL</td>\n",
       "      <td>TXI</td>\n",
       "      <td>CHEV</td>\n",
       "      <td>01/09/2009 06:35 am</td>\n",
       "      <td>5433 N WESTERN</td>\n",
       "      <td>0964170B</td>\n",
       "      <td>TRUCK,MOTOR HOME, BUS BUSINESS STREET</td>\n",
       "      <td>3357</td>\n",
       "      <td>20</td>\n",
       "      <td>Paid</td>\n",
       "      <td>Liable</td>\n",
       "      <td>41.980131</td>\n",
       "      <td>-87.689240</td>\n",
       "      <td>40</td>\n",
       "    </tr>\n",
       "    <tr>\n",
       "      <th>22</th>\n",
       "      <td>55772826</td>\n",
       "      <td>1262TX</td>\n",
       "      <td>IL</td>\n",
       "      <td>TXI</td>\n",
       "      <td>FORD</td>\n",
       "      <td>01/19/2009 07:30 am</td>\n",
       "      <td>6320  RIDGE</td>\n",
       "      <td>0964170A</td>\n",
       "      <td>TRUCK,RV,BUS, OR TAXI RESIDENTIAL STREET</td>\n",
       "      <td>17392</td>\n",
       "      <td>24</td>\n",
       "      <td>Paid</td>\n",
       "      <td>Did Not Challenge</td>\n",
       "      <td>42.010156</td>\n",
       "      <td>-87.682322</td>\n",
       "      <td>49</td>\n",
       "    </tr>\n",
       "  </tbody>\n",
       "</table>\n",
       "</div>"
      ],
      "text/plain": [
       "    Ticket Number License Plate Number License Plate State License Plate Type  \\\n",
       "1        54574383               5141TX                  IL                TXI   \n",
       "2        55388795              25495TX                  IL                TXI   \n",
       "15       55984582               3529TX                  IL                TXI   \n",
       "16       55571353               5493TX                  IL                TXI   \n",
       "22       55772826               1262TX                  IL                TXI   \n",
       "\n",
       "   Ticket Make           Issue Date Violation Location Violation Code  \\\n",
       "1         MERC  01/06/2009 06:53 am     4707 N PULASKI       0964170B   \n",
       "2         MERC  01/05/2009 04:19 am    5721 W EASTWOOD       0964170A   \n",
       "15        MERZ  01/18/2009 10:04 pm   2822 W BRYN MAWR       0964170A   \n",
       "16        CHEV  01/09/2009 06:35 am     5433 N WESTERN       0964170B   \n",
       "22        FORD  01/19/2009 07:30 am        6320  RIDGE       0964170A   \n",
       "\n",
       "                       Violation Description  Badge Unit Ticket Queue  \\\n",
       "1      TRUCK,MOTOR HOME, BUS BUSINESS STREET  12769   17         Paid   \n",
       "2   TRUCK,RV,BUS, OR TAXI RESIDENTIAL STREET  13250   16       Notice   \n",
       "15  TRUCK,RV,BUS, OR TAXI RESIDENTIAL STREET  19838   20         Paid   \n",
       "16     TRUCK,MOTOR HOME, BUS BUSINESS STREET   3357   20         Paid   \n",
       "22  TRUCK,RV,BUS, OR TAXI RESIDENTIAL STREET  17392   24         Paid   \n",
       "\n",
       "        Hearing Dispo   Latitude  Longitude  Ward  \n",
       "1   Did Not Challenge  41.966575 -87.727904    39  \n",
       "2   Did Not Challenge  41.964930 -87.770331    38  \n",
       "15  Did Not Challenge  41.983193 -87.699957    40  \n",
       "16             Liable  41.980131 -87.689240    40  \n",
       "22  Did Not Challenge  42.010156 -87.682322    49  "
      ]
     },
     "execution_count": 4,
     "metadata": {},
     "output_type": "execute_result"
    }
   ],
   "source": [
    "rb_taxi_tickets = taxi_tickets[taxi_tickets['Violation Code'].isin(['0964170A','0964170B'])]\n",
    "print(rb_taxi_tickets.shape)\n",
    "print(rb_taxi_tickets.dtypes)\n",
    "rb_taxi_tickets.head()"
   ]
  },
  {
   "cell_type": "markdown",
   "metadata": {},
   "source": [
    "## Ticket Costs\n",
    "\n",
    "Both residential and business street parking tickets for taxis were \\$25.00 until April of 2014 when a new budget in Chicago took effect and increased the price of residential street parking tickets for taxis and other named vehicles to \\$75.00.\n",
    "\n",
    "Taking that change into account, the data can be adjusted with a ticket cost depending on time."
   ]
  },
  {
   "cell_type": "code",
   "execution_count": 5,
   "metadata": {
    "collapsed": false
   },
   "outputs": [
    {
     "name": "stdout",
     "output_type": "stream",
     "text": [
      "Ticket Number              int64\n",
      "License Plate Number      object\n",
      "License Plate State       object\n",
      "License Plate Type        object\n",
      "Ticket Make               object\n",
      "Issue Date                object\n",
      "Violation Location        object\n",
      "Violation Code            object\n",
      "Violation Description     object\n",
      "Badge                     object\n",
      "Unit                      object\n",
      "Ticket Queue              object\n",
      "Hearing Dispo             object\n",
      "Latitude                 float64\n",
      "Longitude                float64\n",
      "Ward                       int64\n",
      "Ticket Cost              float64\n",
      "dtype: object\n"
     ]
    },
    {
     "name": "stderr",
     "output_type": "stream",
     "text": [
      "/usr/local/lib/python2.7/site-packages/ipykernel/__main__.py:1: SettingWithCopyWarning: \n",
      "A value is trying to be set on a copy of a slice from a DataFrame.\n",
      "Try using .loc[row_indexer,col_indexer] = value instead\n",
      "\n",
      "See the caveats in the documentation: http://pandas.pydata.org/pandas-docs/stable/indexing.html#indexing-view-versus-copy\n",
      "  if __name__ == '__main__':\n"
     ]
    },
    {
     "data": {
      "text/html": [
       "<div>\n",
       "<table border=\"1\" class=\"dataframe\">\n",
       "  <thead>\n",
       "    <tr style=\"text-align: right;\">\n",
       "      <th></th>\n",
       "      <th>Ticket Number</th>\n",
       "      <th>License Plate Number</th>\n",
       "      <th>License Plate State</th>\n",
       "      <th>License Plate Type</th>\n",
       "      <th>Ticket Make</th>\n",
       "      <th>Issue Date</th>\n",
       "      <th>Violation Location</th>\n",
       "      <th>Violation Code</th>\n",
       "      <th>Violation Description</th>\n",
       "      <th>Badge</th>\n",
       "      <th>Unit</th>\n",
       "      <th>Ticket Queue</th>\n",
       "      <th>Hearing Dispo</th>\n",
       "      <th>Latitude</th>\n",
       "      <th>Longitude</th>\n",
       "      <th>Ward</th>\n",
       "      <th>Ticket Cost</th>\n",
       "    </tr>\n",
       "  </thead>\n",
       "  <tbody>\n",
       "    <tr>\n",
       "      <th>1</th>\n",
       "      <td>54574383</td>\n",
       "      <td>5141TX</td>\n",
       "      <td>IL</td>\n",
       "      <td>TXI</td>\n",
       "      <td>MERC</td>\n",
       "      <td>01/06/2009 06:53 am</td>\n",
       "      <td>4707 N PULASKI</td>\n",
       "      <td>0964170B</td>\n",
       "      <td>TRUCK,MOTOR HOME, BUS BUSINESS STREET</td>\n",
       "      <td>12769</td>\n",
       "      <td>17</td>\n",
       "      <td>Paid</td>\n",
       "      <td>Did Not Challenge</td>\n",
       "      <td>41.966575</td>\n",
       "      <td>-87.727904</td>\n",
       "      <td>39</td>\n",
       "      <td>25.0</td>\n",
       "    </tr>\n",
       "    <tr>\n",
       "      <th>2</th>\n",
       "      <td>55388795</td>\n",
       "      <td>25495TX</td>\n",
       "      <td>IL</td>\n",
       "      <td>TXI</td>\n",
       "      <td>MERC</td>\n",
       "      <td>01/05/2009 04:19 am</td>\n",
       "      <td>5721 W EASTWOOD</td>\n",
       "      <td>0964170A</td>\n",
       "      <td>TRUCK,RV,BUS, OR TAXI RESIDENTIAL STREET</td>\n",
       "      <td>13250</td>\n",
       "      <td>16</td>\n",
       "      <td>Notice</td>\n",
       "      <td>Did Not Challenge</td>\n",
       "      <td>41.964930</td>\n",
       "      <td>-87.770331</td>\n",
       "      <td>38</td>\n",
       "      <td>25.0</td>\n",
       "    </tr>\n",
       "    <tr>\n",
       "      <th>15</th>\n",
       "      <td>55984582</td>\n",
       "      <td>3529TX</td>\n",
       "      <td>IL</td>\n",
       "      <td>TXI</td>\n",
       "      <td>MERZ</td>\n",
       "      <td>01/18/2009 10:04 pm</td>\n",
       "      <td>2822 W BRYN MAWR</td>\n",
       "      <td>0964170A</td>\n",
       "      <td>TRUCK,RV,BUS, OR TAXI RESIDENTIAL STREET</td>\n",
       "      <td>19838</td>\n",
       "      <td>20</td>\n",
       "      <td>Paid</td>\n",
       "      <td>Did Not Challenge</td>\n",
       "      <td>41.983193</td>\n",
       "      <td>-87.699957</td>\n",
       "      <td>40</td>\n",
       "      <td>25.0</td>\n",
       "    </tr>\n",
       "    <tr>\n",
       "      <th>16</th>\n",
       "      <td>55571353</td>\n",
       "      <td>5493TX</td>\n",
       "      <td>IL</td>\n",
       "      <td>TXI</td>\n",
       "      <td>CHEV</td>\n",
       "      <td>01/09/2009 06:35 am</td>\n",
       "      <td>5433 N WESTERN</td>\n",
       "      <td>0964170B</td>\n",
       "      <td>TRUCK,MOTOR HOME, BUS BUSINESS STREET</td>\n",
       "      <td>3357</td>\n",
       "      <td>20</td>\n",
       "      <td>Paid</td>\n",
       "      <td>Liable</td>\n",
       "      <td>41.980131</td>\n",
       "      <td>-87.689240</td>\n",
       "      <td>40</td>\n",
       "      <td>25.0</td>\n",
       "    </tr>\n",
       "    <tr>\n",
       "      <th>22</th>\n",
       "      <td>55772826</td>\n",
       "      <td>1262TX</td>\n",
       "      <td>IL</td>\n",
       "      <td>TXI</td>\n",
       "      <td>FORD</td>\n",
       "      <td>01/19/2009 07:30 am</td>\n",
       "      <td>6320  RIDGE</td>\n",
       "      <td>0964170A</td>\n",
       "      <td>TRUCK,RV,BUS, OR TAXI RESIDENTIAL STREET</td>\n",
       "      <td>17392</td>\n",
       "      <td>24</td>\n",
       "      <td>Paid</td>\n",
       "      <td>Did Not Challenge</td>\n",
       "      <td>42.010156</td>\n",
       "      <td>-87.682322</td>\n",
       "      <td>49</td>\n",
       "      <td>25.0</td>\n",
       "    </tr>\n",
       "  </tbody>\n",
       "</table>\n",
       "</div>"
      ],
      "text/plain": [
       "    Ticket Number License Plate Number License Plate State License Plate Type  \\\n",
       "1        54574383               5141TX                  IL                TXI   \n",
       "2        55388795              25495TX                  IL                TXI   \n",
       "15       55984582               3529TX                  IL                TXI   \n",
       "16       55571353               5493TX                  IL                TXI   \n",
       "22       55772826               1262TX                  IL                TXI   \n",
       "\n",
       "   Ticket Make           Issue Date Violation Location Violation Code  \\\n",
       "1         MERC  01/06/2009 06:53 am     4707 N PULASKI       0964170B   \n",
       "2         MERC  01/05/2009 04:19 am    5721 W EASTWOOD       0964170A   \n",
       "15        MERZ  01/18/2009 10:04 pm   2822 W BRYN MAWR       0964170A   \n",
       "16        CHEV  01/09/2009 06:35 am     5433 N WESTERN       0964170B   \n",
       "22        FORD  01/19/2009 07:30 am        6320  RIDGE       0964170A   \n",
       "\n",
       "                       Violation Description  Badge Unit Ticket Queue  \\\n",
       "1      TRUCK,MOTOR HOME, BUS BUSINESS STREET  12769   17         Paid   \n",
       "2   TRUCK,RV,BUS, OR TAXI RESIDENTIAL STREET  13250   16       Notice   \n",
       "15  TRUCK,RV,BUS, OR TAXI RESIDENTIAL STREET  19838   20         Paid   \n",
       "16     TRUCK,MOTOR HOME, BUS BUSINESS STREET   3357   20         Paid   \n",
       "22  TRUCK,RV,BUS, OR TAXI RESIDENTIAL STREET  17392   24         Paid   \n",
       "\n",
       "        Hearing Dispo   Latitude  Longitude  Ward  Ticket Cost  \n",
       "1   Did Not Challenge  41.966575 -87.727904    39         25.0  \n",
       "2   Did Not Challenge  41.964930 -87.770331    38         25.0  \n",
       "15  Did Not Challenge  41.983193 -87.699957    40         25.0  \n",
       "16             Liable  41.980131 -87.689240    40         25.0  \n",
       "22  Did Not Challenge  42.010156 -87.682322    49         25.0  "
      ]
     },
     "execution_count": 5,
     "metadata": {},
     "output_type": "execute_result"
    }
   ],
   "source": [
    "rb_taxi_tickets['Ticket Cost'] = 25.00\n",
    "print(rb_taxi_tickets.dtypes)\n",
    "rb_taxi_tickets.head()"
   ]
  },
  {
   "cell_type": "code",
   "execution_count": 7,
   "metadata": {
    "collapsed": false
   },
   "outputs": [
    {
     "name": "stdout",
     "output_type": "stream",
     "text": [
      "Ticket Number                     int64\n",
      "License Plate Number             object\n",
      "License Plate State              object\n",
      "License Plate Type               object\n",
      "Ticket Make                      object\n",
      "Issue Date               datetime64[ns]\n",
      "Violation Location               object\n",
      "Violation Code                   object\n",
      "Violation Description            object\n",
      "Badge                            object\n",
      "Unit                             object\n",
      "Ticket Queue                     object\n",
      "Hearing Dispo                    object\n",
      "Latitude                        float64\n",
      "Longitude                       float64\n",
      "Ward                              int64\n",
      "Ticket Cost                     float64\n",
      "dtype: object\n"
     ]
    },
    {
     "data": {
      "text/html": [
       "<div>\n",
       "<table border=\"1\" class=\"dataframe\">\n",
       "  <thead>\n",
       "    <tr style=\"text-align: right;\">\n",
       "      <th></th>\n",
       "      <th>Ticket Number</th>\n",
       "      <th>License Plate Number</th>\n",
       "      <th>License Plate State</th>\n",
       "      <th>License Plate Type</th>\n",
       "      <th>Ticket Make</th>\n",
       "      <th>Issue Date</th>\n",
       "      <th>Violation Location</th>\n",
       "      <th>Violation Code</th>\n",
       "      <th>Violation Description</th>\n",
       "      <th>Badge</th>\n",
       "      <th>Unit</th>\n",
       "      <th>Ticket Queue</th>\n",
       "      <th>Hearing Dispo</th>\n",
       "      <th>Latitude</th>\n",
       "      <th>Longitude</th>\n",
       "      <th>Ward</th>\n",
       "      <th>Ticket Cost</th>\n",
       "    </tr>\n",
       "  </thead>\n",
       "  <tbody>\n",
       "    <tr>\n",
       "      <th>2009-01-06 06:53:00</th>\n",
       "      <td>54574383</td>\n",
       "      <td>5141TX</td>\n",
       "      <td>IL</td>\n",
       "      <td>TXI</td>\n",
       "      <td>MERC</td>\n",
       "      <td>2009-01-06 06:53:00</td>\n",
       "      <td>4707 N PULASKI</td>\n",
       "      <td>0964170B</td>\n",
       "      <td>TRUCK,MOTOR HOME, BUS BUSINESS STREET</td>\n",
       "      <td>12769</td>\n",
       "      <td>17</td>\n",
       "      <td>Paid</td>\n",
       "      <td>Did Not Challenge</td>\n",
       "      <td>41.966575</td>\n",
       "      <td>-87.727904</td>\n",
       "      <td>39</td>\n",
       "      <td>25.0</td>\n",
       "    </tr>\n",
       "    <tr>\n",
       "      <th>2009-01-05 04:19:00</th>\n",
       "      <td>55388795</td>\n",
       "      <td>25495TX</td>\n",
       "      <td>IL</td>\n",
       "      <td>TXI</td>\n",
       "      <td>MERC</td>\n",
       "      <td>2009-01-05 04:19:00</td>\n",
       "      <td>5721 W EASTWOOD</td>\n",
       "      <td>0964170A</td>\n",
       "      <td>TRUCK,RV,BUS, OR TAXI RESIDENTIAL STREET</td>\n",
       "      <td>13250</td>\n",
       "      <td>16</td>\n",
       "      <td>Notice</td>\n",
       "      <td>Did Not Challenge</td>\n",
       "      <td>41.964930</td>\n",
       "      <td>-87.770331</td>\n",
       "      <td>38</td>\n",
       "      <td>25.0</td>\n",
       "    </tr>\n",
       "    <tr>\n",
       "      <th>2009-01-18 22:04:00</th>\n",
       "      <td>55984582</td>\n",
       "      <td>3529TX</td>\n",
       "      <td>IL</td>\n",
       "      <td>TXI</td>\n",
       "      <td>MERZ</td>\n",
       "      <td>2009-01-18 22:04:00</td>\n",
       "      <td>2822 W BRYN MAWR</td>\n",
       "      <td>0964170A</td>\n",
       "      <td>TRUCK,RV,BUS, OR TAXI RESIDENTIAL STREET</td>\n",
       "      <td>19838</td>\n",
       "      <td>20</td>\n",
       "      <td>Paid</td>\n",
       "      <td>Did Not Challenge</td>\n",
       "      <td>41.983193</td>\n",
       "      <td>-87.699957</td>\n",
       "      <td>40</td>\n",
       "      <td>25.0</td>\n",
       "    </tr>\n",
       "    <tr>\n",
       "      <th>2009-01-09 06:35:00</th>\n",
       "      <td>55571353</td>\n",
       "      <td>5493TX</td>\n",
       "      <td>IL</td>\n",
       "      <td>TXI</td>\n",
       "      <td>CHEV</td>\n",
       "      <td>2009-01-09 06:35:00</td>\n",
       "      <td>5433 N WESTERN</td>\n",
       "      <td>0964170B</td>\n",
       "      <td>TRUCK,MOTOR HOME, BUS BUSINESS STREET</td>\n",
       "      <td>3357</td>\n",
       "      <td>20</td>\n",
       "      <td>Paid</td>\n",
       "      <td>Liable</td>\n",
       "      <td>41.980131</td>\n",
       "      <td>-87.689240</td>\n",
       "      <td>40</td>\n",
       "      <td>25.0</td>\n",
       "    </tr>\n",
       "    <tr>\n",
       "      <th>2009-01-19 07:30:00</th>\n",
       "      <td>55772826</td>\n",
       "      <td>1262TX</td>\n",
       "      <td>IL</td>\n",
       "      <td>TXI</td>\n",
       "      <td>FORD</td>\n",
       "      <td>2009-01-19 07:30:00</td>\n",
       "      <td>6320  RIDGE</td>\n",
       "      <td>0964170A</td>\n",
       "      <td>TRUCK,RV,BUS, OR TAXI RESIDENTIAL STREET</td>\n",
       "      <td>17392</td>\n",
       "      <td>24</td>\n",
       "      <td>Paid</td>\n",
       "      <td>Did Not Challenge</td>\n",
       "      <td>42.010156</td>\n",
       "      <td>-87.682322</td>\n",
       "      <td>49</td>\n",
       "      <td>25.0</td>\n",
       "    </tr>\n",
       "  </tbody>\n",
       "</table>\n",
       "</div>"
      ],
      "text/plain": [
       "                     Ticket Number License Plate Number License Plate State  \\\n",
       "2009-01-06 06:53:00       54574383               5141TX                  IL   \n",
       "2009-01-05 04:19:00       55388795              25495TX                  IL   \n",
       "2009-01-18 22:04:00       55984582               3529TX                  IL   \n",
       "2009-01-09 06:35:00       55571353               5493TX                  IL   \n",
       "2009-01-19 07:30:00       55772826               1262TX                  IL   \n",
       "\n",
       "                    License Plate Type Ticket Make          Issue Date  \\\n",
       "2009-01-06 06:53:00                TXI        MERC 2009-01-06 06:53:00   \n",
       "2009-01-05 04:19:00                TXI        MERC 2009-01-05 04:19:00   \n",
       "2009-01-18 22:04:00                TXI        MERZ 2009-01-18 22:04:00   \n",
       "2009-01-09 06:35:00                TXI        CHEV 2009-01-09 06:35:00   \n",
       "2009-01-19 07:30:00                TXI        FORD 2009-01-19 07:30:00   \n",
       "\n",
       "                    Violation Location Violation Code  \\\n",
       "2009-01-06 06:53:00     4707 N PULASKI       0964170B   \n",
       "2009-01-05 04:19:00    5721 W EASTWOOD       0964170A   \n",
       "2009-01-18 22:04:00   2822 W BRYN MAWR       0964170A   \n",
       "2009-01-09 06:35:00     5433 N WESTERN       0964170B   \n",
       "2009-01-19 07:30:00        6320  RIDGE       0964170A   \n",
       "\n",
       "                                        Violation Description  Badge Unit  \\\n",
       "2009-01-06 06:53:00     TRUCK,MOTOR HOME, BUS BUSINESS STREET  12769   17   \n",
       "2009-01-05 04:19:00  TRUCK,RV,BUS, OR TAXI RESIDENTIAL STREET  13250   16   \n",
       "2009-01-18 22:04:00  TRUCK,RV,BUS, OR TAXI RESIDENTIAL STREET  19838   20   \n",
       "2009-01-09 06:35:00     TRUCK,MOTOR HOME, BUS BUSINESS STREET   3357   20   \n",
       "2009-01-19 07:30:00  TRUCK,RV,BUS, OR TAXI RESIDENTIAL STREET  17392   24   \n",
       "\n",
       "                    Ticket Queue      Hearing Dispo   Latitude  Longitude  \\\n",
       "2009-01-06 06:53:00         Paid  Did Not Challenge  41.966575 -87.727904   \n",
       "2009-01-05 04:19:00       Notice  Did Not Challenge  41.964930 -87.770331   \n",
       "2009-01-18 22:04:00         Paid  Did Not Challenge  41.983193 -87.699957   \n",
       "2009-01-09 06:35:00         Paid             Liable  41.980131 -87.689240   \n",
       "2009-01-19 07:30:00         Paid  Did Not Challenge  42.010156 -87.682322   \n",
       "\n",
       "                     Ward  Ticket Cost  \n",
       "2009-01-06 06:53:00    39         25.0  \n",
       "2009-01-05 04:19:00    38         25.0  \n",
       "2009-01-18 22:04:00    40         25.0  \n",
       "2009-01-09 06:35:00    40         25.0  \n",
       "2009-01-19 07:30:00    49         25.0  "
      ]
     },
     "execution_count": 7,
     "metadata": {},
     "output_type": "execute_result"
    }
   ],
   "source": [
    "rb_taxi_tickets['Issue Date'] = pd.to_datetime(rb_taxi_tickets['Issue Date'])\n",
    "rb_taxi_tickets = rb_taxi_tickets.set_index(pd.DatetimeIndex(rb_taxi_tickets['Issue Date']))\n",
    "print(rb_taxi_tickets.dtypes)\n",
    "rb_taxi_tickets.head()"
   ]
  },
  {
   "cell_type": "code",
   "execution_count": 12,
   "metadata": {
    "collapsed": false
   },
   "outputs": [
    {
     "data": {
      "text/plain": [
       "array([ 25.])"
      ]
     },
     "execution_count": 12,
     "metadata": {},
     "output_type": "execute_result"
    }
   ],
   "source": [
    "rb_taxi_tickets['Ticket Cost'].unique()"
   ]
  },
  {
   "cell_type": "code",
   "execution_count": 17,
   "metadata": {
    "collapsed": false
   },
   "outputs": [
    {
     "data": {
      "text/plain": [
       "array([ 25.,  75.])"
      ]
     },
     "execution_count": 17,
     "metadata": {},
     "output_type": "execute_result"
    }
   ],
   "source": [
    "# For all residential taxi tickets given after 04/01/2014, set the Ticket Cost to $75.00\n",
    "rb_taxi_tickets.loc[(rb_taxi_tickets['Issue Date'] >= '2014-04-01') & (rb_taxi_tickets['Violation Code'] == '0964170A'),'Ticket Cost'] = 75.00\n",
    "rb_taxi_tickets['Ticket Cost'].unique()"
   ]
  },
  {
   "cell_type": "code",
   "execution_count": 19,
   "metadata": {
    "collapsed": false
   },
   "outputs": [
    {
     "name": "stdout",
     "output_type": "stream",
     "text": [
      "2016-03-10 10:36:00\n",
      "2009-01-01 06:07:00\n"
     ]
    }
   ],
   "source": [
    "# Start and end date for tickets in this dataset\n",
    "print(rb_taxi_tickets['Issue Date'].max())\n",
    "print(rb_taxi_tickets['Issue Date'].min())"
   ]
  },
  {
   "cell_type": "code",
   "execution_count": 20,
   "metadata": {
    "collapsed": false
   },
   "outputs": [
    {
     "data": {
      "text/plain": [
       "array(['Paid', 'Notice', 'Dismissed', 'Define', 'Bankruptcy', 'Court',\n",
       "       'Hearing Req'], dtype=object)"
      ]
     },
     "execution_count": 20,
     "metadata": {},
     "output_type": "execute_result"
    }
   ],
   "source": [
    "# Some tickets were unpaid, looking at all statuses in Ticket Queue\n",
    "rb_taxi_tickets['Ticket Queue'].unique()"
   ]
  },
  {
   "cell_type": "code",
   "execution_count": 21,
   "metadata": {
    "collapsed": true
   },
   "outputs": [],
   "source": [
    "rb_taxi_tickets.to_csv('taxi_ticket_data/residential_business_parking/taxi_tickets_res_bus_cost.csv', index=False)"
   ]
  },
  {
   "cell_type": "markdown",
   "metadata": {},
   "source": [
    "## Taxi Ticket Status - Residential and Business \n",
    "\n",
    "### Breaking down by paid, dismissed, etc."
   ]
  },
  {
   "cell_type": "code",
   "execution_count": 22,
   "metadata": {
    "collapsed": false
   },
   "outputs": [
    {
     "data": {
      "text/plain": [
       "<matplotlib.axes._subplots.AxesSubplot at 0x1067a0310>"
      ]
     },
     "execution_count": 22,
     "metadata": {},
     "output_type": "execute_result"
    },
    {
     "data": {
      "image/png": "[encoded data removed]",
      "text/plain": [
       "<matplotlib.figure.Figure at 0x105bd7690>"
      ]
     },
     "metadata": {},
     "output_type": "display_data"
    }
   ],
   "source": [
    "rb_taxi_ticket_status = rb_taxi_tickets.groupby(['Ticket Queue'])['Ticket Number'].count()\n",
    "rb_taxi_ticket_status.plot(kind='pie',autopct='%1.1f%%', fontsize=16)"
   ]
  },
  {
   "cell_type": "markdown",
   "metadata": {},
   "source": [
    "## Total Cost of Residential and Business Tickets\n",
    "\n",
    "Breaking down tickets by category, then getting the total revenue from tickets paid from taxi drivers for residential and business street parking"
   ]
  },
  {
   "cell_type": "code",
   "execution_count": 23,
   "metadata": {
    "collapsed": false
   },
   "outputs": [
    {
     "name": "stdout",
     "output_type": "stream",
     "text": [
      "(51740, 17)\n",
      "(34613, 17)\n"
     ]
    }
   ],
   "source": [
    "print(rb_taxi_tickets.shape)\n",
    "rb_paid_taxi_tickets = rb_taxi_tickets[rb_taxi_tickets['Ticket Queue'] == 'Paid']\n",
    "print(rb_paid_taxi_tickets.shape)"
   ]
  },
  {
   "cell_type": "code",
   "execution_count": 25,
   "metadata": {
    "collapsed": false
   },
   "outputs": [
    {
     "name": "stdout",
     "output_type": "stream",
     "text": [
      "Number of paid residential parking taxi tickets: 25797\n",
      "Total revenue from paid residential parking taxi tickets: $804,575.00\n",
      "\n",
      "Number of paid business street parking taxi tickets: 8816\n",
      "Total revenue from paid business street parking taxi tickets: $220,400.00\n",
      "\n",
      "Number of paid residential and business street parking taxi tickets: 34613\n",
      "Total amount from paid residential and business steet parking taxi tickets: $1,024,975.00\n"
     ]
    }
   ],
   "source": [
    "res_ticket_count = rb_paid_taxi_tickets[rb_paid_taxi_tickets['Violation Code'] == '0964170A']['Ticket Number'].count()\n",
    "res_ticket_amount = rb_paid_taxi_tickets[rb_paid_taxi_tickets['Violation Code'] == '0964170A']['Ticket Cost'].sum()\n",
    "\n",
    "bus_ticket_count = rb_paid_taxi_tickets[rb_paid_taxi_tickets['Violation Code'] == '0964170B']['Ticket Number'].count()\n",
    "bus_ticket_amount = rb_paid_taxi_tickets[rb_paid_taxi_tickets['Violation Code'] == '0964170B']['Ticket Cost'].sum()\n",
    "\n",
    "total_ticket_count = rb_paid_taxi_tickets['Ticket Number'].count()\n",
    "total_ticket_amount = rb_paid_taxi_tickets['Ticket Cost'].sum()\n",
    "\n",
    "print('Number of paid residential parking taxi tickets: {}'.format(res_ticket_count))\n",
    "print('Total revenue from paid residential parking taxi tickets: ${:,.2f}'.format(res_ticket_amount))\n",
    "\n",
    "print('\\nNumber of paid business street parking taxi tickets: {}'.format(bus_ticket_count))\n",
    "print('Total revenue from paid business street parking taxi tickets: ${:,.2f}'.format(bus_ticket_amount))\n",
    "\n",
    "print('\\nNumber of paid residential and business street parking taxi tickets: {}'.format(total_ticket_count))\n",
    "print('Total amount from paid residential and business steet parking taxi tickets: ${:,.2f}'.format(total_ticket_amount))"
   ]
  },
  {
   "cell_type": "markdown",
   "metadata": {},
   "source": [
    "## Ticket Revenue by Ward"
   ]
  },
  {
   "cell_type": "markdown",
   "metadata": {},
   "source": [
    "### Residential Tickets\n",
    "#### Notes\n",
    "* 40th ward has most tickets for both categories. Worth looking into whether enforcement is higher here, or if a higher amount of drivers live in the ward.\n",
    "    * Especially given that it's even more disproportionate in business street tickets"
   ]
  },
  {
   "cell_type": "code",
   "execution_count": 28,
   "metadata": {
    "collapsed": false
   },
   "outputs": [
    {
     "data": {
      "text/plain": [
       "<matplotlib.axes._subplots.AxesSubplot at 0x10b5ce7d0>"
      ]
     },
     "execution_count": 28,
     "metadata": {},
     "output_type": "execute_result"
    },
    {
     "data": {
      "image/png": "[encoded data removed]",
      "text/plain": [
       "<matplotlib.figure.Figure at 0x10c69f210>"
      ]
     },
     "metadata": {},
     "output_type": "display_data"
    }
   ],
   "source": [
    "res_tickets_ward = rb_paid_taxi_tickets[rb_paid_taxi_tickets['Violation Code'] == '0964170A'].groupby(['Ward'])['Ticket Cost'].sum()\n",
    "top_res_tickets_ward = res_tickets_ward.sort_values(ascending=False)\n",
    "top_res_tickets_ward = top_res_tickets_ward[:10]\n",
    "top_res_tickets_ward.plot(kind='bar')"
   ]
  },
  {
   "cell_type": "markdown",
   "metadata": {},
   "source": [
    "### Business Street Tickets\n",
    "\n",
    "\n",
    "#### Notes\n",
    "* The 40th ward has far and away the most revenue for business street tickets on taxis. It has some exemptions, but would be worth considering adding more\n",
    "    * Look at which streets in 40th ward have the highest amount of tickets, consider exemptions on those\n",
    "* 46 and 49 are listed as being exempt from business street parking for taxis, look at when that was amended in the ordinance, see if the tickets occured after the exemption was in place"
   ]
  },
  {
   "cell_type": "code",
   "execution_count": 29,
   "metadata": {
    "collapsed": false
   },
   "outputs": [
    {
     "data": {
      "text/plain": [
       "<matplotlib.axes._subplots.AxesSubplot at 0x1067a0210>"
      ]
     },
     "execution_count": 29,
     "metadata": {},
     "output_type": "execute_result"
    },
    {
     "data": {
      "image/png": "[encoded data removed]",
      "text/plain": [
       "<matplotlib.figure.Figure at 0x10c8073d0>"
      ]
     },
     "metadata": {},
     "output_type": "display_data"
    }
   ],
   "source": [
    "bus_tickets_ward = rb_paid_taxi_tickets[rb_paid_taxi_tickets['Violation Code'] == '0964170B'].groupby(['Ward'])['Ticket Cost'].sum()\n",
    "top_bus_tickets_ward = bus_tickets_ward.sort_values(ascending=False)\n",
    "top_bus_tickets_ward = top_bus_tickets_ward[:10]\n",
    "top_bus_tickets_ward.plot(kind='bar')"
   ]
  },
  {
   "cell_type": "markdown",
   "metadata": {},
   "source": [
    "### Both Ticket Categories\n",
    "#### Notes \n",
    "* Tickets across wards smooth out dramatically when combined"
   ]
  },
  {
   "cell_type": "code",
   "execution_count": 31,
   "metadata": {
    "collapsed": false
   },
   "outputs": [
    {
     "data": {
      "text/plain": [
       "<matplotlib.axes._subplots.AxesSubplot at 0x10c6bce50>"
      ]
     },
     "execution_count": 31,
     "metadata": {},
     "output_type": "execute_result"
    },
    {
     "data": {
      "image/png": "[encoded data removed]",
      "text/plain": [
       "<matplotlib.figure.Figure at 0x10ca80cd0>"
      ]
     },
     "metadata": {},
     "output_type": "display_data"
    }
   ],
   "source": [
    "both_tickets_ward = rb_paid_taxi_tickets.groupby(['Ward'])['Ticket Cost'].sum()\n",
    "top_both_tickets_ward = both_tickets_ward.sort_values(ascending=False)\n",
    "top_both_tickets_ward = top_both_tickets_ward[:10]\n",
    "top_both_tickets_ward.plot(kind='bar')"
   ]
  },
  {
   "cell_type": "markdown",
   "metadata": {},
   "source": [
    "## Unpaid Tickets for Residential and Business Parking\n",
    "\n",
    "### Looking at reasons, breakdown\n",
    "#### Notes\n",
    "* Many are left in \"Notice\" category, assuming they were just ignored"
   ]
  },
  {
   "cell_type": "code",
   "execution_count": 40,
   "metadata": {
    "collapsed": false
   },
   "outputs": [
    {
     "data": {
      "text/plain": [
       "<matplotlib.axes._subplots.AxesSubplot at 0x10d86e990>"
      ]
     },
     "execution_count": 40,
     "metadata": {},
     "output_type": "execute_result"
    },
    {
     "data": {
      "image/png": "[encoded data removed]",
      "text/plain": [
       "<matplotlib.figure.Figure at 0x10dd0c350>"
      ]
     },
     "metadata": {},
     "output_type": "display_data"
    }
   ],
   "source": [
    "rb_unpaid_tickets = rb_taxi_tickets[rb_taxi_tickets['Ticket Queue'] != 'Paid']\n",
    "rb_unpaid_status = rb_unpaid_tickets.groupby(['Ticket Queue'])['Ticket Number'].count()\n",
    "rb_unpaid_status.plot(kind='pie',autopct='%1.1f%%', fontsize=16)"
   ]
  },
  {
   "cell_type": "code",
   "execution_count": 44,
   "metadata": {
    "collapsed": false
   },
   "outputs": [
    {
     "name": "stdout",
     "output_type": "stream",
     "text": [
      "Total number of tickets with status of \"Notice\": 5792\n",
      "Total number of tickets with status of \"Notice\" before 2016: 5425\n"
     ]
    }
   ],
   "source": [
    "print('Total number of tickets with status of \"Notice\": {}'.format(rb_unpaid_tickets.loc[(rb_unpaid_tickets['Ticket Queue'] == 'Notice'),'Ticket Cost'].count()))\n",
    "count_notice_pre_16 = rb_unpaid_tickets.loc[(rb_unpaid_tickets['Year'] < 2016) & (rb_unpaid_tickets['Ticket Queue'] == 'Notice'),'Ticket Cost'].count()\n",
    "print('Total number of tickets with status of \"Notice\" before 2016: {}'.format(count_notice_pre_16))"
   ]
  },
  {
   "cell_type": "markdown",
   "metadata": {},
   "source": [
    "## Tickets by License Plate\n"
   ]
  },
  {
   "cell_type": "code",
   "execution_count": 34,
   "metadata": {
    "collapsed": false
   },
   "outputs": [
    {
     "name": "stdout",
     "output_type": "stream",
     "text": [
      "Mean tickets per plate number from 2009 to March 10, 2016: 5.96827411168\n"
     ]
    },
    {
     "data": {
      "text/plain": [
       "<matplotlib.axes._subplots.AxesSubplot at 0x10ca41dd0>"
      ]
     },
     "execution_count": 34,
     "metadata": {},
     "output_type": "execute_result"
    },
    {
     "data": {
      "image/png": "[encoded data removed]",
      "text/plain": [
       "<matplotlib.figure.Figure at 0x10d350710>"
      ]
     },
     "metadata": {},
     "output_type": "display_data"
    }
   ],
   "source": [
    "rb_taxi_tickets_plate = rb_taxi_tickets.groupby(['License Plate Number'])['Ticket Number'].count()\n",
    "top_tickets_plate = rb_taxi_tickets_plate.sort_values(ascending=False)\n",
    "top_tickets_plate = top_tickets_plate[:10]\n",
    "\n",
    "mean_tickets_plate = rb_taxi_tickets_plate.mean()\n",
    "print('Mean tickets per plate number from 2009 to March 10, 2016: {}'.format(mean_tickets_plate))\n",
    "top_tickets_plate.plot(kind='bar')"
   ]
  },
  {
   "cell_type": "markdown",
   "metadata": {},
   "source": [
    "### Tickets by Plate and Year"
   ]
  },
  {
   "cell_type": "code",
   "execution_count": 36,
   "metadata": {
    "collapsed": false
   },
   "outputs": [
    {
     "data": {
      "text/html": [
       "<div>\n",
       "<table border=\"1\" class=\"dataframe\">\n",
       "  <thead>\n",
       "    <tr style=\"text-align: right;\">\n",
       "      <th></th>\n",
       "      <th>Ticket Number</th>\n",
       "      <th>License Plate Number</th>\n",
       "      <th>License Plate State</th>\n",
       "      <th>License Plate Type</th>\n",
       "      <th>Ticket Make</th>\n",
       "      <th>Issue Date</th>\n",
       "      <th>Violation Location</th>\n",
       "      <th>Violation Code</th>\n",
       "      <th>Violation Description</th>\n",
       "      <th>Badge</th>\n",
       "      <th>Unit</th>\n",
       "      <th>Ticket Queue</th>\n",
       "      <th>Hearing Dispo</th>\n",
       "      <th>Latitude</th>\n",
       "      <th>Longitude</th>\n",
       "      <th>Ward</th>\n",
       "      <th>Ticket Cost</th>\n",
       "      <th>Year</th>\n",
       "    </tr>\n",
       "  </thead>\n",
       "  <tbody>\n",
       "    <tr>\n",
       "      <th>2009-01-06 06:53:00</th>\n",
       "      <td>54574383</td>\n",
       "      <td>5141TX</td>\n",
       "      <td>IL</td>\n",
       "      <td>TXI</td>\n",
       "      <td>MERC</td>\n",
       "      <td>2009-01-06 06:53:00</td>\n",
       "      <td>4707 N PULASKI</td>\n",
       "      <td>0964170B</td>\n",
       "      <td>TRUCK,MOTOR HOME, BUS BUSINESS STREET</td>\n",
       "      <td>12769</td>\n",
       "      <td>17</td>\n",
       "      <td>Paid</td>\n",
       "      <td>Did Not Challenge</td>\n",
       "      <td>41.966575</td>\n",
       "      <td>-87.727904</td>\n",
       "      <td>39</td>\n",
       "      <td>25.0</td>\n",
       "      <td>2009</td>\n",
       "    </tr>\n",
       "    <tr>\n",
       "      <th>2009-01-05 04:19:00</th>\n",
       "      <td>55388795</td>\n",
       "      <td>25495TX</td>\n",
       "      <td>IL</td>\n",
       "      <td>TXI</td>\n",
       "      <td>MERC</td>\n",
       "      <td>2009-01-05 04:19:00</td>\n",
       "      <td>5721 W EASTWOOD</td>\n",
       "      <td>0964170A</td>\n",
       "      <td>TRUCK,RV,BUS, OR TAXI RESIDENTIAL STREET</td>\n",
       "      <td>13250</td>\n",
       "      <td>16</td>\n",
       "      <td>Notice</td>\n",
       "      <td>Did Not Challenge</td>\n",
       "      <td>41.964930</td>\n",
       "      <td>-87.770331</td>\n",
       "      <td>38</td>\n",
       "      <td>25.0</td>\n",
       "      <td>2009</td>\n",
       "    </tr>\n",
       "    <tr>\n",
       "      <th>2009-01-18 22:04:00</th>\n",
       "      <td>55984582</td>\n",
       "      <td>3529TX</td>\n",
       "      <td>IL</td>\n",
       "      <td>TXI</td>\n",
       "      <td>MERZ</td>\n",
       "      <td>2009-01-18 22:04:00</td>\n",
       "      <td>2822 W BRYN MAWR</td>\n",
       "      <td>0964170A</td>\n",
       "      <td>TRUCK,RV,BUS, OR TAXI RESIDENTIAL STREET</td>\n",
       "      <td>19838</td>\n",
       "      <td>20</td>\n",
       "      <td>Paid</td>\n",
       "      <td>Did Not Challenge</td>\n",
       "      <td>41.983193</td>\n",
       "      <td>-87.699957</td>\n",
       "      <td>40</td>\n",
       "      <td>25.0</td>\n",
       "      <td>2009</td>\n",
       "    </tr>\n",
       "    <tr>\n",
       "      <th>2009-01-09 06:35:00</th>\n",
       "      <td>55571353</td>\n",
       "      <td>5493TX</td>\n",
       "      <td>IL</td>\n",
       "      <td>TXI</td>\n",
       "      <td>CHEV</td>\n",
       "      <td>2009-01-09 06:35:00</td>\n",
       "      <td>5433 N WESTERN</td>\n",
       "      <td>0964170B</td>\n",
       "      <td>TRUCK,MOTOR HOME, BUS BUSINESS STREET</td>\n",
       "      <td>3357</td>\n",
       "      <td>20</td>\n",
       "      <td>Paid</td>\n",
       "      <td>Liable</td>\n",
       "      <td>41.980131</td>\n",
       "      <td>-87.689240</td>\n",
       "      <td>40</td>\n",
       "      <td>25.0</td>\n",
       "      <td>2009</td>\n",
       "    </tr>\n",
       "    <tr>\n",
       "      <th>2009-01-19 07:30:00</th>\n",
       "      <td>55772826</td>\n",
       "      <td>1262TX</td>\n",
       "      <td>IL</td>\n",
       "      <td>TXI</td>\n",
       "      <td>FORD</td>\n",
       "      <td>2009-01-19 07:30:00</td>\n",
       "      <td>6320  RIDGE</td>\n",
       "      <td>0964170A</td>\n",
       "      <td>TRUCK,RV,BUS, OR TAXI RESIDENTIAL STREET</td>\n",
       "      <td>17392</td>\n",
       "      <td>24</td>\n",
       "      <td>Paid</td>\n",
       "      <td>Did Not Challenge</td>\n",
       "      <td>42.010156</td>\n",
       "      <td>-87.682322</td>\n",
       "      <td>49</td>\n",
       "      <td>25.0</td>\n",
       "      <td>2009</td>\n",
       "    </tr>\n",
       "  </tbody>\n",
       "</table>\n",
       "</div>"
      ],
      "text/plain": [
       "                     Ticket Number License Plate Number License Plate State  \\\n",
       "2009-01-06 06:53:00       54574383               5141TX                  IL   \n",
       "2009-01-05 04:19:00       55388795              25495TX                  IL   \n",
       "2009-01-18 22:04:00       55984582               3529TX                  IL   \n",
       "2009-01-09 06:35:00       55571353               5493TX                  IL   \n",
       "2009-01-19 07:30:00       55772826               1262TX                  IL   \n",
       "\n",
       "                    License Plate Type Ticket Make          Issue Date  \\\n",
       "2009-01-06 06:53:00                TXI        MERC 2009-01-06 06:53:00   \n",
       "2009-01-05 04:19:00                TXI        MERC 2009-01-05 04:19:00   \n",
       "2009-01-18 22:04:00                TXI        MERZ 2009-01-18 22:04:00   \n",
       "2009-01-09 06:35:00                TXI        CHEV 2009-01-09 06:35:00   \n",
       "2009-01-19 07:30:00                TXI        FORD 2009-01-19 07:30:00   \n",
       "\n",
       "                    Violation Location Violation Code  \\\n",
       "2009-01-06 06:53:00     4707 N PULASKI       0964170B   \n",
       "2009-01-05 04:19:00    5721 W EASTWOOD       0964170A   \n",
       "2009-01-18 22:04:00   2822 W BRYN MAWR       0964170A   \n",
       "2009-01-09 06:35:00     5433 N WESTERN       0964170B   \n",
       "2009-01-19 07:30:00        6320  RIDGE       0964170A   \n",
       "\n",
       "                                        Violation Description  Badge Unit  \\\n",
       "2009-01-06 06:53:00     TRUCK,MOTOR HOME, BUS BUSINESS STREET  12769   17   \n",
       "2009-01-05 04:19:00  TRUCK,RV,BUS, OR TAXI RESIDENTIAL STREET  13250   16   \n",
       "2009-01-18 22:04:00  TRUCK,RV,BUS, OR TAXI RESIDENTIAL STREET  19838   20   \n",
       "2009-01-09 06:35:00     TRUCK,MOTOR HOME, BUS BUSINESS STREET   3357   20   \n",
       "2009-01-19 07:30:00  TRUCK,RV,BUS, OR TAXI RESIDENTIAL STREET  17392   24   \n",
       "\n",
       "                    Ticket Queue      Hearing Dispo   Latitude  Longitude  \\\n",
       "2009-01-06 06:53:00         Paid  Did Not Challenge  41.966575 -87.727904   \n",
       "2009-01-05 04:19:00       Notice  Did Not Challenge  41.964930 -87.770331   \n",
       "2009-01-18 22:04:00         Paid  Did Not Challenge  41.983193 -87.699957   \n",
       "2009-01-09 06:35:00         Paid             Liable  41.980131 -87.689240   \n",
       "2009-01-19 07:30:00         Paid  Did Not Challenge  42.010156 -87.682322   \n",
       "\n",
       "                     Ward  Ticket Cost  Year  \n",
       "2009-01-06 06:53:00    39         25.0  2009  \n",
       "2009-01-05 04:19:00    38         25.0  2009  \n",
       "2009-01-18 22:04:00    40         25.0  2009  \n",
       "2009-01-09 06:35:00    40         25.0  2009  \n",
       "2009-01-19 07:30:00    49         25.0  2009  "
      ]
     },
     "execution_count": 36,
     "metadata": {},
     "output_type": "execute_result"
    }
   ],
   "source": [
    "rb_taxi_tickets['Year'] = rb_taxi_tickets.index.year\n",
    "rb_taxi_tickets.head()"
   ]
  },
  {
   "cell_type": "code",
   "execution_count": 38,
   "metadata": {
    "collapsed": false
   },
   "outputs": [
    {
     "name": "stdout",
     "output_type": "stream",
     "text": [
      "Mean yearly tickets per plate number from 2009 to March 10, 2016: 2.3070371031\n"
     ]
    },
    {
     "data": {
      "text/plain": [
       "<matplotlib.axes._subplots.AxesSubplot at 0x10d5bb710>"
      ]
     },
     "execution_count": 38,
     "metadata": {},
     "output_type": "execute_result"
    },
    {
     "data": {
      "image/png": "[encoded data removed]",
      "text/plain": [
       "<matplotlib.figure.Figure at 0x10cce4110>"
      ]
     },
     "metadata": {},
     "output_type": "display_data"
    }
   ],
   "source": [
    "rb_taxi_tickets_plate_year = rb_taxi_tickets.groupby(['License Plate Number', 'Year'])['Ticket Number'].count()\n",
    "top_tickets_plate_year = rb_taxi_tickets_plate_year.sort_values(ascending=False)\n",
    "top_tickets_plate_year = top_tickets_plate_year[:10]\n",
    "\n",
    "mean_tickets_plate_year = rb_taxi_tickets_plate_year.mean()\n",
    "print('Mean yearly tickets per plate number from 2009 to March 10, 2016: {}'.format(mean_tickets_plate_year))\n",
    "top_tickets_plate_year.plot(kind='bar')"
   ]
  },
  {
   "cell_type": "markdown",
   "metadata": {},
   "source": [
    "### Tickets by Plate, Year\n",
    "#### Notes\n",
    "* Taxi drivers had a mean of 2.3 tickets for residential or business street parking a year\n",
    "* Mean yearly cost for drivers (by plate) from these two ticket types was \\$72.53"
   ]
  },
  {
   "cell_type": "code",
   "execution_count": 39,
   "metadata": {
    "collapsed": false
   },
   "outputs": [
    {
     "name": "stdout",
     "output_type": "stream",
     "text": [
      "Mean yearly cost for these tickets per plate number from 2009 to March 10, 2016: 72.5283178737\n"
     ]
    },
    {
     "data": {
      "text/plain": [
       "<matplotlib.axes._subplots.AxesSubplot at 0x10d5acb10>"
      ]
     },
     "execution_count": 39,
     "metadata": {},
     "output_type": "execute_result"
    },
    {
     "data": {
      "image/png": "[encoded data removed]",
      "text/plain": [
       "<matplotlib.figure.Figure at 0x10d5bb390>"
      ]
     },
     "metadata": {},
     "output_type": "display_data"
    }
   ],
   "source": [
    "rb_plate_year_cost = rb_taxi_tickets.groupby(['License Plate Number', 'Year'])['Ticket Cost'].sum()\n",
    "top_plate_year_cost = rb_plate_year_cost.sort_values(ascending=False)\n",
    "top_plate_year_cost = top_plate_year_cost[:10]\n",
    "\n",
    "mean_cost_plate_year = rb_plate_year_cost.mean()\n",
    "print('Mean yearly cost for these tickets per plate number from 2009 to March 10, 2016: {}'.format(mean_cost_plate_year))\n",
    "top_plate_year_cost.plot(kind='bar')"
   ]
  }
 ],
 "metadata": {
  "kernelspec": {
   "display_name": "Python 2",
   "language": "python",
   "name": "python2"
  },
  "language_info": {
   "codemirror_mode": {
    "name": "ipython",
    "version": 2
   },
   "file_extension": ".py",
   "mimetype": "text/x-python",
   "name": "python",
   "nbconvert_exporter": "python",
   "pygments_lexer": "ipython2",
   "version": "2.7.10"
  }
 },
 "nbformat": 4,
 "nbformat_minor": 0
}
