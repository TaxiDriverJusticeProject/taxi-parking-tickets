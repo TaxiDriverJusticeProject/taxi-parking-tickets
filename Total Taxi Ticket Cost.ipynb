{
 "cells": [
  {
   "cell_type": "code",
   "execution_count": 1,
   "metadata": {
    "collapsed": true
   },
   "outputs": [],
   "source": [
    "from __future__ import absolute_import, division, print_function, unicode_literals\n",
    "import numpy as np\n",
    "import pandas as pd\n",
    "import matplotlib.pyplot as plt\n",
    "import seaborn as sns\n",
    "%matplotlib inline"
   ]
  },
  {
   "cell_type": "code",
   "execution_count": 2,
   "metadata": {
    "collapsed": false
   },
   "outputs": [
    {
     "name": "stdout",
     "output_type": "stream",
     "text": [
      "(261936, 16)\n",
      "Ticket Number              int64\n",
      "License Plate Number      object\n",
      "License Plate State       object\n",
      "License Plate Type        object\n",
      "Ticket Make               object\n",
      "Issue Date                object\n",
      "Violation Location        object\n",
      "Violation Code            object\n",
      "Violation Description     object\n",
      "Badge                     object\n",
      "Unit                      object\n",
      "Ticket Queue              object\n",
      "Hearing Dispo             object\n",
      "Latitude                 float64\n",
      "Longitude                float64\n",
      "Ward                       int64\n",
      "dtype: object\n"
     ]
    },
    {
     "name": "stderr",
     "output_type": "stream",
     "text": [
      "/usr/local/lib/python2.7/site-packages/IPython/core/interactiveshell.py:2723: DtypeWarning: Columns (10) have mixed types. Specify dtype option on import or set low_memory=False.\n",
      "  interactivity=interactivity, compiler=compiler, result=result)\n"
     ]
    },
    {
     "data": {
      "text/html": [
       "<div>\n",
       "<table border=\"1\" class=\"dataframe\">\n",
       "  <thead>\n",
       "    <tr style=\"text-align: right;\">\n",
       "      <th></th>\n",
       "      <th>Ticket Number</th>\n",
       "      <th>License Plate Number</th>\n",
       "      <th>License Plate State</th>\n",
       "      <th>License Plate Type</th>\n",
       "      <th>Ticket Make</th>\n",
       "      <th>Issue Date</th>\n",
       "      <th>Violation Location</th>\n",
       "      <th>Violation Code</th>\n",
       "      <th>Violation Description</th>\n",
       "      <th>Badge</th>\n",
       "      <th>Unit</th>\n",
       "      <th>Ticket Queue</th>\n",
       "      <th>Hearing Dispo</th>\n",
       "      <th>Latitude</th>\n",
       "      <th>Longitude</th>\n",
       "      <th>Ward</th>\n",
       "    </tr>\n",
       "  </thead>\n",
       "  <tbody>\n",
       "    <tr>\n",
       "      <th>0</th>\n",
       "      <td>55884862</td>\n",
       "      <td>4079TX</td>\n",
       "      <td>IL</td>\n",
       "      <td>TXI</td>\n",
       "      <td>FORD</td>\n",
       "      <td>01/02/2009 10:05 am</td>\n",
       "      <td>5210 N BROADWAY</td>\n",
       "      <td>0964190</td>\n",
       "      <td>EXPIRED METER OR OVERSTAY</td>\n",
       "      <td>8117</td>\n",
       "      <td>20</td>\n",
       "      <td>Paid</td>\n",
       "      <td>Did Not Challenge</td>\n",
       "      <td>41.976507</td>\n",
       "      <td>-87.659944</td>\n",
       "      <td>48</td>\n",
       "    </tr>\n",
       "    <tr>\n",
       "      <th>1</th>\n",
       "      <td>54574383</td>\n",
       "      <td>5141TX</td>\n",
       "      <td>IL</td>\n",
       "      <td>TXI</td>\n",
       "      <td>MERC</td>\n",
       "      <td>01/06/2009 06:53 am</td>\n",
       "      <td>4707 N PULASKI</td>\n",
       "      <td>0964170B</td>\n",
       "      <td>TRUCK,MOTOR HOME, BUS BUSINESS STREET</td>\n",
       "      <td>12769</td>\n",
       "      <td>17</td>\n",
       "      <td>Paid</td>\n",
       "      <td>Did Not Challenge</td>\n",
       "      <td>41.966575</td>\n",
       "      <td>-87.727904</td>\n",
       "      <td>39</td>\n",
       "    </tr>\n",
       "    <tr>\n",
       "      <th>2</th>\n",
       "      <td>55388795</td>\n",
       "      <td>25495TX</td>\n",
       "      <td>IL</td>\n",
       "      <td>TXI</td>\n",
       "      <td>MERC</td>\n",
       "      <td>01/05/2009 04:19 am</td>\n",
       "      <td>5721 W EASTWOOD</td>\n",
       "      <td>0964170A</td>\n",
       "      <td>TRUCK,RV,BUS, OR TAXI RESIDENTIAL STREET</td>\n",
       "      <td>13250</td>\n",
       "      <td>16</td>\n",
       "      <td>Notice</td>\n",
       "      <td>Did Not Challenge</td>\n",
       "      <td>41.964930</td>\n",
       "      <td>-87.770331</td>\n",
       "      <td>38</td>\n",
       "    </tr>\n",
       "    <tr>\n",
       "      <th>3</th>\n",
       "      <td>9177658970</td>\n",
       "      <td>25368TX</td>\n",
       "      <td>IL</td>\n",
       "      <td>TXI</td>\n",
       "      <td>OLDS</td>\n",
       "      <td>01/10/2009 10:30 am</td>\n",
       "      <td>6410 N CLAREMONT AV</td>\n",
       "      <td>0964190</td>\n",
       "      <td>EXPIRED METER OR OVERSTAY</td>\n",
       "      <td>197</td>\n",
       "      <td>498</td>\n",
       "      <td>Paid</td>\n",
       "      <td>Did Not Challenge</td>\n",
       "      <td>41.997942</td>\n",
       "      <td>-87.688741</td>\n",
       "      <td>50</td>\n",
       "    </tr>\n",
       "    <tr>\n",
       "      <th>4</th>\n",
       "      <td>55835485</td>\n",
       "      <td>3001TX</td>\n",
       "      <td>IL</td>\n",
       "      <td>TXI</td>\n",
       "      <td>FORD</td>\n",
       "      <td>01/01/2009 06:35 pm</td>\n",
       "      <td>36 W 26TH</td>\n",
       "      <td>0976160F</td>\n",
       "      <td>EXPIRED PLATES OR TEMPORARY REGISTRATION</td>\n",
       "      <td>19503</td>\n",
       "      <td>21</td>\n",
       "      <td>Bankruptcy</td>\n",
       "      <td>Did Not Challenge</td>\n",
       "      <td>41.845162</td>\n",
       "      <td>-87.628529</td>\n",
       "      <td>3</td>\n",
       "    </tr>\n",
       "  </tbody>\n",
       "</table>\n",
       "</div>"
      ],
      "text/plain": [
       "   Ticket Number License Plate Number License Plate State License Plate Type  \\\n",
       "0       55884862               4079TX                  IL                TXI   \n",
       "1       54574383               5141TX                  IL                TXI   \n",
       "2       55388795              25495TX                  IL                TXI   \n",
       "3     9177658970              25368TX                  IL                TXI   \n",
       "4       55835485               3001TX                  IL                TXI   \n",
       "\n",
       "  Ticket Make           Issue Date   Violation Location Violation Code  \\\n",
       "0        FORD  01/02/2009 10:05 am      5210 N BROADWAY        0964190   \n",
       "1        MERC  01/06/2009 06:53 am       4707 N PULASKI       0964170B   \n",
       "2        MERC  01/05/2009 04:19 am      5721 W EASTWOOD       0964170A   \n",
       "3        OLDS  01/10/2009 10:30 am  6410 N CLAREMONT AV        0964190   \n",
       "4        FORD  01/01/2009 06:35 pm            36 W 26TH       0976160F   \n",
       "\n",
       "                      Violation Description  Badge Unit Ticket Queue  \\\n",
       "0                 EXPIRED METER OR OVERSTAY   8117   20         Paid   \n",
       "1     TRUCK,MOTOR HOME, BUS BUSINESS STREET  12769   17         Paid   \n",
       "2  TRUCK,RV,BUS, OR TAXI RESIDENTIAL STREET  13250   16       Notice   \n",
       "3                 EXPIRED METER OR OVERSTAY    197  498         Paid   \n",
       "4  EXPIRED PLATES OR TEMPORARY REGISTRATION  19503   21   Bankruptcy   \n",
       "\n",
       "       Hearing Dispo   Latitude  Longitude  Ward  \n",
       "0  Did Not Challenge  41.976507 -87.659944    48  \n",
       "1  Did Not Challenge  41.966575 -87.727904    39  \n",
       "2  Did Not Challenge  41.964930 -87.770331    38  \n",
       "3  Did Not Challenge  41.997942 -87.688741    50  \n",
       "4  Did Not Challenge  41.845162 -87.628529     3  "
      ]
     },
     "execution_count": 2,
     "metadata": {},
     "output_type": "execute_result"
    }
   ],
   "source": [
    "taxi_tickets = pd.read_csv('taxi_ticket_data/taxi_tickets_by_ward.csv')\n",
    "print(taxi_tickets.shape)\n",
    "print(taxi_tickets.dtypes)\n",
    "taxi_tickets.head()"
   ]
  },
  {
   "cell_type": "markdown",
   "metadata": {},
   "source": [
    "## Ticket Fine Schedule\n",
    "\n",
    "Pulled from city of Chicago website: [Parking Violations](http://www.cityofchicago.org/city/en/depts/fin/supp_info/revenue/general_parking_ticketinformation/violations.html)\n",
    "\n",
    "Three codes weren't matched up evenly, mainly because of specificity:\n",
    "* 0964190 - Expired meter, normally only specified as central business or not, assuming non-business here at \\$50.00\n",
    "* 0964125 - No city sticker or improper display, listed as more specific by size, going with smaller size vehicle at \\$200.00\n",
    "* 0964050J - Disabled parking zone, normal code doesn't have the \"J\" at the end, using its price at \\$250.00\n",
    "\n",
    "Several ticket types had their fine amounts modified in a new city budget which took effect April of 2014, and will be adjusted. No official source found currently for the specifics, pulled from this [Chicago Tribune article](http://www.chicagotribune.com/news/local/politics/chi-emanuel-to-call-for-higher-parking-fines-towing-fees-20131022-story.html) (excluding those which aren't at the described price currently):\n",
    "\n",
    "* 0964170A - Previously \\$25, but \\$75 after April 2014\n",
    "* 0964050/0964050J - Previously \\$200, but \\$250 after April 2014\n",
    "* 0964080A - Previously \\$60, but \\$100 after April 2014\n",
    "* 0964100A - Previously \\$100, but \\$150 after April 2014\n",
    "\n",
    "Additionally, it seems that there was a proposal to increase the street cleaning violation (9105020) from \\$50 to \\$60, but it's still \\$50 so that's not being included"
   ]
  },
  {
   "cell_type": "code",
   "execution_count": 4,
   "metadata": {
    "collapsed": false
   },
   "outputs": [
    {
     "name": "stdout",
     "output_type": "stream",
     "text": [
      "(143, 3)\n",
      "Code            object\n",
      "Description     object\n",
      "Fine           float64\n",
      "dtype: object\n"
     ]
    },
    {
     "data": {
      "text/html": [
       "<div>\n",
       "<table border=\"1\" class=\"dataframe\">\n",
       "  <thead>\n",
       "    <tr style=\"text-align: right;\">\n",
       "      <th></th>\n",
       "      <th>Code</th>\n",
       "      <th>Description</th>\n",
       "      <th>Fine</th>\n",
       "    </tr>\n",
       "  </thead>\n",
       "  <tbody>\n",
       "    <tr>\n",
       "      <th>0</th>\n",
       "      <td>0912060</td>\n",
       "      <td>STAND, PARK, OR OTHER USE OF BUS LANE</td>\n",
       "      <td>90.0</td>\n",
       "    </tr>\n",
       "    <tr>\n",
       "      <th>1</th>\n",
       "      <td>0912060B</td>\n",
       "      <td>STAND, PARK, OR OTHER USE OF BUS LANE</td>\n",
       "      <td>90.0</td>\n",
       "    </tr>\n",
       "    <tr>\n",
       "      <th>2</th>\n",
       "      <td>0940060</td>\n",
       "      <td>PARK/STAND ON BICYCLE PATH</td>\n",
       "      <td>150.0</td>\n",
       "    </tr>\n",
       "    <tr>\n",
       "      <th>3</th>\n",
       "      <td>0940080</td>\n",
       "      <td>PARKED/STANDING UNATTENDED W/MOTOR RUNNI</td>\n",
       "      <td>75.0</td>\n",
       "    </tr>\n",
       "    <tr>\n",
       "      <th>4</th>\n",
       "      <td>0940170</td>\n",
       "      <td>UNSAFE CONDITION</td>\n",
       "      <td>25.0</td>\n",
       "    </tr>\n",
       "  </tbody>\n",
       "</table>\n",
       "</div>"
      ],
      "text/plain": [
       "       Code                               Description   Fine\n",
       "0   0912060     STAND, PARK, OR OTHER USE OF BUS LANE   90.0\n",
       "1  0912060B     STAND, PARK, OR OTHER USE OF BUS LANE   90.0\n",
       "2   0940060                PARK/STAND ON BICYCLE PATH  150.0\n",
       "3   0940080  PARKED/STANDING UNATTENDED W/MOTOR RUNNI   75.0\n",
       "4   0940170                          UNSAFE CONDITION   25.0"
      ]
     },
     "execution_count": 4,
     "metadata": {},
     "output_type": "execute_result"
    }
   ],
   "source": [
    "ticket_fines = pd.read_csv('taxi_ticket_data/chi_parking_fines.csv')\n",
    "print(ticket_fines.shape)\n",
    "print(ticket_fines.dtypes)\n",
    "ticket_fines.head()"
   ]
  },
  {
   "cell_type": "code",
   "execution_count": 5,
   "metadata": {
    "collapsed": false
   },
   "outputs": [
    {
     "data": {
      "text/html": [
       "<div>\n",
       "<table border=\"1\" class=\"dataframe\">\n",
       "  <thead>\n",
       "    <tr style=\"text-align: right;\">\n",
       "      <th></th>\n",
       "      <th>Violation Code</th>\n",
       "      <th>Ticket Fine</th>\n",
       "    </tr>\n",
       "  </thead>\n",
       "  <tbody>\n",
       "    <tr>\n",
       "      <th>0</th>\n",
       "      <td>0912060</td>\n",
       "      <td>90.0</td>\n",
       "    </tr>\n",
       "    <tr>\n",
       "      <th>1</th>\n",
       "      <td>0912060B</td>\n",
       "      <td>90.0</td>\n",
       "    </tr>\n",
       "    <tr>\n",
       "      <th>2</th>\n",
       "      <td>0940060</td>\n",
       "      <td>150.0</td>\n",
       "    </tr>\n",
       "    <tr>\n",
       "      <th>3</th>\n",
       "      <td>0940080</td>\n",
       "      <td>75.0</td>\n",
       "    </tr>\n",
       "    <tr>\n",
       "      <th>4</th>\n",
       "      <td>0940170</td>\n",
       "      <td>25.0</td>\n",
       "    </tr>\n",
       "  </tbody>\n",
       "</table>\n",
       "</div>"
      ],
      "text/plain": [
       "  Violation Code  Ticket Fine\n",
       "0        0912060         90.0\n",
       "1       0912060B         90.0\n",
       "2        0940060        150.0\n",
       "3        0940080         75.0\n",
       "4        0940170         25.0"
      ]
     },
     "execution_count": 5,
     "metadata": {},
     "output_type": "execute_result"
    }
   ],
   "source": [
    "ticket_fines = ticket_fines[['Code', 'Fine']]\n",
    "ticket_fines = ticket_fines.rename(columns={'Code': 'Violation Code','Fine': 'Ticket Fine'})\n",
    "ticket_fines.head()"
   ]
  },
  {
   "cell_type": "code",
   "execution_count": 6,
   "metadata": {
    "collapsed": false
   },
   "outputs": [
    {
     "name": "stdout",
     "output_type": "stream",
     "text": [
      "(261936, 16)\n",
      "Ticket Number              int64\n",
      "License Plate Number      object\n",
      "License Plate State       object\n",
      "License Plate Type        object\n",
      "Ticket Make               object\n",
      "Issue Date                object\n",
      "Violation Location        object\n",
      "Violation Code            object\n",
      "Violation Description     object\n",
      "Badge                     object\n",
      "Unit                      object\n",
      "Ticket Queue              object\n",
      "Hearing Dispo             object\n",
      "Latitude                 float64\n",
      "Longitude                float64\n",
      "Ward                       int64\n",
      "Ticket Fine              float64\n",
      "dtype: object\n",
      "(261936, 17)\n"
     ]
    },
    {
     "data": {
      "text/html": [
       "<div>\n",
       "<table border=\"1\" class=\"dataframe\">\n",
       "  <thead>\n",
       "    <tr style=\"text-align: right;\">\n",
       "      <th></th>\n",
       "      <th>Ticket Number</th>\n",
       "      <th>License Plate Number</th>\n",
       "      <th>License Plate State</th>\n",
       "      <th>License Plate Type</th>\n",
       "      <th>Ticket Make</th>\n",
       "      <th>Issue Date</th>\n",
       "      <th>Violation Location</th>\n",
       "      <th>Violation Code</th>\n",
       "      <th>Violation Description</th>\n",
       "      <th>Badge</th>\n",
       "      <th>Unit</th>\n",
       "      <th>Ticket Queue</th>\n",
       "      <th>Hearing Dispo</th>\n",
       "      <th>Latitude</th>\n",
       "      <th>Longitude</th>\n",
       "      <th>Ward</th>\n",
       "      <th>Ticket Fine</th>\n",
       "    </tr>\n",
       "  </thead>\n",
       "  <tbody>\n",
       "    <tr>\n",
       "      <th>0</th>\n",
       "      <td>55884862</td>\n",
       "      <td>4079TX</td>\n",
       "      <td>IL</td>\n",
       "      <td>TXI</td>\n",
       "      <td>FORD</td>\n",
       "      <td>01/02/2009 10:05 am</td>\n",
       "      <td>5210 N BROADWAY</td>\n",
       "      <td>0964190</td>\n",
       "      <td>EXPIRED METER OR OVERSTAY</td>\n",
       "      <td>8117</td>\n",
       "      <td>20</td>\n",
       "      <td>Paid</td>\n",
       "      <td>Did Not Challenge</td>\n",
       "      <td>41.976507</td>\n",
       "      <td>-87.659944</td>\n",
       "      <td>48</td>\n",
       "      <td>50.0</td>\n",
       "    </tr>\n",
       "    <tr>\n",
       "      <th>1</th>\n",
       "      <td>54574383</td>\n",
       "      <td>5141TX</td>\n",
       "      <td>IL</td>\n",
       "      <td>TXI</td>\n",
       "      <td>MERC</td>\n",
       "      <td>01/06/2009 06:53 am</td>\n",
       "      <td>4707 N PULASKI</td>\n",
       "      <td>0964170B</td>\n",
       "      <td>TRUCK,MOTOR HOME, BUS BUSINESS STREET</td>\n",
       "      <td>12769</td>\n",
       "      <td>17</td>\n",
       "      <td>Paid</td>\n",
       "      <td>Did Not Challenge</td>\n",
       "      <td>41.966575</td>\n",
       "      <td>-87.727904</td>\n",
       "      <td>39</td>\n",
       "      <td>25.0</td>\n",
       "    </tr>\n",
       "    <tr>\n",
       "      <th>2</th>\n",
       "      <td>55388795</td>\n",
       "      <td>25495TX</td>\n",
       "      <td>IL</td>\n",
       "      <td>TXI</td>\n",
       "      <td>MERC</td>\n",
       "      <td>01/05/2009 04:19 am</td>\n",
       "      <td>5721 W EASTWOOD</td>\n",
       "      <td>0964170A</td>\n",
       "      <td>TRUCK,RV,BUS, OR TAXI RESIDENTIAL STREET</td>\n",
       "      <td>13250</td>\n",
       "      <td>16</td>\n",
       "      <td>Notice</td>\n",
       "      <td>Did Not Challenge</td>\n",
       "      <td>41.964930</td>\n",
       "      <td>-87.770331</td>\n",
       "      <td>38</td>\n",
       "      <td>75.0</td>\n",
       "    </tr>\n",
       "    <tr>\n",
       "      <th>3</th>\n",
       "      <td>9177658970</td>\n",
       "      <td>25368TX</td>\n",
       "      <td>IL</td>\n",
       "      <td>TXI</td>\n",
       "      <td>OLDS</td>\n",
       "      <td>01/10/2009 10:30 am</td>\n",
       "      <td>6410 N CLAREMONT AV</td>\n",
       "      <td>0964190</td>\n",
       "      <td>EXPIRED METER OR OVERSTAY</td>\n",
       "      <td>197</td>\n",
       "      <td>498</td>\n",
       "      <td>Paid</td>\n",
       "      <td>Did Not Challenge</td>\n",
       "      <td>41.997942</td>\n",
       "      <td>-87.688741</td>\n",
       "      <td>50</td>\n",
       "      <td>50.0</td>\n",
       "    </tr>\n",
       "    <tr>\n",
       "      <th>4</th>\n",
       "      <td>55835485</td>\n",
       "      <td>3001TX</td>\n",
       "      <td>IL</td>\n",
       "      <td>TXI</td>\n",
       "      <td>FORD</td>\n",
       "      <td>01/01/2009 06:35 pm</td>\n",
       "      <td>36 W 26TH</td>\n",
       "      <td>0976160F</td>\n",
       "      <td>EXPIRED PLATES OR TEMPORARY REGISTRATION</td>\n",
       "      <td>19503</td>\n",
       "      <td>21</td>\n",
       "      <td>Bankruptcy</td>\n",
       "      <td>Did Not Challenge</td>\n",
       "      <td>41.845162</td>\n",
       "      <td>-87.628529</td>\n",
       "      <td>3</td>\n",
       "      <td>60.0</td>\n",
       "    </tr>\n",
       "  </tbody>\n",
       "</table>\n",
       "</div>"
      ],
      "text/plain": [
       "   Ticket Number License Plate Number License Plate State License Plate Type  \\\n",
       "0       55884862               4079TX                  IL                TXI   \n",
       "1       54574383               5141TX                  IL                TXI   \n",
       "2       55388795              25495TX                  IL                TXI   \n",
       "3     9177658970              25368TX                  IL                TXI   \n",
       "4       55835485               3001TX                  IL                TXI   \n",
       "\n",
       "  Ticket Make           Issue Date   Violation Location Violation Code  \\\n",
       "0        FORD  01/02/2009 10:05 am      5210 N BROADWAY        0964190   \n",
       "1        MERC  01/06/2009 06:53 am       4707 N PULASKI       0964170B   \n",
       "2        MERC  01/05/2009 04:19 am      5721 W EASTWOOD       0964170A   \n",
       "3        OLDS  01/10/2009 10:30 am  6410 N CLAREMONT AV        0964190   \n",
       "4        FORD  01/01/2009 06:35 pm            36 W 26TH       0976160F   \n",
       "\n",
       "                      Violation Description  Badge Unit Ticket Queue  \\\n",
       "0                 EXPIRED METER OR OVERSTAY   8117   20         Paid   \n",
       "1     TRUCK,MOTOR HOME, BUS BUSINESS STREET  12769   17         Paid   \n",
       "2  TRUCK,RV,BUS, OR TAXI RESIDENTIAL STREET  13250   16       Notice   \n",
       "3                 EXPIRED METER OR OVERSTAY    197  498         Paid   \n",
       "4  EXPIRED PLATES OR TEMPORARY REGISTRATION  19503   21   Bankruptcy   \n",
       "\n",
       "       Hearing Dispo   Latitude  Longitude  Ward  Ticket Fine  \n",
       "0  Did Not Challenge  41.976507 -87.659944    48         50.0  \n",
       "1  Did Not Challenge  41.966575 -87.727904    39         25.0  \n",
       "2  Did Not Challenge  41.964930 -87.770331    38         75.0  \n",
       "3  Did Not Challenge  41.997942 -87.688741    50         50.0  \n",
       "4  Did Not Challenge  41.845162 -87.628529     3         60.0  "
      ]
     },
     "execution_count": 6,
     "metadata": {},
     "output_type": "execute_result"
    }
   ],
   "source": [
    "print(taxi_tickets.shape)\n",
    "taxi_ticket_fines = taxi_tickets.merge(ticket_fines, how='left', on='Violation Code')\n",
    "print(taxi_ticket_fines.dtypes)\n",
    "print(taxi_ticket_fines.shape)\n",
    "taxi_ticket_fines.head()"
   ]
  },
  {
   "cell_type": "code",
   "execution_count": 7,
   "metadata": {
    "collapsed": false
   },
   "outputs": [
    {
     "data": {
      "text/plain": [
       "261936"
      ]
     },
     "execution_count": 7,
     "metadata": {},
     "output_type": "execute_result"
    }
   ],
   "source": [
    "taxi_ticket_fines['Ticket Fine'].count()"
   ]
  },
  {
   "cell_type": "code",
   "execution_count": 8,
   "metadata": {
    "collapsed": false
   },
   "outputs": [
    {
     "data": {
      "text/plain": [
       "array([], dtype=object)"
      ]
     },
     "execution_count": 8,
     "metadata": {},
     "output_type": "execute_result"
    }
   ],
   "source": [
    "# Verifying all are merged to a fine\n",
    "not_merged_fines = taxi_ticket_fines[taxi_ticket_fines['Ticket Fine'].isnull()]\n",
    "not_merged_fines['Violation Description'].unique()"
   ]
  },
  {
   "cell_type": "code",
   "execution_count": 9,
   "metadata": {
    "collapsed": false
   },
   "outputs": [
    {
     "name": "stdout",
     "output_type": "stream",
     "text": [
      "Ticket Number                     int64\n",
      "License Plate Number             object\n",
      "License Plate State              object\n",
      "License Plate Type               object\n",
      "Ticket Make                      object\n",
      "Issue Date               datetime64[ns]\n",
      "Violation Location               object\n",
      "Violation Code                   object\n",
      "Violation Description            object\n",
      "Badge                            object\n",
      "Unit                             object\n",
      "Ticket Queue                     object\n",
      "Hearing Dispo                    object\n",
      "Latitude                        float64\n",
      "Longitude                       float64\n",
      "Ward                              int64\n",
      "Ticket Fine                     float64\n",
      "dtype: object\n"
     ]
    }
   ],
   "source": [
    "# Cleaning up fines where the amount was adjusted in the time frame\n",
    "taxi_ticket_fines['Issue Date'] = pd.to_datetime(taxi_ticket_fines['Issue Date'])\n",
    "print(taxi_ticket_fines.dtypes)"
   ]
  },
  {
   "cell_type": "code",
   "execution_count": 10,
   "metadata": {
    "collapsed": false
   },
   "outputs": [
    {
     "data": {
      "text/html": [
       "<div>\n",
       "<table border=\"1\" class=\"dataframe\">\n",
       "  <thead>\n",
       "    <tr style=\"text-align: right;\">\n",
       "      <th></th>\n",
       "      <th>Ticket Number</th>\n",
       "      <th>License Plate Number</th>\n",
       "      <th>License Plate State</th>\n",
       "      <th>License Plate Type</th>\n",
       "      <th>Ticket Make</th>\n",
       "      <th>Issue Date</th>\n",
       "      <th>Violation Location</th>\n",
       "      <th>Violation Code</th>\n",
       "      <th>Violation Description</th>\n",
       "      <th>Badge</th>\n",
       "      <th>Unit</th>\n",
       "      <th>Ticket Queue</th>\n",
       "      <th>Hearing Dispo</th>\n",
       "      <th>Latitude</th>\n",
       "      <th>Longitude</th>\n",
       "      <th>Ward</th>\n",
       "      <th>Ticket Fine</th>\n",
       "    </tr>\n",
       "  </thead>\n",
       "  <tbody>\n",
       "    <tr>\n",
       "      <th>0</th>\n",
       "      <td>55884862</td>\n",
       "      <td>4079TX</td>\n",
       "      <td>IL</td>\n",
       "      <td>TXI</td>\n",
       "      <td>FORD</td>\n",
       "      <td>2009-01-02 10:05:00</td>\n",
       "      <td>5210 N BROADWAY</td>\n",
       "      <td>0964190</td>\n",
       "      <td>EXPIRED METER OR OVERSTAY</td>\n",
       "      <td>8117</td>\n",
       "      <td>20</td>\n",
       "      <td>Paid</td>\n",
       "      <td>Did Not Challenge</td>\n",
       "      <td>41.976507</td>\n",
       "      <td>-87.659944</td>\n",
       "      <td>48</td>\n",
       "      <td>50.0</td>\n",
       "    </tr>\n",
       "    <tr>\n",
       "      <th>1</th>\n",
       "      <td>54574383</td>\n",
       "      <td>5141TX</td>\n",
       "      <td>IL</td>\n",
       "      <td>TXI</td>\n",
       "      <td>MERC</td>\n",
       "      <td>2009-01-06 06:53:00</td>\n",
       "      <td>4707 N PULASKI</td>\n",
       "      <td>0964170B</td>\n",
       "      <td>TRUCK,MOTOR HOME, BUS BUSINESS STREET</td>\n",
       "      <td>12769</td>\n",
       "      <td>17</td>\n",
       "      <td>Paid</td>\n",
       "      <td>Did Not Challenge</td>\n",
       "      <td>41.966575</td>\n",
       "      <td>-87.727904</td>\n",
       "      <td>39</td>\n",
       "      <td>25.0</td>\n",
       "    </tr>\n",
       "    <tr>\n",
       "      <th>2</th>\n",
       "      <td>55388795</td>\n",
       "      <td>25495TX</td>\n",
       "      <td>IL</td>\n",
       "      <td>TXI</td>\n",
       "      <td>MERC</td>\n",
       "      <td>2009-01-05 04:19:00</td>\n",
       "      <td>5721 W EASTWOOD</td>\n",
       "      <td>0964170A</td>\n",
       "      <td>TRUCK,RV,BUS, OR TAXI RESIDENTIAL STREET</td>\n",
       "      <td>13250</td>\n",
       "      <td>16</td>\n",
       "      <td>Notice</td>\n",
       "      <td>Did Not Challenge</td>\n",
       "      <td>41.964930</td>\n",
       "      <td>-87.770331</td>\n",
       "      <td>38</td>\n",
       "      <td>25.0</td>\n",
       "    </tr>\n",
       "    <tr>\n",
       "      <th>3</th>\n",
       "      <td>9177658970</td>\n",
       "      <td>25368TX</td>\n",
       "      <td>IL</td>\n",
       "      <td>TXI</td>\n",
       "      <td>OLDS</td>\n",
       "      <td>2009-01-10 10:30:00</td>\n",
       "      <td>6410 N CLAREMONT AV</td>\n",
       "      <td>0964190</td>\n",
       "      <td>EXPIRED METER OR OVERSTAY</td>\n",
       "      <td>197</td>\n",
       "      <td>498</td>\n",
       "      <td>Paid</td>\n",
       "      <td>Did Not Challenge</td>\n",
       "      <td>41.997942</td>\n",
       "      <td>-87.688741</td>\n",
       "      <td>50</td>\n",
       "      <td>50.0</td>\n",
       "    </tr>\n",
       "    <tr>\n",
       "      <th>4</th>\n",
       "      <td>55835485</td>\n",
       "      <td>3001TX</td>\n",
       "      <td>IL</td>\n",
       "      <td>TXI</td>\n",
       "      <td>FORD</td>\n",
       "      <td>2009-01-01 18:35:00</td>\n",
       "      <td>36 W 26TH</td>\n",
       "      <td>0976160F</td>\n",
       "      <td>EXPIRED PLATES OR TEMPORARY REGISTRATION</td>\n",
       "      <td>19503</td>\n",
       "      <td>21</td>\n",
       "      <td>Bankruptcy</td>\n",
       "      <td>Did Not Challenge</td>\n",
       "      <td>41.845162</td>\n",
       "      <td>-87.628529</td>\n",
       "      <td>3</td>\n",
       "      <td>60.0</td>\n",
       "    </tr>\n",
       "  </tbody>\n",
       "</table>\n",
       "</div>"
      ],
      "text/plain": [
       "   Ticket Number License Plate Number License Plate State License Plate Type  \\\n",
       "0       55884862               4079TX                  IL                TXI   \n",
       "1       54574383               5141TX                  IL                TXI   \n",
       "2       55388795              25495TX                  IL                TXI   \n",
       "3     9177658970              25368TX                  IL                TXI   \n",
       "4       55835485               3001TX                  IL                TXI   \n",
       "\n",
       "  Ticket Make          Issue Date   Violation Location Violation Code  \\\n",
       "0        FORD 2009-01-02 10:05:00      5210 N BROADWAY        0964190   \n",
       "1        MERC 2009-01-06 06:53:00       4707 N PULASKI       0964170B   \n",
       "2        MERC 2009-01-05 04:19:00      5721 W EASTWOOD       0964170A   \n",
       "3        OLDS 2009-01-10 10:30:00  6410 N CLAREMONT AV        0964190   \n",
       "4        FORD 2009-01-01 18:35:00            36 W 26TH       0976160F   \n",
       "\n",
       "                      Violation Description  Badge Unit Ticket Queue  \\\n",
       "0                 EXPIRED METER OR OVERSTAY   8117   20         Paid   \n",
       "1     TRUCK,MOTOR HOME, BUS BUSINESS STREET  12769   17         Paid   \n",
       "2  TRUCK,RV,BUS, OR TAXI RESIDENTIAL STREET  13250   16       Notice   \n",
       "3                 EXPIRED METER OR OVERSTAY    197  498         Paid   \n",
       "4  EXPIRED PLATES OR TEMPORARY REGISTRATION  19503   21   Bankruptcy   \n",
       "\n",
       "       Hearing Dispo   Latitude  Longitude  Ward  Ticket Fine  \n",
       "0  Did Not Challenge  41.976507 -87.659944    48         50.0  \n",
       "1  Did Not Challenge  41.966575 -87.727904    39         25.0  \n",
       "2  Did Not Challenge  41.964930 -87.770331    38         25.0  \n",
       "3  Did Not Challenge  41.997942 -87.688741    50         50.0  \n",
       "4  Did Not Challenge  41.845162 -87.628529     3         60.0  "
      ]
     },
     "execution_count": 10,
     "metadata": {},
     "output_type": "execute_result"
    }
   ],
   "source": [
    "# For specific fines where amounts changed listed above, setting the fine to the earlier rate for all \n",
    "# tickets issued before the new rates took effect (April 1, 2014)\n",
    "taxi_ticket_fines.loc[(taxi_ticket_fines['Issue Date'] < '2014-04-01') & (taxi_ticket_fines['Violation Code'] == '0964170A'),'Ticket Fine'] = 25.00\n",
    "taxi_ticket_fines.loc[(taxi_ticket_fines['Issue Date'] < '2014-04-01') & (taxi_ticket_fines['Violation Code'] == '0964050'),'Ticket Fine'] = 200.00\n",
    "taxi_ticket_fines.loc[(taxi_ticket_fines['Issue Date'] < '2014-04-01') & (taxi_ticket_fines['Violation Code'] == '0964050J'),'Ticket Fine'] = 200.00\n",
    "taxi_ticket_fines.loc[(taxi_ticket_fines['Issue Date'] < '2014-04-01') & (taxi_ticket_fines['Violation Code'] == '0964080A'),'Ticket Fine'] = 60.00\n",
    "taxi_ticket_fines.loc[(taxi_ticket_fines['Issue Date'] < '2014-04-01') & (taxi_ticket_fines['Violation Code'] == '0964100A'),'Ticket Fine'] = 100.00\n",
    "taxi_ticket_fines.head()"
   ]
  },
  {
   "cell_type": "code",
   "execution_count": 26,
   "metadata": {
    "collapsed": true
   },
   "outputs": [],
   "source": [
    "taxi_ticket_fines.to_csv('taxi_ticket_data/taxi_ticket_fines.csv', index=False)"
   ]
  },
  {
   "cell_type": "markdown",
   "metadata": {},
   "source": [
    "## Ticket Status Breakdown"
   ]
  },
  {
   "cell_type": "code",
   "execution_count": 11,
   "metadata": {
    "collapsed": false
   },
   "outputs": [
    {
     "data": {
      "text/plain": [
       "<matplotlib.axes._subplots.AxesSubplot at 0x114ec7110>"
      ]
     },
     "execution_count": 11,
     "metadata": {},
     "output_type": "execute_result"
    },
    {
     "data": {
      "image/png": "[encoded data removed]",
      "text/plain": [
       "<matplotlib.figure.Figure at 0x114ec9210>"
      ]
     },
     "metadata": {},
     "output_type": "display_data"
    }
   ],
   "source": [
    "taxi_fine_status = taxi_ticket_fines.groupby(['Ticket Queue'])['Ticket Number'].count()\n",
    "taxi_fine_status.plot(kind='pie',autopct='%1.1f%%', fontsize=16)"
   ]
  },
  {
   "cell_type": "markdown",
   "metadata": {},
   "source": [
    "## Ticket Totals, Cost\n",
    "\n",
    "### Notes\n",
    "\n",
    "* Total revenue from tickets is almost $8 million\n",
    "* About half of tickets issued to taxis were paid"
   ]
  },
  {
   "cell_type": "code",
   "execution_count": 12,
   "metadata": {
    "collapsed": false
   },
   "outputs": [
    {
     "name": "stdout",
     "output_type": "stream",
     "text": [
      "Total number of tickets issued to taxis between 2009 and March 2016: 261936\n",
      "Total number of paid tickets issued to taxis between 2009 and March 2016: 130663\n"
     ]
    }
   ],
   "source": [
    "print('Total number of tickets issued to taxis between 2009 and March 2016: {}'.format(taxi_ticket_fines['Ticket Number'].count()))\n",
    "paid_taxi_tickets = taxi_ticket_fines[taxi_ticket_fines['Ticket Queue'] == 'Paid']\n",
    "print('Total number of paid tickets issued to taxis between 2009 and March 2016: {}'.format(paid_taxi_tickets['Ticket Number'].count()))"
   ]
  },
  {
   "cell_type": "code",
   "execution_count": 13,
   "metadata": {
    "collapsed": false
   },
   "outputs": [
    {
     "name": "stdout",
     "output_type": "stream",
     "text": [
      "Total revenue from these tickets: $7,860,250.00\n"
     ]
    }
   ],
   "source": [
    "print('Total revenue from these tickets: ${:,.2f}'.format(paid_taxi_tickets['Ticket Fine'].sum()))"
   ]
  },
  {
   "cell_type": "markdown",
   "metadata": {},
   "source": [
    "## Tickets, Cost by Plate\n",
    "\n",
    "### Notes\n",
    "\n",
    "* The average plate (not necessarily a single driver) was issued almost \\$1,000 in tickets between 2009 and March 2016\n",
    "* The average plate received almost 14 tickets in that time frame"
   ]
  },
  {
   "cell_type": "code",
   "execution_count": 14,
   "metadata": {
    "collapsed": false
   },
   "outputs": [
    {
     "name": "stdout",
     "output_type": "stream",
     "text": [
      "Mean tickets per plate number from 2009 to March 10, 2016: 13.8142811906\n"
     ]
    },
    {
     "data": {
      "text/plain": [
       "<matplotlib.axes._subplots.AxesSubplot at 0x1152acb10>"
      ]
     },
     "execution_count": 14,
     "metadata": {},
     "output_type": "execute_result"
    },
    {
     "data": {
      "image/png": "[encoded data removed]",
      "text/plain": [
       "<matplotlib.figure.Figure at 0x115298b90>"
      ]
     },
     "metadata": {},
     "output_type": "display_data"
    }
   ],
   "source": [
    "taxi_tickets_plate = taxi_ticket_fines.groupby(['License Plate Number'])['Ticket Number'].count()\n",
    "taxi_tickets_plate = taxi_tickets_plate.sort_values(ascending=False)\n",
    "top_tickets_plate = taxi_tickets_plate[:10]\n",
    "\n",
    "mean_tickets_plate = taxi_tickets_plate.mean()\n",
    "print('Mean tickets per plate number from 2009 to March 10, 2016: {}'.format(mean_tickets_plate))\n",
    "top_tickets_plate.plot(kind='bar')"
   ]
  },
  {
   "cell_type": "code",
   "execution_count": 15,
   "metadata": {
    "collapsed": false
   },
   "outputs": [
    {
     "name": "stdout",
     "output_type": "stream",
     "text": [
      "Mean total fines per plate number from 2009 to March 10, 2016: 926.321775385\n"
     ]
    },
    {
     "data": {
      "text/plain": [
       "<matplotlib.axes._subplots.AxesSubplot at 0x1157ed290>"
      ]
     },
     "execution_count": 15,
     "metadata": {},
     "output_type": "execute_result"
    },
    {
     "data": {
      "image/png": "[encoded data removed]",
      "text/plain": [
       "<matplotlib.figure.Figure at 0x1157c0210>"
      ]
     },
     "metadata": {},
     "output_type": "display_data"
    }
   ],
   "source": [
    "taxi_fine_plate = taxi_ticket_fines.groupby(['License Plate Number'])['Ticket Fine'].sum()\n",
    "taxi_fine_plate = taxi_fine_plate.sort_values(ascending=False)\n",
    "top_fine_plate = taxi_fine_plate[:10]\n",
    "\n",
    "mean_fine_plate = taxi_fine_plate.mean()\n",
    "print('Mean total fines per plate number from 2009 to March 10, 2016: {}'.format(mean_fine_plate))\n",
    "top_fine_plate.plot(kind='bar')"
   ]
  },
  {
   "cell_type": "markdown",
   "metadata": {},
   "source": [
    "## Yearly Tickets by Plate\n",
    "\n",
    "### Notes\n",
    "* The average plate received about 4.3 tickets a year in the time frame looked at \n",
    "* For the same time period, the average plate (more likely a single driver if only looking at one year) received almost \\$300 in parking tickets"
   ]
  },
  {
   "cell_type": "code",
   "execution_count": 16,
   "metadata": {
    "collapsed": false
   },
   "outputs": [
    {
     "name": "stdout",
     "output_type": "stream",
     "text": [
      "Ticket Number                     int64\n",
      "License Plate Number             object\n",
      "License Plate State              object\n",
      "License Plate Type               object\n",
      "Ticket Make                      object\n",
      "Issue Date               datetime64[ns]\n",
      "Violation Location               object\n",
      "Violation Code                   object\n",
      "Violation Description            object\n",
      "Badge                            object\n",
      "Unit                             object\n",
      "Ticket Queue                     object\n",
      "Hearing Dispo                    object\n",
      "Latitude                        float64\n",
      "Longitude                       float64\n",
      "Ward                              int64\n",
      "Ticket Fine                     float64\n",
      "Year                              int32\n",
      "dtype: object\n"
     ]
    }
   ],
   "source": [
    "taxi_ticket_fines = taxi_ticket_fines.set_index(pd.DatetimeIndex(taxi_ticket_fines['Issue Date']))\n",
    "taxi_ticket_fines['Year'] = taxi_ticket_fines.index.year\n",
    "print(taxi_ticket_fines.dtypes)"
   ]
  },
  {
   "cell_type": "code",
   "execution_count": 17,
   "metadata": {
    "collapsed": false
   },
   "outputs": [
    {
     "name": "stdout",
     "output_type": "stream",
     "text": [
      "Mean yearly tickets per plate number from 2009 to March 10, 2016: 4.3212817592\n"
     ]
    },
    {
     "data": {
      "text/plain": [
       "<matplotlib.axes._subplots.AxesSubplot at 0x1152cea10>"
      ]
     },
     "execution_count": 17,
     "metadata": {},
     "output_type": "execute_result"
    },
    {
     "data": {
      "image/png": "[encoded data removed]",
      "text/plain": [
       "<matplotlib.figure.Figure at 0x116749610>"
      ]
     },
     "metadata": {},
     "output_type": "display_data"
    }
   ],
   "source": [
    "tickets_plate_year = taxi_ticket_fines.groupby(['License Plate Number', 'Year'])['Ticket Number'].count()\n",
    "tickets_plate_year = tickets_plate_year.sort_values(ascending=False)\n",
    "top_tickets_plate_year = tickets_plate_year[:10]\n",
    "\n",
    "mean_tickets_plate_year = tickets_plate_year.mean()\n",
    "print('Mean yearly tickets per plate number from 2009 to March 10, 2016: {}'.format(mean_tickets_plate_year))\n",
    "top_tickets_plate_year.plot(kind='bar')"
   ]
  },
  {
   "cell_type": "code",
   "execution_count": 18,
   "metadata": {
    "collapsed": false
   },
   "outputs": [
    {
     "name": "stdout",
     "output_type": "stream",
     "text": [
      "Mean yearly total fines per plate number from 2009 to March 10, 2016: 289.765159394\n"
     ]
    },
    {
     "data": {
      "text/plain": [
       "<matplotlib.axes._subplots.AxesSubplot at 0x11688c650>"
      ]
     },
     "execution_count": 18,
     "metadata": {},
     "output_type": "execute_result"
    },
    {
     "data": {
      "image/png": "[encoded data removed]",
      "text/plain": [
       "<matplotlib.figure.Figure at 0x116c8c8d0>"
      ]
     },
     "metadata": {},
     "output_type": "display_data"
    }
   ],
   "source": [
    "taxi_fine_plate_year = taxi_ticket_fines.groupby(['License Plate Number', 'Year'])['Ticket Fine'].sum()\n",
    "taxi_fine_plate_year = taxi_fine_plate_year.sort_values(ascending=False)\n",
    "top_fine_plate_year = taxi_fine_plate_year[:10]\n",
    "\n",
    "mean_fine_plate_year = taxi_fine_plate_year.mean()\n",
    "print('Mean yearly total fines per plate number from 2009 to March 10, 2016: {}'.format(mean_fine_plate_year))\n",
    "top_fine_plate_year.plot(kind='bar')"
   ]
  },
  {
   "cell_type": "markdown",
   "metadata": {
    "collapsed": true
   },
   "source": [
    "### Taxi Tickets per Year Notes\n",
    "\n",
    "* Have been calculating mean with the assumption that every taxi has received a ticket. While this is difficult to confirm with 100% certainty, currently the city's data portal has approximately 7,000 registered taxis. \n",
    "* Grouping the tickets by plate number and year shows that every year (with the exclusion of the first part of 2016) has about 8,000 taxi plate numbers represented, making it likely that about every taxi has received at least one ticket"
   ]
  },
  {
   "cell_type": "code",
   "execution_count": 26,
   "metadata": {
    "collapsed": false
   },
   "outputs": [
    {
     "data": {
      "text/html": [
       "<div>\n",
       "<table border=\"1\" class=\"dataframe\">\n",
       "  <thead>\n",
       "    <tr style=\"text-align: right;\">\n",
       "      <th></th>\n",
       "      <th>License Plate Number</th>\n",
       "      <th>Year</th>\n",
       "      <th>Plate Number</th>\n",
       "    </tr>\n",
       "  </thead>\n",
       "  <tbody>\n",
       "    <tr>\n",
       "      <th>0</th>\n",
       "      <td>000TAX</td>\n",
       "      <td>2014</td>\n",
       "      <td>1</td>\n",
       "    </tr>\n",
       "    <tr>\n",
       "      <th>1</th>\n",
       "      <td>00138916</td>\n",
       "      <td>2016</td>\n",
       "      <td>1</td>\n",
       "    </tr>\n",
       "    <tr>\n",
       "      <th>2</th>\n",
       "      <td>001YPA</td>\n",
       "      <td>2015</td>\n",
       "      <td>1</td>\n",
       "    </tr>\n",
       "    <tr>\n",
       "      <th>3</th>\n",
       "      <td>0037TX</td>\n",
       "      <td>2014</td>\n",
       "      <td>1</td>\n",
       "    </tr>\n",
       "    <tr>\n",
       "      <th>4</th>\n",
       "      <td>0051TX</td>\n",
       "      <td>2011</td>\n",
       "      <td>1</td>\n",
       "    </tr>\n",
       "  </tbody>\n",
       "</table>\n",
       "</div>"
      ],
      "text/plain": [
       "  License Plate Number  Year  Plate Number\n",
       "0               000TAX  2014             1\n",
       "1             00138916  2016             1\n",
       "2               001YPA  2015             1\n",
       "3               0037TX  2014             1\n",
       "4               0051TX  2011             1"
      ]
     },
     "execution_count": 26,
     "metadata": {},
     "output_type": "execute_result"
    }
   ],
   "source": [
    "taxis_per_year = pd.DataFrame(taxi_ticket_fines.groupby(['License Plate Number', 'Year'])['License Plate Number'].count())\n",
    "taxis_per_year = taxis_per_year.rename(columns={'License Plate Number': 'Plate Number'}).reset_index()\n",
    "taxis_per_year.head()"
   ]
  },
  {
   "cell_type": "code",
   "execution_count": 29,
   "metadata": {
    "collapsed": false
   },
   "outputs": [
    {
     "data": {
      "text/html": [
       "<div>\n",
       "<table border=\"1\" class=\"dataframe\">\n",
       "  <thead>\n",
       "    <tr style=\"text-align: right;\">\n",
       "      <th></th>\n",
       "      <th>License Plate Number</th>\n",
       "      <th>Year</th>\n",
       "      <th>Plate Number</th>\n",
       "    </tr>\n",
       "  </thead>\n",
       "  <tbody>\n",
       "    <tr>\n",
       "      <th>52376</th>\n",
       "      <td>6767TX</td>\n",
       "      <td>2010</td>\n",
       "      <td>89</td>\n",
       "    </tr>\n",
       "    <tr>\n",
       "      <th>36359</th>\n",
       "      <td>4690TX</td>\n",
       "      <td>2012</td>\n",
       "      <td>68</td>\n",
       "    </tr>\n",
       "    <tr>\n",
       "      <th>1585</th>\n",
       "      <td>1176TX</td>\n",
       "      <td>2011</td>\n",
       "      <td>68</td>\n",
       "    </tr>\n",
       "    <tr>\n",
       "      <th>55896</th>\n",
       "      <td>876TX</td>\n",
       "      <td>2009</td>\n",
       "      <td>62</td>\n",
       "    </tr>\n",
       "    <tr>\n",
       "      <th>55455</th>\n",
       "      <td>839TX</td>\n",
       "      <td>2009</td>\n",
       "      <td>56</td>\n",
       "    </tr>\n",
       "  </tbody>\n",
       "</table>\n",
       "</div>"
      ],
      "text/plain": [
       "      License Plate Number  Year  Plate Number\n",
       "52376               6767TX  2010            89\n",
       "36359               4690TX  2012            68\n",
       "1585                1176TX  2011            68\n",
       "55896                876TX  2009            62\n",
       "55455                839TX  2009            56"
      ]
     },
     "execution_count": 29,
     "metadata": {},
     "output_type": "execute_result"
    }
   ],
   "source": [
    "taxis_per_year.sort_values(by='Plate Number', ascending=False, inplace=True)\n",
    "taxis_per_year.head()"
   ]
  },
  {
   "cell_type": "code",
   "execution_count": 32,
   "metadata": {
    "collapsed": false
   },
   "outputs": [
    {
     "data": {
      "text/plain": [
       "<matplotlib.axes._subplots.AxesSubplot at 0x11769ecd0>"
      ]
     },
     "execution_count": 32,
     "metadata": {},
     "output_type": "execute_result"
    },
    {
     "data": {
      "image/png": "[encoded data removed]",
      "text/plain": [
       "<matplotlib.figure.Figure at 0x115282710>"
      ]
     },
     "metadata": {},
     "output_type": "display_data"
    }
   ],
   "source": [
    "year_counts = taxis_per_year.groupby(['Year'])['Year'].count()\n",
    "year_counts.plot(kind='bar')"
   ]
  },
  {
   "cell_type": "code",
   "execution_count": null,
   "metadata": {
    "collapsed": true
   },
   "outputs": [],
   "source": []
  }
 ],
 "metadata": {
  "kernelspec": {
   "display_name": "Python 2",
   "language": "python",
   "name": "python2"
  },
  "language_info": {
   "codemirror_mode": {
    "name": "ipython",
    "version": 2
   },
   "file_extension": ".py",
   "mimetype": "text/x-python",
   "name": "python",
   "nbconvert_exporter": "python",
   "pygments_lexer": "ipython2",
   "version": "2.7.10"
  }
 },
 "nbformat": 4,
 "nbformat_minor": 0
}
