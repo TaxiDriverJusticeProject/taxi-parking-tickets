{
 "cells": [
  {
   "cell_type": "code",
   "execution_count": 1,
   "metadata": {
    "collapsed": true
   },
   "outputs": [],
   "source": [
    "from __future__ import absolute_import, division, print_function, unicode_literals\n",
    "import numpy as np\n",
    "import pandas as pd\n",
    "import matplotlib.pyplot as plt\n",
    "import seaborn as sns\n",
    "%matplotlib inline"
   ]
  },
  {
   "cell_type": "code",
   "execution_count": 4,
   "metadata": {
    "collapsed": false
   },
   "outputs": [
    {
     "name": "stdout",
     "output_type": "stream",
     "text": [
      "Ticket Number                     int64\n",
      "License Plate Number             object\n",
      "License Plate State              object\n",
      "License Plate Type               object\n",
      "Ticket Make                      object\n",
      "Issue Date               datetime64[ns]\n",
      "Violation Location               object\n",
      "Violation Code                   object\n",
      "Violation Description            object\n",
      "Badge                            object\n",
      "Unit                             object\n",
      "Ticket Queue                     object\n",
      "Hearing Dispo                    object\n",
      "Latitude                        float64\n",
      "Longitude                       float64\n",
      "Ward                              int64\n",
      "dtype: object\n",
      "(12644, 16)\n"
     ]
    },
    {
     "name": "stderr",
     "output_type": "stream",
     "text": [
      "/usr/local/lib/python2.7/site-packages/ipykernel/__main__.py:3: SettingWithCopyWarning: \n",
      "A value is trying to be set on a copy of a slice from a DataFrame.\n",
      "Try using .loc[row_indexer,col_indexer] = value instead\n",
      "\n",
      "See the caveats in the documentation: http://pandas.pydata.org/pandas-docs/stable/indexing.html#indexing-view-versus-copy\n",
      "  app.launch_new_instance()\n"
     ]
    },
    {
     "data": {
      "text/html": [
       "<div>\n",
       "<table border=\"1\" class=\"dataframe\">\n",
       "  <thead>\n",
       "    <tr style=\"text-align: right;\">\n",
       "      <th></th>\n",
       "      <th>Ticket Number</th>\n",
       "      <th>License Plate Number</th>\n",
       "      <th>License Plate State</th>\n",
       "      <th>License Plate Type</th>\n",
       "      <th>Ticket Make</th>\n",
       "      <th>Issue Date</th>\n",
       "      <th>Violation Location</th>\n",
       "      <th>Violation Code</th>\n",
       "      <th>Violation Description</th>\n",
       "      <th>Badge</th>\n",
       "      <th>Unit</th>\n",
       "      <th>Ticket Queue</th>\n",
       "      <th>Hearing Dispo</th>\n",
       "      <th>Latitude</th>\n",
       "      <th>Longitude</th>\n",
       "      <th>Ward</th>\n",
       "    </tr>\n",
       "  </thead>\n",
       "  <tbody>\n",
       "    <tr>\n",
       "      <th>2009-01-06 06:53:00</th>\n",
       "      <td>54574383</td>\n",
       "      <td>5141TX</td>\n",
       "      <td>IL</td>\n",
       "      <td>TXI</td>\n",
       "      <td>MERC</td>\n",
       "      <td>2009-01-06 06:53:00</td>\n",
       "      <td>4707 N PULASKI</td>\n",
       "      <td>0964170B</td>\n",
       "      <td>TRUCK,MOTOR HOME, BUS BUSINESS STREET</td>\n",
       "      <td>12769</td>\n",
       "      <td>17</td>\n",
       "      <td>Paid</td>\n",
       "      <td>Did Not Challenge</td>\n",
       "      <td>41.966575</td>\n",
       "      <td>-87.727904</td>\n",
       "      <td>39</td>\n",
       "    </tr>\n",
       "    <tr>\n",
       "      <th>2009-01-09 06:35:00</th>\n",
       "      <td>55571353</td>\n",
       "      <td>5493TX</td>\n",
       "      <td>IL</td>\n",
       "      <td>TXI</td>\n",
       "      <td>CHEV</td>\n",
       "      <td>2009-01-09 06:35:00</td>\n",
       "      <td>5433 N WESTERN</td>\n",
       "      <td>0964170B</td>\n",
       "      <td>TRUCK,MOTOR HOME, BUS BUSINESS STREET</td>\n",
       "      <td>3357</td>\n",
       "      <td>20</td>\n",
       "      <td>Paid</td>\n",
       "      <td>Liable</td>\n",
       "      <td>41.980131</td>\n",
       "      <td>-87.689240</td>\n",
       "      <td>40</td>\n",
       "    </tr>\n",
       "    <tr>\n",
       "      <th>2009-02-04 06:30:00</th>\n",
       "      <td>55773331</td>\n",
       "      <td>5526TX</td>\n",
       "      <td>IL</td>\n",
       "      <td>TXI</td>\n",
       "      <td>FORD</td>\n",
       "      <td>2009-02-04 06:30:00</td>\n",
       "      <td>6025  WESTERN</td>\n",
       "      <td>0964170B</td>\n",
       "      <td>TRUCK,MOTOR HOME, BUS BUSINESS STREET</td>\n",
       "      <td>17392</td>\n",
       "      <td>24</td>\n",
       "      <td>Notice</td>\n",
       "      <td>Did Not Challenge</td>\n",
       "      <td>41.809069</td>\n",
       "      <td>-87.911448</td>\n",
       "      <td>0</td>\n",
       "    </tr>\n",
       "    <tr>\n",
       "      <th>2009-02-05 06:30:00</th>\n",
       "      <td>55773397</td>\n",
       "      <td>5526TX</td>\n",
       "      <td>IL</td>\n",
       "      <td>TXI</td>\n",
       "      <td>FORD</td>\n",
       "      <td>2009-02-05 06:30:00</td>\n",
       "      <td>6025  WESTERN</td>\n",
       "      <td>0964170B</td>\n",
       "      <td>TRUCK,MOTOR HOME, BUS BUSINESS STREET</td>\n",
       "      <td>17392</td>\n",
       "      <td>24</td>\n",
       "      <td>Notice</td>\n",
       "      <td>Did Not Challenge</td>\n",
       "      <td>41.809069</td>\n",
       "      <td>-87.911448</td>\n",
       "      <td>0</td>\n",
       "    </tr>\n",
       "    <tr>\n",
       "      <th>2009-02-17 06:30:00</th>\n",
       "      <td>56067085</td>\n",
       "      <td>2426TX</td>\n",
       "      <td>IL</td>\n",
       "      <td>TXI</td>\n",
       "      <td>FORD</td>\n",
       "      <td>2009-02-17 06:30:00</td>\n",
       "      <td>5412 N DAMEN</td>\n",
       "      <td>0964170B</td>\n",
       "      <td>TRUCK,MOTOR HOME, BUS BUSINESS STREET</td>\n",
       "      <td>3357</td>\n",
       "      <td>20</td>\n",
       "      <td>Dismissed</td>\n",
       "      <td>Not Liable</td>\n",
       "      <td>41.980032</td>\n",
       "      <td>-87.679598</td>\n",
       "      <td>40</td>\n",
       "    </tr>\n",
       "  </tbody>\n",
       "</table>\n",
       "</div>"
      ],
      "text/plain": [
       "                     Ticket Number License Plate Number License Plate State  \\\n",
       "2009-01-06 06:53:00       54574383               5141TX                  IL   \n",
       "2009-01-09 06:35:00       55571353               5493TX                  IL   \n",
       "2009-02-04 06:30:00       55773331               5526TX                  IL   \n",
       "2009-02-05 06:30:00       55773397               5526TX                  IL   \n",
       "2009-02-17 06:30:00       56067085               2426TX                  IL   \n",
       "\n",
       "                    License Plate Type Ticket Make          Issue Date  \\\n",
       "2009-01-06 06:53:00                TXI        MERC 2009-01-06 06:53:00   \n",
       "2009-01-09 06:35:00                TXI        CHEV 2009-01-09 06:35:00   \n",
       "2009-02-04 06:30:00                TXI        FORD 2009-02-04 06:30:00   \n",
       "2009-02-05 06:30:00                TXI        FORD 2009-02-05 06:30:00   \n",
       "2009-02-17 06:30:00                TXI        FORD 2009-02-17 06:30:00   \n",
       "\n",
       "                    Violation Location Violation Code  \\\n",
       "2009-01-06 06:53:00     4707 N PULASKI       0964170B   \n",
       "2009-01-09 06:35:00     5433 N WESTERN       0964170B   \n",
       "2009-02-04 06:30:00      6025  WESTERN       0964170B   \n",
       "2009-02-05 06:30:00      6025  WESTERN       0964170B   \n",
       "2009-02-17 06:30:00       5412 N DAMEN       0964170B   \n",
       "\n",
       "                                     Violation Description  Badge Unit  \\\n",
       "2009-01-06 06:53:00  TRUCK,MOTOR HOME, BUS BUSINESS STREET  12769   17   \n",
       "2009-01-09 06:35:00  TRUCK,MOTOR HOME, BUS BUSINESS STREET   3357   20   \n",
       "2009-02-04 06:30:00  TRUCK,MOTOR HOME, BUS BUSINESS STREET  17392   24   \n",
       "2009-02-05 06:30:00  TRUCK,MOTOR HOME, BUS BUSINESS STREET  17392   24   \n",
       "2009-02-17 06:30:00  TRUCK,MOTOR HOME, BUS BUSINESS STREET   3357   20   \n",
       "\n",
       "                    Ticket Queue      Hearing Dispo   Latitude  Longitude  \\\n",
       "2009-01-06 06:53:00         Paid  Did Not Challenge  41.966575 -87.727904   \n",
       "2009-01-09 06:35:00         Paid             Liable  41.980131 -87.689240   \n",
       "2009-02-04 06:30:00       Notice  Did Not Challenge  41.809069 -87.911448   \n",
       "2009-02-05 06:30:00       Notice  Did Not Challenge  41.809069 -87.911448   \n",
       "2009-02-17 06:30:00    Dismissed         Not Liable  41.980032 -87.679598   \n",
       "\n",
       "                     Ward  \n",
       "2009-01-06 06:53:00    39  \n",
       "2009-01-09 06:35:00    40  \n",
       "2009-02-04 06:30:00     0  \n",
       "2009-02-05 06:30:00     0  \n",
       "2009-02-17 06:30:00    40  "
      ]
     },
     "execution_count": 4,
     "metadata": {},
     "output_type": "execute_result"
    }
   ],
   "source": [
    "taxi_tickets = pd.read_csv('taxi_ticket_data/taxi_tickets_by_ward.csv')\n",
    "taxi_bus_st = taxi_tickets[taxi_tickets['Violation Code'] == '0964170B']\n",
    "taxi_bus_st['Issue Date'] = pd.to_datetime(taxi_bus_st['Issue Date'])\n",
    "taxi_bus_st = taxi_bus_st.set_index(pd.DatetimeIndex(taxi_bus_st['Issue Date']))\n",
    "print(taxi_bus_st.dtypes)\n",
    "print(taxi_bus_st.shape)\n",
    "taxi_bus_st.head()"
   ]
  },
  {
   "cell_type": "markdown",
   "metadata": {},
   "source": [
    "### Business Street Ticket Times\n",
    "\n",
    "According to Chicago city code, \"taxicabs are prohibited from parking on business streets between the hours of 2:00AM and 7:00AM for more than 2 hours\", with the exception of certain streets and wards. Looking at how many tickets were issued outside of that time frame, with the understanding that it could have been just before or just after.\n",
    "\n",
    "#### Notes\n",
    "\n",
    "* Only 280 tickets were issued outside of prohibited times, but it seems like they were issued throughout the day\n",
    "* Interesting, because most drivers still did not challenge these tickets, but those that did seemed to have an extremely high success rate compared to most other challenged tickets"
   ]
  },
  {
   "cell_type": "code",
   "execution_count": 7,
   "metadata": {
    "collapsed": false
   },
   "outputs": [
    {
     "name": "stdout",
     "output_type": "stream",
     "text": [
      "280 tickets were issued outside of the prohibited time\n"
     ]
    },
    {
     "data": {
      "text/plain": [
       "array([19, 14, 17, 19, 12, 18, 12,  8,  9, 18, 17, 18,  8, 17, 10, 10, 15,\n",
       "       14, 17, 14], dtype=int32)"
      ]
     },
     "execution_count": 7,
     "metadata": {},
     "output_type": "execute_result"
    }
   ],
   "source": [
    "taxi_bus_times = taxi_bus_st.loc[(taxi_bus_st.index.hour < 2) | (taxi_bus_st.index.hour > 7)]\n",
    "print('{} tickets were issued outside of the prohibited time'.format(taxi_bus_times['Ticket Number'].count()))\n",
    "taxi_bus_times.index.hour[:20]"
   ]
  },
  {
   "cell_type": "code",
   "execution_count": 10,
   "metadata": {
    "collapsed": false
   },
   "outputs": [
    {
     "data": {
      "text/plain": [
       "<matplotlib.axes._subplots.AxesSubplot at 0x1060647d0>"
      ]
     },
     "execution_count": 10,
     "metadata": {},
     "output_type": "execute_result"
    },
    {
     "data": {
      "image/png": "[encoded data removed]",
      "text/plain": [
       "<matplotlib.figure.Figure at 0x106064f90>"
      ]
     },
     "metadata": {},
     "output_type": "display_data"
    }
   ],
   "source": [
    "taxi_tix_times = taxi_bus_times.groupby(taxi_bus_times.index.hour)['Ticket Number'].count()\n",
    "taxi_tix_times.plot(kind='bar')"
   ]
  },
  {
   "cell_type": "code",
   "execution_count": 11,
   "metadata": {
    "collapsed": false
   },
   "outputs": [
    {
     "name": "stdout",
     "output_type": "stream",
     "text": [
      "Hearing status by number of taxi tickets issued\n"
     ]
    },
    {
     "data": {
      "text/plain": [
       "<matplotlib.axes._subplots.AxesSubplot at 0x106efae90>"
      ]
     },
     "execution_count": 11,
     "metadata": {},
     "output_type": "execute_result"
    },
    {
     "data": {
      "image/png": "[encoded data removed]",
      "text/plain": [
       "<matplotlib.figure.Figure at 0x111729510>"
      ]
     },
     "metadata": {},
     "output_type": "display_data"
    }
   ],
   "source": [
    "# Challenges for these tickets\n",
    "hearing_group = taxi_bus_times.groupby(['Hearing Dispo'])['Ticket Number'].count()\n",
    "hearing_group = hearing_group.sort_values(ascending=False)\n",
    "print('Hearing status by number of taxi tickets issued')\n",
    "hearing_group.plot(kind='pie',autopct='%1.1f%%', fontsize=12)"
   ]
  },
  {
   "cell_type": "code",
   "execution_count": null,
   "metadata": {
    "collapsed": true
   },
   "outputs": [],
   "source": []
  }
 ],
 "metadata": {
  "kernelspec": {
   "display_name": "Python 2",
   "language": "python",
   "name": "python2"
  },
  "language_info": {
   "codemirror_mode": {
    "name": "ipython",
    "version": 2
   },
   "file_extension": ".py",
   "mimetype": "text/x-python",
   "name": "python",
   "nbconvert_exporter": "python",
   "pygments_lexer": "ipython2",
   "version": "2.7.10"
  }
 },
 "nbformat": 4,
 "nbformat_minor": 0
}
