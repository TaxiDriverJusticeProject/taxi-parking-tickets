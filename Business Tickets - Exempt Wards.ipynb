{
 "cells": [
  {
   "cell_type": "code",
   "execution_count": 1,
   "metadata": {
    "collapsed": true
   },
   "outputs": [],
   "source": [
    "from __future__ import absolute_import, division, print_function, unicode_literals\n",
    "import numpy as np\n",
    "import pandas as pd\n",
    "import matplotlib.pyplot as plt\n",
    "import seaborn as sns\n",
    "%matplotlib inline"
   ]
  },
  {
   "cell_type": "code",
   "execution_count": 2,
   "metadata": {
    "collapsed": false
   },
   "outputs": [
    {
     "name": "stdout",
     "output_type": "stream",
     "text": [
      "Ticket Number              int64\n",
      "License Plate Number      object\n",
      "License Plate State       object\n",
      "License Plate Type        object\n",
      "Ticket Make               object\n",
      "Issue Date                object\n",
      "Violation Location        object\n",
      "Violation Code            object\n",
      "Violation Description     object\n",
      "Badge                     object\n",
      "Unit                      object\n",
      "Ticket Queue              object\n",
      "Hearing Dispo             object\n",
      "Latitude                 float64\n",
      "Longitude                float64\n",
      "Ward                       int64\n",
      "dtype: object\n",
      "(261936, 16)\n"
     ]
    },
    {
     "name": "stderr",
     "output_type": "stream",
     "text": [
      "/usr/local/lib/python2.7/site-packages/IPython/core/interactiveshell.py:2723: DtypeWarning: Columns (10) have mixed types. Specify dtype option on import or set low_memory=False.\n",
      "  interactivity=interactivity, compiler=compiler, result=result)\n"
     ]
    },
    {
     "data": {
      "text/html": [
       "<div>\n",
       "<table border=\"1\" class=\"dataframe\">\n",
       "  <thead>\n",
       "    <tr style=\"text-align: right;\">\n",
       "      <th></th>\n",
       "      <th>Ticket Number</th>\n",
       "      <th>License Plate Number</th>\n",
       "      <th>License Plate State</th>\n",
       "      <th>License Plate Type</th>\n",
       "      <th>Ticket Make</th>\n",
       "      <th>Issue Date</th>\n",
       "      <th>Violation Location</th>\n",
       "      <th>Violation Code</th>\n",
       "      <th>Violation Description</th>\n",
       "      <th>Badge</th>\n",
       "      <th>Unit</th>\n",
       "      <th>Ticket Queue</th>\n",
       "      <th>Hearing Dispo</th>\n",
       "      <th>Latitude</th>\n",
       "      <th>Longitude</th>\n",
       "      <th>Ward</th>\n",
       "    </tr>\n",
       "  </thead>\n",
       "  <tbody>\n",
       "    <tr>\n",
       "      <th>0</th>\n",
       "      <td>55884862</td>\n",
       "      <td>4079TX</td>\n",
       "      <td>IL</td>\n",
       "      <td>TXI</td>\n",
       "      <td>FORD</td>\n",
       "      <td>01/02/2009 10:05 am</td>\n",
       "      <td>5210 N BROADWAY</td>\n",
       "      <td>0964190</td>\n",
       "      <td>EXPIRED METER OR OVERSTAY</td>\n",
       "      <td>8117</td>\n",
       "      <td>20</td>\n",
       "      <td>Paid</td>\n",
       "      <td>Did Not Challenge</td>\n",
       "      <td>41.976507</td>\n",
       "      <td>-87.659944</td>\n",
       "      <td>48</td>\n",
       "    </tr>\n",
       "    <tr>\n",
       "      <th>1</th>\n",
       "      <td>54574383</td>\n",
       "      <td>5141TX</td>\n",
       "      <td>IL</td>\n",
       "      <td>TXI</td>\n",
       "      <td>MERC</td>\n",
       "      <td>01/06/2009 06:53 am</td>\n",
       "      <td>4707 N PULASKI</td>\n",
       "      <td>0964170B</td>\n",
       "      <td>TRUCK,MOTOR HOME, BUS BUSINESS STREET</td>\n",
       "      <td>12769</td>\n",
       "      <td>17</td>\n",
       "      <td>Paid</td>\n",
       "      <td>Did Not Challenge</td>\n",
       "      <td>41.966575</td>\n",
       "      <td>-87.727904</td>\n",
       "      <td>39</td>\n",
       "    </tr>\n",
       "    <tr>\n",
       "      <th>2</th>\n",
       "      <td>55388795</td>\n",
       "      <td>25495TX</td>\n",
       "      <td>IL</td>\n",
       "      <td>TXI</td>\n",
       "      <td>MERC</td>\n",
       "      <td>01/05/2009 04:19 am</td>\n",
       "      <td>5721 W EASTWOOD</td>\n",
       "      <td>0964170A</td>\n",
       "      <td>TRUCK,RV,BUS, OR TAXI RESIDENTIAL STREET</td>\n",
       "      <td>13250</td>\n",
       "      <td>16</td>\n",
       "      <td>Notice</td>\n",
       "      <td>Did Not Challenge</td>\n",
       "      <td>41.964930</td>\n",
       "      <td>-87.770331</td>\n",
       "      <td>38</td>\n",
       "    </tr>\n",
       "    <tr>\n",
       "      <th>3</th>\n",
       "      <td>9177658970</td>\n",
       "      <td>25368TX</td>\n",
       "      <td>IL</td>\n",
       "      <td>TXI</td>\n",
       "      <td>OLDS</td>\n",
       "      <td>01/10/2009 10:30 am</td>\n",
       "      <td>6410 N CLAREMONT AV</td>\n",
       "      <td>0964190</td>\n",
       "      <td>EXPIRED METER OR OVERSTAY</td>\n",
       "      <td>197</td>\n",
       "      <td>498</td>\n",
       "      <td>Paid</td>\n",
       "      <td>Did Not Challenge</td>\n",
       "      <td>41.997942</td>\n",
       "      <td>-87.688741</td>\n",
       "      <td>50</td>\n",
       "    </tr>\n",
       "    <tr>\n",
       "      <th>4</th>\n",
       "      <td>55835485</td>\n",
       "      <td>3001TX</td>\n",
       "      <td>IL</td>\n",
       "      <td>TXI</td>\n",
       "      <td>FORD</td>\n",
       "      <td>01/01/2009 06:35 pm</td>\n",
       "      <td>36 W 26TH</td>\n",
       "      <td>0976160F</td>\n",
       "      <td>EXPIRED PLATES OR TEMPORARY REGISTRATION</td>\n",
       "      <td>19503</td>\n",
       "      <td>21</td>\n",
       "      <td>Bankruptcy</td>\n",
       "      <td>Did Not Challenge</td>\n",
       "      <td>41.845162</td>\n",
       "      <td>-87.628529</td>\n",
       "      <td>3</td>\n",
       "    </tr>\n",
       "  </tbody>\n",
       "</table>\n",
       "</div>"
      ],
      "text/plain": [
       "   Ticket Number License Plate Number License Plate State License Plate Type  \\\n",
       "0       55884862               4079TX                  IL                TXI   \n",
       "1       54574383               5141TX                  IL                TXI   \n",
       "2       55388795              25495TX                  IL                TXI   \n",
       "3     9177658970              25368TX                  IL                TXI   \n",
       "4       55835485               3001TX                  IL                TXI   \n",
       "\n",
       "  Ticket Make           Issue Date   Violation Location Violation Code  \\\n",
       "0        FORD  01/02/2009 10:05 am      5210 N BROADWAY        0964190   \n",
       "1        MERC  01/06/2009 06:53 am       4707 N PULASKI       0964170B   \n",
       "2        MERC  01/05/2009 04:19 am      5721 W EASTWOOD       0964170A   \n",
       "3        OLDS  01/10/2009 10:30 am  6410 N CLAREMONT AV        0964190   \n",
       "4        FORD  01/01/2009 06:35 pm            36 W 26TH       0976160F   \n",
       "\n",
       "                      Violation Description  Badge Unit Ticket Queue  \\\n",
       "0                 EXPIRED METER OR OVERSTAY   8117   20         Paid   \n",
       "1     TRUCK,MOTOR HOME, BUS BUSINESS STREET  12769   17         Paid   \n",
       "2  TRUCK,RV,BUS, OR TAXI RESIDENTIAL STREET  13250   16       Notice   \n",
       "3                 EXPIRED METER OR OVERSTAY    197  498         Paid   \n",
       "4  EXPIRED PLATES OR TEMPORARY REGISTRATION  19503   21   Bankruptcy   \n",
       "\n",
       "       Hearing Dispo   Latitude  Longitude  Ward  \n",
       "0  Did Not Challenge  41.976507 -87.659944    48  \n",
       "1  Did Not Challenge  41.966575 -87.727904    39  \n",
       "2  Did Not Challenge  41.964930 -87.770331    38  \n",
       "3  Did Not Challenge  41.997942 -87.688741    50  \n",
       "4  Did Not Challenge  41.845162 -87.628529     3  "
      ]
     },
     "execution_count": 2,
     "metadata": {},
     "output_type": "execute_result"
    }
   ],
   "source": [
    "taxi_tickets = pd.read_csv('taxi_ticket_data/taxi_tickets_by_ward.csv')\n",
    "print(taxi_tickets.dtypes)\n",
    "print(taxi_tickets.shape)\n",
    "taxi_tickets.head()"
   ]
  },
  {
   "cell_type": "markdown",
   "metadata": {},
   "source": [
    "## Business Street Ticket Exemptions\n",
    "\n",
    "According to [Chicago city ordinance](http://www.cityofchicago.org/city/en/depts/fin/supp_info/revenue/parking_your_commercialtruckinchicago.html) taxis are prohibited from parking on business streets in between 2:00am - 7:00am for more than 2 hours, except in certain streets and wards identified as exempt.\n",
    "\n",
    "The 40th and 50th wards have specific streets which are exempt, but the entire 23rd, 46th, and 49th wards are exempt from the restriction on taxi parking on business streets. However, some taxis are still ticketed under this violation code. The exemption may have been applied later, but will have to look at the ordinance amendments to find out"
   ]
  },
  {
   "cell_type": "code",
   "execution_count": 5,
   "metadata": {
    "collapsed": false
   },
   "outputs": [
    {
     "name": "stdout",
     "output_type": "stream",
     "text": [
      "(12644, 16)\n"
     ]
    },
    {
     "data": {
      "text/html": [
       "<div>\n",
       "<table border=\"1\" class=\"dataframe\">\n",
       "  <thead>\n",
       "    <tr style=\"text-align: right;\">\n",
       "      <th></th>\n",
       "      <th>Ticket Number</th>\n",
       "      <th>License Plate Number</th>\n",
       "      <th>License Plate State</th>\n",
       "      <th>License Plate Type</th>\n",
       "      <th>Ticket Make</th>\n",
       "      <th>Issue Date</th>\n",
       "      <th>Violation Location</th>\n",
       "      <th>Violation Code</th>\n",
       "      <th>Violation Description</th>\n",
       "      <th>Badge</th>\n",
       "      <th>Unit</th>\n",
       "      <th>Ticket Queue</th>\n",
       "      <th>Hearing Dispo</th>\n",
       "      <th>Latitude</th>\n",
       "      <th>Longitude</th>\n",
       "      <th>Ward</th>\n",
       "    </tr>\n",
       "  </thead>\n",
       "  <tbody>\n",
       "    <tr>\n",
       "      <th>1</th>\n",
       "      <td>54574383</td>\n",
       "      <td>5141TX</td>\n",
       "      <td>IL</td>\n",
       "      <td>TXI</td>\n",
       "      <td>MERC</td>\n",
       "      <td>01/06/2009 06:53 am</td>\n",
       "      <td>4707 N PULASKI</td>\n",
       "      <td>0964170B</td>\n",
       "      <td>TRUCK,MOTOR HOME, BUS BUSINESS STREET</td>\n",
       "      <td>12769</td>\n",
       "      <td>17</td>\n",
       "      <td>Paid</td>\n",
       "      <td>Did Not Challenge</td>\n",
       "      <td>41.966575</td>\n",
       "      <td>-87.727904</td>\n",
       "      <td>39</td>\n",
       "    </tr>\n",
       "    <tr>\n",
       "      <th>16</th>\n",
       "      <td>55571353</td>\n",
       "      <td>5493TX</td>\n",
       "      <td>IL</td>\n",
       "      <td>TXI</td>\n",
       "      <td>CHEV</td>\n",
       "      <td>01/09/2009 06:35 am</td>\n",
       "      <td>5433 N WESTERN</td>\n",
       "      <td>0964170B</td>\n",
       "      <td>TRUCK,MOTOR HOME, BUS BUSINESS STREET</td>\n",
       "      <td>3357</td>\n",
       "      <td>20</td>\n",
       "      <td>Paid</td>\n",
       "      <td>Liable</td>\n",
       "      <td>41.980131</td>\n",
       "      <td>-87.689240</td>\n",
       "      <td>40</td>\n",
       "    </tr>\n",
       "    <tr>\n",
       "      <th>32</th>\n",
       "      <td>55773331</td>\n",
       "      <td>5526TX</td>\n",
       "      <td>IL</td>\n",
       "      <td>TXI</td>\n",
       "      <td>FORD</td>\n",
       "      <td>02/04/2009 06:30 am</td>\n",
       "      <td>6025  WESTERN</td>\n",
       "      <td>0964170B</td>\n",
       "      <td>TRUCK,MOTOR HOME, BUS BUSINESS STREET</td>\n",
       "      <td>17392</td>\n",
       "      <td>24</td>\n",
       "      <td>Notice</td>\n",
       "      <td>Did Not Challenge</td>\n",
       "      <td>41.809069</td>\n",
       "      <td>-87.911448</td>\n",
       "      <td>0</td>\n",
       "    </tr>\n",
       "    <tr>\n",
       "      <th>33</th>\n",
       "      <td>55773397</td>\n",
       "      <td>5526TX</td>\n",
       "      <td>IL</td>\n",
       "      <td>TXI</td>\n",
       "      <td>FORD</td>\n",
       "      <td>02/05/2009 06:30 am</td>\n",
       "      <td>6025  WESTERN</td>\n",
       "      <td>0964170B</td>\n",
       "      <td>TRUCK,MOTOR HOME, BUS BUSINESS STREET</td>\n",
       "      <td>17392</td>\n",
       "      <td>24</td>\n",
       "      <td>Notice</td>\n",
       "      <td>Did Not Challenge</td>\n",
       "      <td>41.809069</td>\n",
       "      <td>-87.911448</td>\n",
       "      <td>0</td>\n",
       "    </tr>\n",
       "    <tr>\n",
       "      <th>46</th>\n",
       "      <td>56067085</td>\n",
       "      <td>2426TX</td>\n",
       "      <td>IL</td>\n",
       "      <td>TXI</td>\n",
       "      <td>FORD</td>\n",
       "      <td>02/17/2009 06:30 am</td>\n",
       "      <td>5412 N DAMEN</td>\n",
       "      <td>0964170B</td>\n",
       "      <td>TRUCK,MOTOR HOME, BUS BUSINESS STREET</td>\n",
       "      <td>3357</td>\n",
       "      <td>20</td>\n",
       "      <td>Dismissed</td>\n",
       "      <td>Not Liable</td>\n",
       "      <td>41.980032</td>\n",
       "      <td>-87.679598</td>\n",
       "      <td>40</td>\n",
       "    </tr>\n",
       "  </tbody>\n",
       "</table>\n",
       "</div>"
      ],
      "text/plain": [
       "    Ticket Number License Plate Number License Plate State License Plate Type  \\\n",
       "1        54574383               5141TX                  IL                TXI   \n",
       "16       55571353               5493TX                  IL                TXI   \n",
       "32       55773331               5526TX                  IL                TXI   \n",
       "33       55773397               5526TX                  IL                TXI   \n",
       "46       56067085               2426TX                  IL                TXI   \n",
       "\n",
       "   Ticket Make           Issue Date Violation Location Violation Code  \\\n",
       "1         MERC  01/06/2009 06:53 am     4707 N PULASKI       0964170B   \n",
       "16        CHEV  01/09/2009 06:35 am     5433 N WESTERN       0964170B   \n",
       "32        FORD  02/04/2009 06:30 am      6025  WESTERN       0964170B   \n",
       "33        FORD  02/05/2009 06:30 am      6025  WESTERN       0964170B   \n",
       "46        FORD  02/17/2009 06:30 am       5412 N DAMEN       0964170B   \n",
       "\n",
       "                    Violation Description  Badge Unit Ticket Queue  \\\n",
       "1   TRUCK,MOTOR HOME, BUS BUSINESS STREET  12769   17         Paid   \n",
       "16  TRUCK,MOTOR HOME, BUS BUSINESS STREET   3357   20         Paid   \n",
       "32  TRUCK,MOTOR HOME, BUS BUSINESS STREET  17392   24       Notice   \n",
       "33  TRUCK,MOTOR HOME, BUS BUSINESS STREET  17392   24       Notice   \n",
       "46  TRUCK,MOTOR HOME, BUS BUSINESS STREET   3357   20    Dismissed   \n",
       "\n",
       "        Hearing Dispo   Latitude  Longitude  Ward  \n",
       "1   Did Not Challenge  41.966575 -87.727904    39  \n",
       "16             Liable  41.980131 -87.689240    40  \n",
       "32  Did Not Challenge  41.809069 -87.911448     0  \n",
       "33  Did Not Challenge  41.809069 -87.911448     0  \n",
       "46         Not Liable  41.980032 -87.679598    40  "
      ]
     },
     "execution_count": 5,
     "metadata": {},
     "output_type": "execute_result"
    }
   ],
   "source": [
    "taxi_bus_st = taxi_tickets[taxi_tickets['Violation Code'] == '0964170B']\n",
    "print(taxi_bus_st.shape)\n",
    "taxi_bus_st.head()"
   ]
  },
  {
   "cell_type": "code",
   "execution_count": 7,
   "metadata": {
    "collapsed": false
   },
   "outputs": [
    {
     "data": {
      "text/plain": [
       "<matplotlib.axes._subplots.AxesSubplot at 0x10acac490>"
      ]
     },
     "execution_count": 7,
     "metadata": {},
     "output_type": "execute_result"
    },
    {
     "data": {
      "image/png": "[encoded data removed]",
      "text/plain": [
       "<matplotlib.figure.Figure at 0x10968a1d0>"
      ]
     },
     "metadata": {},
     "output_type": "display_data"
    }
   ],
   "source": [
    "taxi_bus_st_ward = taxi_bus_st.groupby(['Ward'])['Ticket Number'].count()\n",
    "taxi_bus_st_ward = taxi_bus_st_ward.sort_values(ascending=False)\n",
    "taxi_bus_st_ward = taxi_bus_st_ward[:10]\n",
    "taxi_bus_st_ward.plot(kind='bar')"
   ]
  },
  {
   "cell_type": "code",
   "execution_count": 10,
   "metadata": {
    "collapsed": false
   },
   "outputs": [
    {
     "data": {
      "text/plain": [
       "385"
      ]
     },
     "execution_count": 10,
     "metadata": {},
     "output_type": "execute_result"
    }
   ],
   "source": [
    "# Count of business street tickets given in wards with exemptions\n",
    "bus_exempt_ward_tix = taxi_bus_st[taxi_bus_st['Ward'].isin([23,46,49])]\n",
    "bus_exempt_ward_tix['Ticket Number'].count()"
   ]
  },
  {
   "cell_type": "code",
   "execution_count": 12,
   "metadata": {
    "collapsed": false
   },
   "outputs": [
    {
     "name": "stderr",
     "output_type": "stream",
     "text": [
      "/usr/local/lib/python2.7/site-packages/ipykernel/__main__.py:2: SettingWithCopyWarning: \n",
      "A value is trying to be set on a copy of a slice from a DataFrame.\n",
      "Try using .loc[row_indexer,col_indexer] = value instead\n",
      "\n",
      "See the caveats in the documentation: http://pandas.pydata.org/pandas-docs/stable/indexing.html#indexing-view-versus-copy\n",
      "  from ipykernel import kernelapp as app\n"
     ]
    },
    {
     "data": {
      "text/plain": [
       "61347    2015-10-13 23:23:00\n",
       "48878    2015-04-29 08:17:00\n",
       "235057   2015-04-02 06:30:00\n",
       "171798   2015-04-02 06:27:00\n",
       "147203   2015-04-02 06:19:00\n",
       "86065    2015-04-02 06:18:00\n",
       "114631   2015-04-02 06:17:00\n",
       "36592    2015-04-02 06:16:00\n",
       "106468   2015-04-02 06:15:00\n",
       "5954     2015-04-02 06:13:00\n",
       "Name: Issue Date, dtype: datetime64[ns]"
      ]
     },
     "execution_count": 12,
     "metadata": {},
     "output_type": "execute_result"
    }
   ],
   "source": [
    "# Most recent tickets given in exempt wards for business street tickets\n",
    "bus_exempt_ward_tix['Issue Date'] = pd.to_datetime(bus_exempt_ward_tix['Issue Date'])\n",
    "bus_exempt_wards_recent = bus_exempt_ward_tix.sort_values(['Issue Date'], ascending=False)[:10]\n",
    "bus_exempt_wards_recent['Issue Date']"
   ]
  },
  {
   "cell_type": "markdown",
   "metadata": {},
   "source": [
    "### Business Street Exempt Wards\n",
    "\n",
    "* A significant number of tickets still seem to be given out for taxi business street parking\n",
    "* Despite this, 56.4% of tickets were not challenged (will need to see if they were given before the exemptions were created)"
   ]
  },
  {
   "cell_type": "code",
   "execution_count": 13,
   "metadata": {
    "collapsed": false
   },
   "outputs": [
    {
     "data": {
      "text/plain": [
       "<matplotlib.axes._subplots.AxesSubplot at 0x10968af50>"
      ]
     },
     "execution_count": 13,
     "metadata": {},
     "output_type": "execute_result"
    },
    {
     "data": {
      "image/png": "[encoded data removed]",
      "text/plain": [
       "<matplotlib.figure.Figure at 0x10f5b18d0>"
      ]
     },
     "metadata": {},
     "output_type": "display_data"
    }
   ],
   "source": [
    "bus_exempt_outcomes = bus_exempt_ward_tix.groupby(['Hearing Dispo'])['Ticket Number'].count()\n",
    "bus_exempt_outcomes.plot(kind='pie',autopct='%1.1f%%', fontsize=16)"
   ]
  },
  {
   "cell_type": "code",
   "execution_count": null,
   "metadata": {
    "collapsed": true
   },
   "outputs": [],
   "source": []
  }
 ],
 "metadata": {
  "kernelspec": {
   "display_name": "Python 2",
   "language": "python",
   "name": "python2"
  },
  "language_info": {
   "codemirror_mode": {
    "name": "ipython",
    "version": 2
   },
   "file_extension": ".py",
   "mimetype": "text/x-python",
   "name": "python",
   "nbconvert_exporter": "python",
   "pygments_lexer": "ipython2",
   "version": "2.7.10"
  }
 },
 "nbformat": 4,
 "nbformat_minor": 0
}
