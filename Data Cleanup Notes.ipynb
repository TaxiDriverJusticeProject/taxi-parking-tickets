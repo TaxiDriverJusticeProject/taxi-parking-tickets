{
 "cells": [
  {
   "cell_type": "markdown",
   "metadata": {},
   "source": [
    "# Notes on Data Cleanup\n",
    "\n",
    "## Dataset\n",
    "\n",
    "* The full ticket dataset comes from a FOIA request, and contains tickets from January 1, 2009 to around March 10, 2016. Because of its size, it's gzip compressed\n",
    "* Pandas can read directly from compressed files, but due to the large size, you'll need to use a `chunksize` argument to return an iterator, described in the documentation here: [Iterating through files chunk by chunk](http://pandas.pydata.org/pandas-docs/stable/io.html#iterating-through-files-chunk-by-chunk)\n",
    "* Data is mostly gitignored because of GitHub size restrictions\n",
    "\n",
    "## Modifications\n",
    "\n",
    "* Overall, the data isn't changed much, and most differences are additions (coordinates, ward, ticket cost) rather than modifications\n",
    "* The 'Hearing Dispo' column describing parking ticket hearings ([Chicago Parking Ticket Hearing Description](http://www.cityofchicago.org/city/en/depts/ah/supp_info/the_hearing_process/what_to_expect_atahearing.html))is the most significant modification. Any ticket that did not have a hearing in the original csv will have `NaN` for this value. To make aggregations easier, given that most tickets are not challenged, this was changed to `'Did Not Challenge'`\n",
    "\n",
    "## Geocoding\n",
    "\n",
    "* Geocoding was done with a [TIGER/Line-based geocoder](https://github.com/pjsier/tiger-county-geocoder) with some additional functionality from [Pete Warden's Data Science Toolkit](https://github.com/petewarden/dstk)\n",
    "\n",
    "## Taxi vs. Not Taxi\n",
    "\n",
    "* The column 'License Plate Type' has a value 'TXI' that describes taxi license plates, which also always end with 'TX'\n",
    "* These plates can also be matched up to the [Public Passenger Vehicle License public vehicle number](https://data.cityofchicago.org/Community-Economic-Development/Public-Passenger-Vehicle-Licenses/tfm3-3j95) on the Chicago Open Data Portal. The public vehicle number is just the plate number with 'TX' removed from the end"
   ]
  }
 ],
 "metadata": {
  "kernelspec": {
   "display_name": "Python 2",
   "language": "python",
   "name": "python2"
  },
  "language_info": {
   "codemirror_mode": {
    "name": "ipython",
    "version": 2
   },
   "file_extension": ".py",
   "mimetype": "text/x-python",
   "name": "python",
   "nbconvert_exporter": "python",
   "pygments_lexer": "ipython2",
   "version": "2.7.10"
  }
 },
 "nbformat": 4,
 "nbformat_minor": 0
}
