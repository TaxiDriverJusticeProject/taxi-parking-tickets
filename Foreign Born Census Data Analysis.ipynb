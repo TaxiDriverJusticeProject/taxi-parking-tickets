{
 "cells": [
  {
   "cell_type": "code",
   "execution_count": 1,
   "metadata": {
    "collapsed": true
   },
   "outputs": [],
   "source": [
    "from __future__ import absolute_import, division, print_function, unicode_literals\n",
    "import numpy as np\n",
    "import pandas as pd\n",
    "import matplotlib.pyplot as plt\n",
    "import seaborn as sns\n",
    "%matplotlib inline"
   ]
  },
  {
   "cell_type": "markdown",
   "metadata": {},
   "source": [
    "## American Community Survey Immigration Data\n",
    "\n",
    "* A large proportion of taxi drivers are immigrants compared to the general population\n",
    "* Looking at American Community Survey from 2014 data indicating birth in the United States or abroad at the block group level, and merging this with the locations of residential parking tickets given to taxis "
   ]
  },
  {
   "cell_type": "code",
   "execution_count": 3,
   "metadata": {
    "collapsed": false
   },
   "outputs": [
    {
     "name": "stdout",
     "output_type": "stream",
     "text": [
      "(1678, 7)\n",
      "gid              int64\n",
      "gisjoin         object\n",
      "total_pop        int64\n",
      "native_pop       int64\n",
      "forgn_pop        int64\n",
      "forgn_pct      float64\n",
      "res_tickets      int64\n",
      "dtype: object\n"
     ]
    },
    {
     "data": {
      "text/html": [
       "<div>\n",
       "<table border=\"1\" class=\"dataframe\">\n",
       "  <thead>\n",
       "    <tr style=\"text-align: right;\">\n",
       "      <th></th>\n",
       "      <th>gid</th>\n",
       "      <th>gisjoin</th>\n",
       "      <th>total_pop</th>\n",
       "      <th>native_pop</th>\n",
       "      <th>forgn_pop</th>\n",
       "      <th>forgn_pct</th>\n",
       "      <th>res_tickets</th>\n",
       "    </tr>\n",
       "  </thead>\n",
       "  <tbody>\n",
       "    <tr>\n",
       "      <th>0</th>\n",
       "      <td>251</td>\n",
       "      <td>G17003105203003</td>\n",
       "      <td>1129</td>\n",
       "      <td>718</td>\n",
       "      <td>411</td>\n",
       "      <td>0.36404</td>\n",
       "      <td>1</td>\n",
       "    </tr>\n",
       "    <tr>\n",
       "      <th>1</th>\n",
       "      <td>2026</td>\n",
       "      <td>G17003102420002</td>\n",
       "      <td>1802</td>\n",
       "      <td>1515</td>\n",
       "      <td>287</td>\n",
       "      <td>0.15927</td>\n",
       "      <td>3</td>\n",
       "    </tr>\n",
       "    <tr>\n",
       "      <th>2</th>\n",
       "      <td>264</td>\n",
       "      <td>G17003103510001</td>\n",
       "      <td>1011</td>\n",
       "      <td>970</td>\n",
       "      <td>41</td>\n",
       "      <td>0.04055</td>\n",
       "      <td>21</td>\n",
       "    </tr>\n",
       "    <tr>\n",
       "      <th>3</th>\n",
       "      <td>1070</td>\n",
       "      <td>G17003103907002</td>\n",
       "      <td>1466</td>\n",
       "      <td>1377</td>\n",
       "      <td>89</td>\n",
       "      <td>0.06071</td>\n",
       "      <td>18</td>\n",
       "    </tr>\n",
       "    <tr>\n",
       "      <th>4</th>\n",
       "      <td>1350</td>\n",
       "      <td>G17003103812002</td>\n",
       "      <td>1302</td>\n",
       "      <td>1265</td>\n",
       "      <td>37</td>\n",
       "      <td>0.02842</td>\n",
       "      <td>23</td>\n",
       "    </tr>\n",
       "  </tbody>\n",
       "</table>\n",
       "</div>"
      ],
      "text/plain": [
       "    gid          gisjoin  total_pop  native_pop  forgn_pop  forgn_pct  \\\n",
       "0   251  G17003105203003       1129         718        411    0.36404   \n",
       "1  2026  G17003102420002       1802        1515        287    0.15927   \n",
       "2   264  G17003103510001       1011         970         41    0.04055   \n",
       "3  1070  G17003103907002       1466        1377         89    0.06071   \n",
       "4  1350  G17003103812002       1302        1265         37    0.02842   \n",
       "\n",
       "   res_tickets  \n",
       "0            1  \n",
       "1            3  \n",
       "2           21  \n",
       "3           18  \n",
       "4           23  "
      ]
     },
     "execution_count": 3,
     "metadata": {},
     "output_type": "execute_result"
    }
   ],
   "source": [
    "chi_res_tix = pd.read_csv('taxi_ticket_data/immigration_acs_data/chi_bg_res_tix_join.csv')\n",
    "print(chi_res_tix.shape)\n",
    "print(chi_res_tix.dtypes)\n",
    "chi_res_tix.head()"
   ]
  },
  {
   "cell_type": "code",
   "execution_count": 4,
   "metadata": {
    "collapsed": false
   },
   "outputs": [
    {
     "name": "stdout",
     "output_type": "stream",
     "text": [
      "(151, 7)\n"
     ]
    },
    {
     "data": {
      "text/html": [
       "<div>\n",
       "<table border=\"1\" class=\"dataframe\">\n",
       "  <thead>\n",
       "    <tr style=\"text-align: right;\">\n",
       "      <th></th>\n",
       "      <th>gid</th>\n",
       "      <th>gisjoin</th>\n",
       "      <th>total_pop</th>\n",
       "      <th>native_pop</th>\n",
       "      <th>forgn_pop</th>\n",
       "      <th>forgn_pct</th>\n",
       "      <th>res_tickets</th>\n",
       "    </tr>\n",
       "  </thead>\n",
       "  <tbody>\n",
       "    <tr>\n",
       "      <th>16</th>\n",
       "      <td>1283</td>\n",
       "      <td>G17003107608033</td>\n",
       "      <td>1807</td>\n",
       "      <td>876</td>\n",
       "      <td>931</td>\n",
       "      <td>0.51522</td>\n",
       "      <td>343</td>\n",
       "    </tr>\n",
       "    <tr>\n",
       "      <th>33</th>\n",
       "      <td>1171</td>\n",
       "      <td>G17003100315013</td>\n",
       "      <td>1221</td>\n",
       "      <td>867</td>\n",
       "      <td>354</td>\n",
       "      <td>0.28993</td>\n",
       "      <td>79</td>\n",
       "    </tr>\n",
       "    <tr>\n",
       "      <th>43</th>\n",
       "      <td>1582</td>\n",
       "      <td>G17003101502002</td>\n",
       "      <td>1665</td>\n",
       "      <td>1008</td>\n",
       "      <td>657</td>\n",
       "      <td>0.39459</td>\n",
       "      <td>224</td>\n",
       "    </tr>\n",
       "    <tr>\n",
       "      <th>49</th>\n",
       "      <td>489</td>\n",
       "      <td>G17003100106002</td>\n",
       "      <td>844</td>\n",
       "      <td>599</td>\n",
       "      <td>245</td>\n",
       "      <td>0.29028</td>\n",
       "      <td>120</td>\n",
       "    </tr>\n",
       "    <tr>\n",
       "      <th>56</th>\n",
       "      <td>325</td>\n",
       "      <td>G17003104601004</td>\n",
       "      <td>798</td>\n",
       "      <td>586</td>\n",
       "      <td>212</td>\n",
       "      <td>0.26566</td>\n",
       "      <td>57</td>\n",
       "    </tr>\n",
       "  </tbody>\n",
       "</table>\n",
       "</div>"
      ],
      "text/plain": [
       "     gid          gisjoin  total_pop  native_pop  forgn_pop  forgn_pct  \\\n",
       "16  1283  G17003107608033       1807         876        931    0.51522   \n",
       "33  1171  G17003100315013       1221         867        354    0.28993   \n",
       "43  1582  G17003101502002       1665        1008        657    0.39459   \n",
       "49   489  G17003100106002        844         599        245    0.29028   \n",
       "56   325  G17003104601004        798         586        212    0.26566   \n",
       "\n",
       "    res_tickets  \n",
       "16          343  \n",
       "33           79  \n",
       "43          224  \n",
       "49          120  \n",
       "56           57  "
      ]
     },
     "execution_count": 4,
     "metadata": {},
     "output_type": "execute_result"
    }
   ],
   "source": [
    "chi_res_tix_high = chi_res_tix[chi_res_tix['res_tickets'] > 50]\n",
    "print(chi_res_tix_high.shape)\n",
    "chi_res_tix_high.head()"
   ]
  },
  {
   "cell_type": "code",
   "execution_count": 5,
   "metadata": {
    "collapsed": false
   },
   "outputs": [
    {
     "data": {
      "text/plain": [
       "<matplotlib.axes._subplots.AxesSubplot at 0x10dc96510>"
      ]
     },
     "execution_count": 5,
     "metadata": {},
     "output_type": "execute_result"
    },
    {
     "name": "stderr",
     "output_type": "stream",
     "text": [
      "/Library/Python/2.7/site-packages/matplotlib-override/matplotlib/collections.py:590: FutureWarning: elementwise comparison failed; returning scalar instead, but in the future will perform elementwise comparison\n",
      "  if self._edgecolors == str('face'):\n"
     ]
    },
    {
     "data": {
      "image/png": "[encoded data removed]",
      "text/plain": [
       "<matplotlib.figure.Figure at 0x10dc968d0>"
      ]
     },
     "metadata": {},
     "output_type": "display_data"
    }
   ],
   "source": [
    "chi_res_tix_high.plot(x='forgn_pop', y='res_tickets', kind='scatter')"
   ]
  },
  {
   "cell_type": "code",
   "execution_count": 6,
   "metadata": {
    "collapsed": false
   },
   "outputs": [
    {
     "data": {
      "text/plain": [
       "<matplotlib.axes._subplots.AxesSubplot at 0x1082f1610>"
      ]
     },
     "execution_count": 6,
     "metadata": {},
     "output_type": "execute_result"
    },
    {
     "data": {
      "image/png": "[encoded data removed]",
      "text/plain": [
       "<matplotlib.figure.Figure at 0x1082f1650>"
      ]
     },
     "metadata": {},
     "output_type": "display_data"
    }
   ],
   "source": [
    "chi_res_tix_high.plot(x='forgn_pct', y='res_tickets', kind='scatter')"
   ]
  },
  {
   "cell_type": "code",
   "execution_count": 7,
   "metadata": {
    "collapsed": false
   },
   "outputs": [
    {
     "name": "stdout",
     "output_type": "stream",
     "text": [
      "Total block groups: 1678\n",
      "Total block groups with more than 300 residential tickets: 23\n"
     ]
    }
   ],
   "source": [
    "print('Total block groups: {}'.format(chi_res_tix['gid'].count()))\n",
    "print('Total block groups with more than 300 residential tickets: {}'.format(chi_res_tix[chi_res_tix['res_tickets'] > 300]['gid'].count()))"
   ]
  },
  {
   "cell_type": "code",
   "execution_count": 8,
   "metadata": {
    "collapsed": false
   },
   "outputs": [
    {
     "name": "stdout",
     "output_type": "stream",
     "text": [
      "Mean foreign-born pop for all block groups: 286.1829559\n",
      "Mean foreign-born pop for highest residential tickets: 701.652173913\n"
     ]
    }
   ],
   "source": [
    "mean_foreign_pop = chi_res_tix['forgn_pop'].mean()\n",
    "print('Mean foreign-born pop for all block groups: {}'.format(mean_foreign_pop))\n",
    "high_res_tix_bg = chi_res_tix[chi_res_tix['res_tickets'] > 300]\n",
    "print('Mean foreign-born pop for highest residential tickets: {}'.format(high_res_tix_bg['forgn_pop'].mean()))"
   ]
  },
  {
   "cell_type": "code",
   "execution_count": 9,
   "metadata": {
    "collapsed": false
   },
   "outputs": [
    {
     "name": "stdout",
     "output_type": "stream",
     "text": [
      "Mean foreign-born % for all block groups: 0.200874755078\n",
      "Mean foreign-born % for highest residential tickets: 0.384797826087\n"
     ]
    }
   ],
   "source": [
    "mean_foreign_pop = chi_res_tix['forgn_pct'].mean()\n",
    "print('Mean foreign-born % for all block groups: {}'.format(mean_foreign_pop))\n",
    "high_res_tix_bg = chi_res_tix[chi_res_tix['res_tickets'] > 300]\n",
    "print('Mean foreign-born % for highest residential tickets: {}'.format(high_res_tix_bg['forgn_pct'].mean()))"
   ]
  },
  {
   "cell_type": "code",
   "execution_count": 10,
   "metadata": {
    "collapsed": false
   },
   "outputs": [
    {
     "name": "stdout",
     "output_type": "stream",
     "text": [
      "Total block groups: 1678\n",
      "Total block groups with more than 200 residential tickets: 37\n"
     ]
    }
   ],
   "source": [
    "print('Total block groups: {}'.format(chi_res_tix['gid'].count()))\n",
    "print('Total block groups with more than 200 residential tickets: {}'.format(chi_res_tix[chi_res_tix['res_tickets'] > 200]['gid'].count()))"
   ]
  },
  {
   "cell_type": "code",
   "execution_count": 11,
   "metadata": {
    "collapsed": false
   },
   "outputs": [
    {
     "name": "stderr",
     "output_type": "stream",
     "text": [
      "/usr/local/lib/python2.7/site-packages/numpy/lib/function_base.py:3823: RuntimeWarning: Invalid value encountered in percentile\n",
      "  RuntimeWarning)\n"
     ]
    },
    {
     "data": {
      "text/html": [
       "<div>\n",
       "<table border=\"1\" class=\"dataframe\">\n",
       "  <thead>\n",
       "    <tr style=\"text-align: right;\">\n",
       "      <th></th>\n",
       "      <th>gid</th>\n",
       "      <th>total_pop</th>\n",
       "      <th>native_pop</th>\n",
       "      <th>forgn_pop</th>\n",
       "      <th>forgn_pct</th>\n",
       "      <th>res_tickets</th>\n",
       "    </tr>\n",
       "  </thead>\n",
       "  <tbody>\n",
       "    <tr>\n",
       "      <th>count</th>\n",
       "      <td>1678.000000</td>\n",
       "      <td>1678.000000</td>\n",
       "      <td>1678.000000</td>\n",
       "      <td>1678.000000</td>\n",
       "      <td>1674.000000</td>\n",
       "      <td>1678.000000</td>\n",
       "    </tr>\n",
       "    <tr>\n",
       "      <th>mean</th>\n",
       "      <td>1171.135876</td>\n",
       "      <td>1296.116806</td>\n",
       "      <td>1009.933850</td>\n",
       "      <td>286.182956</td>\n",
       "      <td>0.200875</td>\n",
       "      <td>23.293802</td>\n",
       "    </tr>\n",
       "    <tr>\n",
       "      <th>std</th>\n",
       "      <td>668.476487</td>\n",
       "      <td>602.039041</td>\n",
       "      <td>483.107358</td>\n",
       "      <td>302.071582</td>\n",
       "      <td>0.171926</td>\n",
       "      <td>77.538134</td>\n",
       "    </tr>\n",
       "    <tr>\n",
       "      <th>min</th>\n",
       "      <td>1.000000</td>\n",
       "      <td>0.000000</td>\n",
       "      <td>0.000000</td>\n",
       "      <td>0.000000</td>\n",
       "      <td>0.000000</td>\n",
       "      <td>1.000000</td>\n",
       "    </tr>\n",
       "    <tr>\n",
       "      <th>25%</th>\n",
       "      <td>605.250000</td>\n",
       "      <td>896.250000</td>\n",
       "      <td>704.250000</td>\n",
       "      <td>40.000000</td>\n",
       "      <td>NaN</td>\n",
       "      <td>2.000000</td>\n",
       "    </tr>\n",
       "    <tr>\n",
       "      <th>50%</th>\n",
       "      <td>1171.500000</td>\n",
       "      <td>1211.500000</td>\n",
       "      <td>938.000000</td>\n",
       "      <td>192.000000</td>\n",
       "      <td>NaN</td>\n",
       "      <td>5.000000</td>\n",
       "    </tr>\n",
       "    <tr>\n",
       "      <th>75%</th>\n",
       "      <td>1765.750000</td>\n",
       "      <td>1583.000000</td>\n",
       "      <td>1253.000000</td>\n",
       "      <td>446.000000</td>\n",
       "      <td>NaN</td>\n",
       "      <td>14.000000</td>\n",
       "    </tr>\n",
       "    <tr>\n",
       "      <th>max</th>\n",
       "      <td>2330.000000</td>\n",
       "      <td>8881.000000</td>\n",
       "      <td>7963.000000</td>\n",
       "      <td>1822.000000</td>\n",
       "      <td>0.789860</td>\n",
       "      <td>1940.000000</td>\n",
       "    </tr>\n",
       "  </tbody>\n",
       "</table>\n",
       "</div>"
      ],
      "text/plain": [
       "               gid    total_pop   native_pop    forgn_pop    forgn_pct  \\\n",
       "count  1678.000000  1678.000000  1678.000000  1678.000000  1674.000000   \n",
       "mean   1171.135876  1296.116806  1009.933850   286.182956     0.200875   \n",
       "std     668.476487   602.039041   483.107358   302.071582     0.171926   \n",
       "min       1.000000     0.000000     0.000000     0.000000     0.000000   \n",
       "25%     605.250000   896.250000   704.250000    40.000000          NaN   \n",
       "50%    1171.500000  1211.500000   938.000000   192.000000          NaN   \n",
       "75%    1765.750000  1583.000000  1253.000000   446.000000          NaN   \n",
       "max    2330.000000  8881.000000  7963.000000  1822.000000     0.789860   \n",
       "\n",
       "       res_tickets  \n",
       "count  1678.000000  \n",
       "mean     23.293802  \n",
       "std      77.538134  \n",
       "min       1.000000  \n",
       "25%       2.000000  \n",
       "50%       5.000000  \n",
       "75%      14.000000  \n",
       "max    1940.000000  "
      ]
     },
     "execution_count": 11,
     "metadata": {},
     "output_type": "execute_result"
    }
   ],
   "source": [
    "chi_res_tix.describe()"
   ]
  },
  {
   "cell_type": "code",
   "execution_count": 15,
   "metadata": {
    "collapsed": false
   },
   "outputs": [
    {
     "data": {
      "text/html": [
       "<div>\n",
       "<table border=\"1\" class=\"dataframe\">\n",
       "  <thead>\n",
       "    <tr style=\"text-align: right;\">\n",
       "      <th></th>\n",
       "      <th>gid</th>\n",
       "      <th>gisjoin</th>\n",
       "      <th>total_pop</th>\n",
       "      <th>native_pop</th>\n",
       "      <th>forgn_pop</th>\n",
       "      <th>forgn_pct</th>\n",
       "      <th>res_tickets</th>\n",
       "    </tr>\n",
       "  </thead>\n",
       "  <tbody>\n",
       "    <tr>\n",
       "      <th>1236</th>\n",
       "      <td>1315</td>\n",
       "      <td>G17003100209021</td>\n",
       "      <td>2261</td>\n",
       "      <td>1366</td>\n",
       "      <td>895</td>\n",
       "      <td>0.39584</td>\n",
       "      <td>1940</td>\n",
       "    </tr>\n",
       "    <tr>\n",
       "      <th>125</th>\n",
       "      <td>879</td>\n",
       "      <td>G17003100204003</td>\n",
       "      <td>1908</td>\n",
       "      <td>1134</td>\n",
       "      <td>774</td>\n",
       "      <td>0.40566</td>\n",
       "      <td>839</td>\n",
       "    </tr>\n",
       "    <tr>\n",
       "      <th>506</th>\n",
       "      <td>424</td>\n",
       "      <td>G17003108080022</td>\n",
       "      <td>1286</td>\n",
       "      <td>717</td>\n",
       "      <td>569</td>\n",
       "      <td>0.44246</td>\n",
       "      <td>754</td>\n",
       "    </tr>\n",
       "    <tr>\n",
       "      <th>1079</th>\n",
       "      <td>1581</td>\n",
       "      <td>G17003101005005</td>\n",
       "      <td>1897</td>\n",
       "      <td>1376</td>\n",
       "      <td>521</td>\n",
       "      <td>0.27464</td>\n",
       "      <td>669</td>\n",
       "    </tr>\n",
       "    <tr>\n",
       "      <th>1050</th>\n",
       "      <td>483</td>\n",
       "      <td>G17003100107011</td>\n",
       "      <td>2105</td>\n",
       "      <td>1288</td>\n",
       "      <td>817</td>\n",
       "      <td>0.38812</td>\n",
       "      <td>646</td>\n",
       "    </tr>\n",
       "  </tbody>\n",
       "</table>\n",
       "</div>"
      ],
      "text/plain": [
       "       gid          gisjoin  total_pop  native_pop  forgn_pop  forgn_pct  \\\n",
       "1236  1315  G17003100209021       2261        1366        895    0.39584   \n",
       "125    879  G17003100204003       1908        1134        774    0.40566   \n",
       "506    424  G17003108080022       1286         717        569    0.44246   \n",
       "1079  1581  G17003101005005       1897        1376        521    0.27464   \n",
       "1050   483  G17003100107011       2105        1288        817    0.38812   \n",
       "\n",
       "      res_tickets  \n",
       "1236         1940  \n",
       "125           839  \n",
       "506           754  \n",
       "1079          669  \n",
       "1050          646  "
      ]
     },
     "execution_count": 15,
     "metadata": {},
     "output_type": "execute_result"
    }
   ],
   "source": [
    "res_tix_300 = chi_res_tix[chi_res_tix['res_tickets'] > 300]\n",
    "res_tix_300 = res_tix_300.sort_values('res_tickets', ascending=False)\n",
    "res_tix_300.head()"
   ]
  },
  {
   "cell_type": "code",
   "execution_count": 16,
   "metadata": {
    "collapsed": false
   },
   "outputs": [
    {
     "data": {
      "text/plain": [
       "<matplotlib.axes._subplots.AxesSubplot at 0x10e10bdd0>"
      ]
     },
     "execution_count": 16,
     "metadata": {},
     "output_type": "execute_result"
    },
    {
     "data": {
      "image/png": "[encoded data removed]",
      "text/plain": [
       "<matplotlib.figure.Figure at 0x10e10bf90>"
      ]
     },
     "metadata": {},
     "output_type": "display_data"
    }
   ],
   "source": [
    "res_tix_300.plot(x='forgn_pct', y='res_tickets', kind='scatter')"
   ]
  },
  {
   "cell_type": "code",
   "execution_count": 17,
   "metadata": {
    "collapsed": false
   },
   "outputs": [
    {
     "data": {
      "text/plain": [
       "<matplotlib.axes._subplots.AxesSubplot at 0x10ddb15d0>"
      ]
     },
     "execution_count": 17,
     "metadata": {},
     "output_type": "execute_result"
    },
    {
     "data": {
      "image/png": "[encoded data removed]",
      "text/plain": [
       "<matplotlib.figure.Figure at 0x10bc4a3d0>"
      ]
     },
     "metadata": {},
     "output_type": "display_data"
    }
   ],
   "source": [
    "chi_res_tix.plot(x='forgn_pop', y='res_tickets', kind='scatter')"
   ]
  },
  {
   "cell_type": "code",
   "execution_count": 18,
   "metadata": {
    "collapsed": false
   },
   "outputs": [
    {
     "data": {
      "text/plain": [
       "<matplotlib.axes._subplots.AxesSubplot at 0x10e15b110>"
      ]
     },
     "execution_count": 18,
     "metadata": {},
     "output_type": "execute_result"
    },
    {
     "data": {
      "image/png": "[encoded data removed]",
      "text/plain": [
       "<matplotlib.figure.Figure at 0x10dfac7d0>"
      ]
     },
     "metadata": {},
     "output_type": "display_data"
    }
   ],
   "source": [
    "chi_res_tix.plot(x='forgn_pct', y='res_tickets', kind='scatter')"
   ]
  },
  {
   "cell_type": "markdown",
   "metadata": {},
   "source": [
    "## Top Wards for Residential Tickets\n",
    "\n",
    "* The top wards for residential parking taxi tickets are those which contain some of the largest immigrant enclaves in Chicago (in particular the area around Devon Ave's South Asian community around the 40th and 50th)"
   ]
  },
  {
   "cell_type": "code",
   "execution_count": 22,
   "metadata": {
    "collapsed": false
   },
   "outputs": [
    {
     "name": "stdout",
     "output_type": "stream",
     "text": [
      "(261936, 16)\n",
      "(39096, 16)\n"
     ]
    }
   ],
   "source": [
    "ward_tickets = pd.read_csv('taxi_ticket_data/taxi_tickets_by_ward.csv')\n",
    "print(ward_tickets.shape)\n",
    "res_ward_tickets = ward_tickets[ward_tickets['Violation Code'] == '0964170A']\n",
    "print(res_ward_tickets.shape)\n",
    "ward_tickets_grouped = res_ward_tickets.groupby(['Ward'])['Ticket Number'].count()\n",
    "ward_tickets_grouped.sort_values(ascending=False, inplace=True)"
   ]
  },
  {
   "cell_type": "code",
   "execution_count": 23,
   "metadata": {
    "collapsed": false
   },
   "outputs": [
    {
     "name": "stdout",
     "output_type": "stream",
     "text": [
      "Top 5 wards have 21724 taxi residential parking tickets\n",
      "All other wards combined have 17372 taxi residential parking tickets\n"
     ]
    },
    {
     "data": {
      "text/plain": [
       "<matplotlib.axes._subplots.AxesSubplot at 0x10dfc06d0>"
      ]
     },
     "execution_count": 23,
     "metadata": {},
     "output_type": "execute_result"
    },
    {
     "data": {
      "image/png": "[encoded data removed]",
      "text/plain": [
       "<matplotlib.figure.Figure at 0x11328c3d0>"
      ]
     },
     "metadata": {},
     "output_type": "display_data"
    }
   ],
   "source": [
    "ward_top_5_tix = ward_tickets_grouped[:5].sum()\n",
    "other_ward_tix = ward_tickets_grouped[5:].sum()\n",
    "print('Top 5 wards have {} taxi residential parking tickets'.format(ward_top_5_tix))\n",
    "print('All other wards combined have {} taxi residential parking tickets'.format(other_ward_tix))\n",
    "ward_tickets_grouped[:20].plot(kind='bar')"
   ]
  },
  {
   "cell_type": "code",
   "execution_count": null,
   "metadata": {
    "collapsed": true
   },
   "outputs": [],
   "source": []
  }
 ],
 "metadata": {
  "kernelspec": {
   "display_name": "Python 2",
   "language": "python",
   "name": "python2"
  },
  "language_info": {
   "codemirror_mode": {
    "name": "ipython",
    "version": 2
   },
   "file_extension": ".py",
   "mimetype": "text/x-python",
   "name": "python",
   "nbconvert_exporter": "python",
   "pygments_lexer": "ipython2",
   "version": "2.7.10"
  }
 },
 "nbformat": 4,
 "nbformat_minor": 0
}
