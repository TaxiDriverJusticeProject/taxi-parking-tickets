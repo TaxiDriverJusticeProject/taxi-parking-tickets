{
 "cells": [
  {
   "cell_type": "code",
   "execution_count": 1,
   "metadata": {
    "collapsed": true
   },
   "outputs": [],
   "source": [
    "from __future__ import absolute_import, division, print_function, unicode_literals\n",
    "import numpy as np\n",
    "import pandas as pd\n",
    "import matplotlib.pyplot as plt\n",
    "import seaborn as sns\n",
    "%matplotlib inline"
   ]
  },
  {
   "cell_type": "code",
   "execution_count": 2,
   "metadata": {
    "collapsed": false
   },
   "outputs": [
    {
     "name": "stdout",
     "output_type": "stream",
     "text": [
      "Ticket Number             int64\n",
      "License Plate Number     object\n",
      "License Plate State      object\n",
      "License Plate Type       object\n",
      "Ticket Make              object\n",
      "Issue Date               object\n",
      "Violation Location       object\n",
      "Violation Code           object\n",
      "Violation Description    object\n",
      "Badge                    object\n",
      "Unit                     object\n",
      "Ticket Queue             object\n",
      "Hearing Dispo            object\n",
      "dtype: object\n",
      "(379349, 13)\n"
     ]
    },
    {
     "data": {
      "text/html": [
       "<div>\n",
       "<table border=\"1\" class=\"dataframe\">\n",
       "  <thead>\n",
       "    <tr style=\"text-align: right;\">\n",
       "      <th></th>\n",
       "      <th>Ticket Number</th>\n",
       "      <th>License Plate Number</th>\n",
       "      <th>License Plate State</th>\n",
       "      <th>License Plate Type</th>\n",
       "      <th>Ticket Make</th>\n",
       "      <th>Issue Date</th>\n",
       "      <th>Violation Location</th>\n",
       "      <th>Violation Code</th>\n",
       "      <th>Violation Description</th>\n",
       "      <th>Badge</th>\n",
       "      <th>Unit</th>\n",
       "      <th>Ticket Queue</th>\n",
       "      <th>Hearing Dispo</th>\n",
       "    </tr>\n",
       "  </thead>\n",
       "  <tbody>\n",
       "    <tr>\n",
       "      <th>83</th>\n",
       "      <td>9177566048</td>\n",
       "      <td>93955SB</td>\n",
       "      <td>IL</td>\n",
       "      <td>TRK</td>\n",
       "      <td>FORD</td>\n",
       "      <td>01/02/2009 09:24 am</td>\n",
       "      <td>2541 S HOMAN AVE</td>\n",
       "      <td>0964170A</td>\n",
       "      <td>TRUCK,RV,BUS, OR TAXI RESIDENTIAL STREET</td>\n",
       "      <td>636</td>\n",
       "      <td>498</td>\n",
       "      <td>Paid</td>\n",
       "      <td>NaN</td>\n",
       "    </tr>\n",
       "    <tr>\n",
       "      <th>95</th>\n",
       "      <td>9177638895</td>\n",
       "      <td>70303AB</td>\n",
       "      <td>IL</td>\n",
       "      <td>TRK</td>\n",
       "      <td>CHEV</td>\n",
       "      <td>01/05/2009 10:13 am</td>\n",
       "      <td>3406 W 62ND ST</td>\n",
       "      <td>0964170A</td>\n",
       "      <td>TRUCK,RV,BUS, OR TAXI RESIDENTIAL STREET</td>\n",
       "      <td>661</td>\n",
       "      <td>498</td>\n",
       "      <td>Paid</td>\n",
       "      <td>NaN</td>\n",
       "    </tr>\n",
       "    <tr>\n",
       "      <th>163</th>\n",
       "      <td>55824052</td>\n",
       "      <td>85825N</td>\n",
       "      <td>IL</td>\n",
       "      <td>TRK</td>\n",
       "      <td>FORD</td>\n",
       "      <td>01/03/2009 07:05 pm</td>\n",
       "      <td>1845 W HOOD</td>\n",
       "      <td>0964170A</td>\n",
       "      <td>TRUCK,RV,BUS, OR TAXI RESIDENTIAL STREET</td>\n",
       "      <td>12842</td>\n",
       "      <td>24</td>\n",
       "      <td>Define</td>\n",
       "      <td>NaN</td>\n",
       "    </tr>\n",
       "    <tr>\n",
       "      <th>213</th>\n",
       "      <td>54574383</td>\n",
       "      <td>5141TX</td>\n",
       "      <td>IL</td>\n",
       "      <td>TXI</td>\n",
       "      <td>MERC</td>\n",
       "      <td>01/06/2009 06:53 am</td>\n",
       "      <td>4707 N PULASKI</td>\n",
       "      <td>0964170B</td>\n",
       "      <td>TRUCK,MOTOR HOME, BUS BUSINESS STREET</td>\n",
       "      <td>12769</td>\n",
       "      <td>17</td>\n",
       "      <td>Paid</td>\n",
       "      <td>NaN</td>\n",
       "    </tr>\n",
       "    <tr>\n",
       "      <th>215</th>\n",
       "      <td>55388795</td>\n",
       "      <td>25495TX</td>\n",
       "      <td>IL</td>\n",
       "      <td>TXI</td>\n",
       "      <td>MERC</td>\n",
       "      <td>01/05/2009 04:19 am</td>\n",
       "      <td>5721 W EASTWOOD</td>\n",
       "      <td>0964170A</td>\n",
       "      <td>TRUCK,RV,BUS, OR TAXI RESIDENTIAL STREET</td>\n",
       "      <td>13250</td>\n",
       "      <td>16</td>\n",
       "      <td>Notice</td>\n",
       "      <td>NaN</td>\n",
       "    </tr>\n",
       "  </tbody>\n",
       "</table>\n",
       "</div>"
      ],
      "text/plain": [
       "     Ticket Number License Plate Number License Plate State  \\\n",
       "83      9177566048              93955SB                  IL   \n",
       "95      9177638895              70303AB                  IL   \n",
       "163       55824052               85825N                  IL   \n",
       "213       54574383               5141TX                  IL   \n",
       "215       55388795              25495TX                  IL   \n",
       "\n",
       "    License Plate Type Ticket Make           Issue Date Violation Location  \\\n",
       "83                 TRK        FORD  01/02/2009 09:24 am   2541 S HOMAN AVE   \n",
       "95                 TRK        CHEV  01/05/2009 10:13 am     3406 W 62ND ST   \n",
       "163                TRK        FORD  01/03/2009 07:05 pm        1845 W HOOD   \n",
       "213                TXI        MERC  01/06/2009 06:53 am     4707 N PULASKI   \n",
       "215                TXI        MERC  01/05/2009 04:19 am    5721 W EASTWOOD   \n",
       "\n",
       "    Violation Code                     Violation Description  Badge Unit  \\\n",
       "83        0964170A  TRUCK,RV,BUS, OR TAXI RESIDENTIAL STREET    636  498   \n",
       "95        0964170A  TRUCK,RV,BUS, OR TAXI RESIDENTIAL STREET    661  498   \n",
       "163       0964170A  TRUCK,RV,BUS, OR TAXI RESIDENTIAL STREET  12842   24   \n",
       "213       0964170B     TRUCK,MOTOR HOME, BUS BUSINESS STREET  12769   17   \n",
       "215       0964170A  TRUCK,RV,BUS, OR TAXI RESIDENTIAL STREET  13250   16   \n",
       "\n",
       "    Ticket Queue Hearing Dispo  \n",
       "83          Paid           NaN  \n",
       "95          Paid           NaN  \n",
       "163       Define           NaN  \n",
       "213         Paid           NaN  \n",
       "215       Notice           NaN  "
      ]
     },
     "execution_count": 2,
     "metadata": {},
     "output_type": "execute_result"
    }
   ],
   "source": [
    "ticket_chunks = pd.read_csv('ticket_archive/tickets.csv.gz', sep=';', chunksize=10000)\n",
    "chunk_list = list()\n",
    "for chunk in ticket_chunks:\n",
    "    chunk_df = chunk[chunk['Violation Code'].isin(['0964170A','0964170B'])]\n",
    "    chunk_list.append(chunk_df)\n",
    "res_bus_ticket_df = pd.concat(chunk_list)\n",
    "print(res_bus_ticket_df.dtypes)\n",
    "print(res_bus_ticket_df.shape)\n",
    "res_bus_ticket_df.head()"
   ]
  },
  {
   "cell_type": "code",
   "execution_count": 2,
   "metadata": {
    "collapsed": false
   },
   "outputs": [
    {
     "name": "stdout",
     "output_type": "stream",
     "text": [
      "(379349, 13)\n",
      "Ticket Number             int64\n",
      "License Plate Number     object\n",
      "License Plate State      object\n",
      "License Plate Type       object\n",
      "Ticket Make              object\n",
      "Issue Date               object\n",
      "Violation Location       object\n",
      "Violation Code           object\n",
      "Violation Description    object\n",
      "Badge                    object\n",
      "Unit                     object\n",
      "Ticket Queue             object\n",
      "Hearing Dispo            object\n",
      "dtype: object\n"
     ]
    },
    {
     "name": "stderr",
     "output_type": "stream",
     "text": [
      "/usr/local/lib/python2.7/site-packages/IPython/core/interactiveshell.py:2723: DtypeWarning: Columns (10) have mixed types. Specify dtype option on import or set low_memory=False.\n",
      "  interactivity=interactivity, compiler=compiler, result=result)\n"
     ]
    },
    {
     "data": {
      "text/html": [
       "<div>\n",
       "<table border=\"1\" class=\"dataframe\">\n",
       "  <thead>\n",
       "    <tr style=\"text-align: right;\">\n",
       "      <th></th>\n",
       "      <th>Ticket Number</th>\n",
       "      <th>License Plate Number</th>\n",
       "      <th>License Plate State</th>\n",
       "      <th>License Plate Type</th>\n",
       "      <th>Ticket Make</th>\n",
       "      <th>Issue Date</th>\n",
       "      <th>Violation Location</th>\n",
       "      <th>Violation Code</th>\n",
       "      <th>Violation Description</th>\n",
       "      <th>Badge</th>\n",
       "      <th>Unit</th>\n",
       "      <th>Ticket Queue</th>\n",
       "      <th>Hearing Dispo</th>\n",
       "    </tr>\n",
       "  </thead>\n",
       "  <tbody>\n",
       "    <tr>\n",
       "      <th>0</th>\n",
       "      <td>9177566048</td>\n",
       "      <td>93955SB</td>\n",
       "      <td>IL</td>\n",
       "      <td>TRK</td>\n",
       "      <td>FORD</td>\n",
       "      <td>01/02/2009 09:24 am</td>\n",
       "      <td>2541 S HOMAN AVE</td>\n",
       "      <td>0964170A</td>\n",
       "      <td>TRUCK,RV,BUS, OR TAXI RESIDENTIAL STREET</td>\n",
       "      <td>636</td>\n",
       "      <td>498</td>\n",
       "      <td>Paid</td>\n",
       "      <td>NaN</td>\n",
       "    </tr>\n",
       "    <tr>\n",
       "      <th>1</th>\n",
       "      <td>9177638895</td>\n",
       "      <td>70303AB</td>\n",
       "      <td>IL</td>\n",
       "      <td>TRK</td>\n",
       "      <td>CHEV</td>\n",
       "      <td>01/05/2009 10:13 am</td>\n",
       "      <td>3406 W 62ND ST</td>\n",
       "      <td>0964170A</td>\n",
       "      <td>TRUCK,RV,BUS, OR TAXI RESIDENTIAL STREET</td>\n",
       "      <td>661</td>\n",
       "      <td>498</td>\n",
       "      <td>Paid</td>\n",
       "      <td>NaN</td>\n",
       "    </tr>\n",
       "    <tr>\n",
       "      <th>2</th>\n",
       "      <td>55824052</td>\n",
       "      <td>85825N</td>\n",
       "      <td>IL</td>\n",
       "      <td>TRK</td>\n",
       "      <td>FORD</td>\n",
       "      <td>01/03/2009 07:05 pm</td>\n",
       "      <td>1845 W HOOD</td>\n",
       "      <td>0964170A</td>\n",
       "      <td>TRUCK,RV,BUS, OR TAXI RESIDENTIAL STREET</td>\n",
       "      <td>12842</td>\n",
       "      <td>24</td>\n",
       "      <td>Define</td>\n",
       "      <td>NaN</td>\n",
       "    </tr>\n",
       "    <tr>\n",
       "      <th>3</th>\n",
       "      <td>54574383</td>\n",
       "      <td>5141TX</td>\n",
       "      <td>IL</td>\n",
       "      <td>TXI</td>\n",
       "      <td>MERC</td>\n",
       "      <td>01/06/2009 06:53 am</td>\n",
       "      <td>4707 N PULASKI</td>\n",
       "      <td>0964170B</td>\n",
       "      <td>TRUCK,MOTOR HOME, BUS BUSINESS STREET</td>\n",
       "      <td>12769</td>\n",
       "      <td>17</td>\n",
       "      <td>Paid</td>\n",
       "      <td>NaN</td>\n",
       "    </tr>\n",
       "    <tr>\n",
       "      <th>4</th>\n",
       "      <td>55388795</td>\n",
       "      <td>25495TX</td>\n",
       "      <td>IL</td>\n",
       "      <td>TXI</td>\n",
       "      <td>MERC</td>\n",
       "      <td>01/05/2009 04:19 am</td>\n",
       "      <td>5721 W EASTWOOD</td>\n",
       "      <td>0964170A</td>\n",
       "      <td>TRUCK,RV,BUS, OR TAXI RESIDENTIAL STREET</td>\n",
       "      <td>13250</td>\n",
       "      <td>16</td>\n",
       "      <td>Notice</td>\n",
       "      <td>NaN</td>\n",
       "    </tr>\n",
       "  </tbody>\n",
       "</table>\n",
       "</div>"
      ],
      "text/plain": [
       "   Ticket Number License Plate Number License Plate State License Plate Type  \\\n",
       "0     9177566048              93955SB                  IL                TRK   \n",
       "1     9177638895              70303AB                  IL                TRK   \n",
       "2       55824052               85825N                  IL                TRK   \n",
       "3       54574383               5141TX                  IL                TXI   \n",
       "4       55388795              25495TX                  IL                TXI   \n",
       "\n",
       "  Ticket Make           Issue Date Violation Location Violation Code  \\\n",
       "0        FORD  01/02/2009 09:24 am   2541 S HOMAN AVE       0964170A   \n",
       "1        CHEV  01/05/2009 10:13 am     3406 W 62ND ST       0964170A   \n",
       "2        FORD  01/03/2009 07:05 pm        1845 W HOOD       0964170A   \n",
       "3        MERC  01/06/2009 06:53 am     4707 N PULASKI       0964170B   \n",
       "4        MERC  01/05/2009 04:19 am    5721 W EASTWOOD       0964170A   \n",
       "\n",
       "                      Violation Description  Badge Unit Ticket Queue  \\\n",
       "0  TRUCK,RV,BUS, OR TAXI RESIDENTIAL STREET    636  498         Paid   \n",
       "1  TRUCK,RV,BUS, OR TAXI RESIDENTIAL STREET    661  498         Paid   \n",
       "2  TRUCK,RV,BUS, OR TAXI RESIDENTIAL STREET  12842   24       Define   \n",
       "3     TRUCK,MOTOR HOME, BUS BUSINESS STREET  12769   17         Paid   \n",
       "4  TRUCK,RV,BUS, OR TAXI RESIDENTIAL STREET  13250   16       Notice   \n",
       "\n",
       "  Hearing Dispo  \n",
       "0           NaN  \n",
       "1           NaN  \n",
       "2           NaN  \n",
       "3           NaN  \n",
       "4           NaN  "
      ]
     },
     "execution_count": 2,
     "metadata": {},
     "output_type": "execute_result"
    }
   ],
   "source": [
    "res_bus_ticket_df = pd.read_csv('res_bus_all_tickets.csv')\n",
    "print(res_bus_ticket_df.shape)\n",
    "print(res_bus_ticket_df.dtypes)\n",
    "res_bus_ticket_df.head()"
   ]
  },
  {
   "cell_type": "code",
   "execution_count": 3,
   "metadata": {
    "collapsed": false
   },
   "outputs": [
    {
     "data": {
      "text/plain": [
       "array([nan, 'Not Liable', 'Liable', 'DOR Withdraw', 'Denied', 'Continued',\n",
       "       'Withdrawn', 'Granted', 'Stricken'], dtype=object)"
      ]
     },
     "execution_count": 3,
     "metadata": {},
     "output_type": "execute_result"
    }
   ],
   "source": [
    "res_bus_ticket_df['Hearing Dispo'].unique()"
   ]
  },
  {
   "cell_type": "code",
   "execution_count": 4,
   "metadata": {
    "collapsed": false
   },
   "outputs": [
    {
     "data": {
      "text/plain": [
       "array(['TRK', 'TXI', 'APP', 'PAS', 'SCH', 'RVM', 'TMP', 'TOW', 'FFM', nan,\n",
       "       'LIV', 'ENV', 'PTR', 'SPM', 'TRL', 'IFF', 'DOM', 'VET', 'VVT',\n",
       "       'COL', 'BUS', 'ORG', 'MAM', 'PML', 'ARM', 'PFR', 'HCP', 'SHF',\n",
       "       'UVT', 'TRS', 'DLC', 'IPA', 'CUB', 'RVT', 'CBK', 'EGS', 'TRT',\n",
       "       'OTH', 'WPP', 'USM', 'GVT', 'BUL', 'SPV', 'ANV', 'SOX', 'OVC',\n",
       "       'IRT', 'FCH', 'GRD', 'NYV', 'UAV', 'TRN', 'PRM', 'CHV', 'EUA',\n",
       "       'BRS', 'PET', 'WPB', 'FHM', 'YPG', 'VAN', 'INT', 'POW', 'CPM',\n",
       "       'BRZ', 'RCG', 'IMC', 'SOT', 'PUR', 'RET', 'EDU', 'SAG', 'MSM',\n",
       "       'SPC', 'FOP', 'MCY', 'FRM', 'HAM', 'TRF', 'PAT', 'ACM', 'MFR',\n",
       "       'BKE', 'AFC', 'MUN', 'CER', 'AFR', 'SMW', 'SST', 'UNV', 'ELE',\n",
       "       'ICM', 'NSC', 'HCS', 'MCR', 'DFC', 'UIC', 'REM', 'WVT', 'LTS',\n",
       "       'DSC', 'TNT', 'DLT', 'AUA', 'DRV', 'RSS', 'ICC', 'RIN', 'AMU',\n",
       "       'GLD', 'CON', 'EXP', 'HIM', 'STE', 'STS', 'SYG', 'SOS', 'NPD', 'POL'], dtype=object)"
      ]
     },
     "execution_count": 4,
     "metadata": {},
     "output_type": "execute_result"
    }
   ],
   "source": [
    "res_bus_ticket_df['License Plate Type'].unique()"
   ]
  },
  {
   "cell_type": "code",
   "execution_count": 7,
   "metadata": {
    "collapsed": false
   },
   "outputs": [
    {
     "data": {
      "text/plain": [
       "array([nan, 'Not Liable', 'DOR Withdraw', 'Liable', 'Denied', 'Continued',\n",
       "       'Granted', 'Withdrawn', 'Stricken'], dtype=object)"
      ]
     },
     "execution_count": 7,
     "metadata": {},
     "output_type": "execute_result"
    }
   ],
   "source": [
    "not_taxi_rb_df = res_bus_ticket_df[res_bus_ticket_df['License Plate Type'] != 'TXI']\n",
    "not_taxi_rb_df['Hearing Dispo'].unique()"
   ]
  },
  {
   "cell_type": "code",
   "execution_count": 8,
   "metadata": {
    "collapsed": false
   },
   "outputs": [
    {
     "data": {
      "text/plain": [
       "array([nan, 'Liable', 'DOR Withdraw', 'Not Liable', 'Denied', 'Continued',\n",
       "       'Withdrawn', 'Stricken'], dtype=object)"
      ]
     },
     "execution_count": 8,
     "metadata": {},
     "output_type": "execute_result"
    }
   ],
   "source": [
    "taxi_res_bus_df = res_bus_ticket_df[res_bus_ticket_df['License Plate Type'] == 'TXI']\n",
    "taxi_res_bus_df['Hearing Dispo'].unique()"
   ]
  },
  {
   "cell_type": "code",
   "execution_count": 10,
   "metadata": {
    "collapsed": false
   },
   "outputs": [
    {
     "name": "stderr",
     "output_type": "stream",
     "text": [
      "/usr/local/lib/python2.7/site-packages/pandas/core/generic.py:3191: SettingWithCopyWarning: \n",
      "A value is trying to be set on a copy of a slice from a DataFrame\n",
      "\n",
      "See the caveats in the documentation: http://pandas.pydata.org/pandas-docs/stable/indexing.html#indexing-view-versus-copy\n",
      "  self._update_inplace(new_data)\n"
     ]
    }
   ],
   "source": [
    "not_taxi_rb_df['Hearing Dispo'].fillna('Did Not Challenge', inplace=True)\n",
    "not_taxi_rb_df.to_csv('not_taxi_res_bus_tickets.csv', index=False)\n",
    "taxi_res_bus_df['Hearing Dispo'].fillna('Did Not Challenge', inplace=True)"
   ]
  },
  {
   "cell_type": "markdown",
   "metadata": {},
   "source": [
    "## Residential and Business Street Parking Tickets\n",
    "### Hearing Results for Non-Taxis and Taxis"
   ]
  },
  {
   "cell_type": "markdown",
   "metadata": {},
   "source": [
    "### Not Taxis"
   ]
  },
  {
   "cell_type": "code",
   "execution_count": 14,
   "metadata": {
    "collapsed": false
   },
   "outputs": [
    {
     "data": {
      "text/plain": [
       "<matplotlib.axes._subplots.AxesSubplot at 0x111c4a810>"
      ]
     },
     "execution_count": 14,
     "metadata": {},
     "output_type": "execute_result"
    },
    {
     "data": {
      "image/png": "[encoded data removed]",
      "text/plain": [
       "<matplotlib.figure.Figure at 0x111d53910>"
      ]
     },
     "metadata": {},
     "output_type": "display_data"
    }
   ],
   "source": [
    "not_taxi_hearing = not_taxi_rb_df.groupby(['Hearing Dispo'])['Ticket Number'].count()\n",
    "not_taxi_hearing.plot(kind='pie',autopct='%1.1f%%', fontsize=16)"
   ]
  },
  {
   "cell_type": "markdown",
   "metadata": {},
   "source": [
    "### Taxis\n",
    "\n",
    "It looks like taxis are more likely to challenge these types of tickets, but this is also a ticket that has a different connotation and exemptions for taxis than for other vehicles. Will probably be more helpful to look at the total rate of challenges for taxis vs. non-taxis"
   ]
  },
  {
   "cell_type": "code",
   "execution_count": 16,
   "metadata": {
    "collapsed": false
   },
   "outputs": [
    {
     "data": {
      "text/plain": [
       "<matplotlib.axes._subplots.AxesSubplot at 0x10ca22510>"
      ]
     },
     "execution_count": 16,
     "metadata": {},
     "output_type": "execute_result"
    },
    {
     "data": {
      "image/png": "[encoded data removed]",
      "text/plain": [
       "<matplotlib.figure.Figure at 0x1222afc90>"
      ]
     },
     "metadata": {},
     "output_type": "display_data"
    }
   ],
   "source": [
    "taxi_hearing = taxi_res_bus_df.groupby(['Hearing Dispo'])['Ticket Number'].count()\n",
    "taxi_hearing.plot(kind='pie',autopct='%1.1f%%', fontsize=16)"
   ]
  },
  {
   "cell_type": "code",
   "execution_count": 22,
   "metadata": {
    "collapsed": false
   },
   "outputs": [
    {
     "name": "stdout",
     "output_type": "stream",
     "text": [
      "Hearing Dispo     object\n",
      "Ticket Number      int64\n",
      "Percent          float64\n",
      "dtype: object\n",
      "(8712, 3)\n",
      "Hearing Dispo     object\n",
      "Ticket Number      int64\n",
      "Percent          float64\n",
      "dtype: object\n",
      "(11513, 3)\n"
     ]
    }
   ],
   "source": [
    "challenge_chunks = pd.read_csv('ticket_archive/tickets.csv.gz', sep=';', chunksize=10000)\n",
    "\n",
    "taxi_challenge_chunks = list()\n",
    "not_taxi_challenge_chunks = list()\n",
    "\n",
    "for chunk in challenge_chunks:\n",
    "    chunk['Hearing Dispo'].fillna('Did Not Challenge', inplace=True)\n",
    "    \n",
    "    taxi_rows = chunk[chunk['License Plate Type'] == 'TXI']\n",
    "    not_taxi_rows = chunk[chunk['License Plate Type'] != 'TXI']\n",
    "    \n",
    "    taxi_results = taxi_rows.groupby(['Hearing Dispo'])['Ticket Number'].count()\n",
    "    taxi_results_df = pd.DataFrame(taxi_results).reset_index()\n",
    "    taxi_results_df['Percent'] = taxi_results_df['Ticket Number'].apply(lambda x: float(x)/taxi_results_df['Ticket Number'].sum())\n",
    "\n",
    "    not_taxi_results = not_taxi_rows.groupby(['Hearing Dispo'])['Ticket Number'].count()\n",
    "    not_taxi_results_df = pd.DataFrame(not_taxi_results).reset_index()\n",
    "    not_taxi_results_df['Percent'] = not_taxi_results_df['Ticket Number'].apply(lambda x: float(x)/not_taxi_results_df['Ticket Number'].sum())\n",
    "    \n",
    "    taxi_challenge_chunks.append(taxi_results_df)\n",
    "    not_taxi_challenge_chunks.append(not_taxi_results_df)\n",
    "\n",
    "taxi_hearing_df = pd.concat(taxi_challenge_chunks)\n",
    "not_taxi_hearing_df = pd.concat(not_taxi_challenge_chunks)\n",
    "\n",
    "print(taxi_hearing_df.dtypes)\n",
    "print(taxi_hearing_df.shape)\n",
    "\n",
    "print(not_taxi_hearing_df.dtypes)\n",
    "print(not_taxi_hearing_df.shape)"
   ]
  },
  {
   "cell_type": "code",
   "execution_count": 23,
   "metadata": {
    "collapsed": false
   },
   "outputs": [
    {
     "data": {
      "text/html": [
       "<div>\n",
       "<table border=\"1\" class=\"dataframe\">\n",
       "  <thead>\n",
       "    <tr style=\"text-align: right;\">\n",
       "      <th></th>\n",
       "      <th>Hearing Dispo</th>\n",
       "      <th>Ticket Number</th>\n",
       "      <th>Percent</th>\n",
       "    </tr>\n",
       "  </thead>\n",
       "  <tbody>\n",
       "    <tr>\n",
       "      <th>0</th>\n",
       "      <td>DOR Withdraw</td>\n",
       "      <td>5</td>\n",
       "      <td>0.030864</td>\n",
       "    </tr>\n",
       "    <tr>\n",
       "      <th>1</th>\n",
       "      <td>Denied</td>\n",
       "      <td>1</td>\n",
       "      <td>0.006173</td>\n",
       "    </tr>\n",
       "    <tr>\n",
       "      <th>2</th>\n",
       "      <td>Did Not Challenge</td>\n",
       "      <td>101</td>\n",
       "      <td>0.623457</td>\n",
       "    </tr>\n",
       "    <tr>\n",
       "      <th>3</th>\n",
       "      <td>Liable</td>\n",
       "      <td>14</td>\n",
       "      <td>0.086420</td>\n",
       "    </tr>\n",
       "    <tr>\n",
       "      <th>4</th>\n",
       "      <td>Not Liable</td>\n",
       "      <td>41</td>\n",
       "      <td>0.253086</td>\n",
       "    </tr>\n",
       "    <tr>\n",
       "      <th>0</th>\n",
       "      <td>DOR Withdraw</td>\n",
       "      <td>3</td>\n",
       "      <td>0.017544</td>\n",
       "    </tr>\n",
       "    <tr>\n",
       "      <th>1</th>\n",
       "      <td>Denied</td>\n",
       "      <td>3</td>\n",
       "      <td>0.017544</td>\n",
       "    </tr>\n",
       "    <tr>\n",
       "      <th>2</th>\n",
       "      <td>Did Not Challenge</td>\n",
       "      <td>97</td>\n",
       "      <td>0.567251</td>\n",
       "    </tr>\n",
       "    <tr>\n",
       "      <th>3</th>\n",
       "      <td>Liable</td>\n",
       "      <td>15</td>\n",
       "      <td>0.087719</td>\n",
       "    </tr>\n",
       "    <tr>\n",
       "      <th>4</th>\n",
       "      <td>Not Liable</td>\n",
       "      <td>53</td>\n",
       "      <td>0.309942</td>\n",
       "    </tr>\n",
       "  </tbody>\n",
       "</table>\n",
       "</div>"
      ],
      "text/plain": [
       "       Hearing Dispo  Ticket Number   Percent\n",
       "0       DOR Withdraw              5  0.030864\n",
       "1             Denied              1  0.006173\n",
       "2  Did Not Challenge            101  0.623457\n",
       "3             Liable             14  0.086420\n",
       "4         Not Liable             41  0.253086\n",
       "0       DOR Withdraw              3  0.017544\n",
       "1             Denied              3  0.017544\n",
       "2  Did Not Challenge             97  0.567251\n",
       "3             Liable             15  0.087719\n",
       "4         Not Liable             53  0.309942"
      ]
     },
     "execution_count": 23,
     "metadata": {},
     "output_type": "execute_result"
    }
   ],
   "source": [
    "taxi_hearing_df[:10]"
   ]
  },
  {
   "cell_type": "code",
   "execution_count": 26,
   "metadata": {
    "collapsed": false
   },
   "outputs": [
    {
     "data": {
      "text/plain": [
       "array(['Continued', 'DOR Withdraw', 'Denied', u'Did Not Challenge',\n",
       "       'Liable', 'Not Liable', 'Withdrawn', 'Granted', 'Stricken',\n",
       "       'DUMMY CASE CREATED'], dtype=object)"
      ]
     },
     "execution_count": 26,
     "metadata": {},
     "output_type": "execute_result"
    }
   ],
   "source": [
    "not_taxi_hearing_df['Hearing Dispo'].unique()"
   ]
  },
  {
   "cell_type": "code",
   "execution_count": 28,
   "metadata": {
    "collapsed": false
   },
   "outputs": [
    {
     "data": {
      "text/html": [
       "<div>\n",
       "<table border=\"1\" class=\"dataframe\">\n",
       "  <thead>\n",
       "    <tr style=\"text-align: right;\">\n",
       "      <th></th>\n",
       "      <th>Hearing Dispo</th>\n",
       "      <th>Ticket Number</th>\n",
       "    </tr>\n",
       "  </thead>\n",
       "  <tbody>\n",
       "    <tr>\n",
       "      <th>0</th>\n",
       "      <td>Continued</td>\n",
       "      <td>585</td>\n",
       "    </tr>\n",
       "    <tr>\n",
       "      <th>1</th>\n",
       "      <td>DOR Withdraw</td>\n",
       "      <td>3590</td>\n",
       "    </tr>\n",
       "    <tr>\n",
       "      <th>2</th>\n",
       "      <td>Denied</td>\n",
       "      <td>2560</td>\n",
       "    </tr>\n",
       "    <tr>\n",
       "      <th>3</th>\n",
       "      <td>Did Not Challenge</td>\n",
       "      <td>153455</td>\n",
       "    </tr>\n",
       "    <tr>\n",
       "      <th>4</th>\n",
       "      <td>Liable</td>\n",
       "      <td>22745</td>\n",
       "    </tr>\n",
       "    <tr>\n",
       "      <th>5</th>\n",
       "      <td>Not Liable</td>\n",
       "      <td>78850</td>\n",
       "    </tr>\n",
       "    <tr>\n",
       "      <th>6</th>\n",
       "      <td>Stricken</td>\n",
       "      <td>17</td>\n",
       "    </tr>\n",
       "    <tr>\n",
       "      <th>7</th>\n",
       "      <td>Withdrawn</td>\n",
       "      <td>134</td>\n",
       "    </tr>\n",
       "  </tbody>\n",
       "</table>\n",
       "</div>"
      ],
      "text/plain": [
       "       Hearing Dispo  Ticket Number\n",
       "0          Continued            585\n",
       "1       DOR Withdraw           3590\n",
       "2             Denied           2560\n",
       "3  Did Not Challenge         153455\n",
       "4             Liable          22745\n",
       "5         Not Liable          78850\n",
       "6           Stricken             17\n",
       "7          Withdrawn            134"
      ]
     },
     "execution_count": 28,
     "metadata": {},
     "output_type": "execute_result"
    }
   ],
   "source": [
    "taxi_hearing_grouped = taxi_hearing_df.groupby(['Hearing Dispo'])['Ticket Number'].sum()\n",
    "taxi_hearing_grouped = pd.DataFrame(taxi_hearing_grouped).reset_index()\n",
    "taxi_hearing_grouped"
   ]
  },
  {
   "cell_type": "code",
   "execution_count": 27,
   "metadata": {
    "collapsed": false
   },
   "outputs": [
    {
     "data": {
      "text/html": [
       "<div>\n",
       "<table border=\"1\" class=\"dataframe\">\n",
       "  <thead>\n",
       "    <tr style=\"text-align: right;\">\n",
       "      <th></th>\n",
       "      <th>Hearing Dispo</th>\n",
       "      <th>Ticket Number</th>\n",
       "    </tr>\n",
       "  </thead>\n",
       "  <tbody>\n",
       "    <tr>\n",
       "      <th>0</th>\n",
       "      <td>Continued</td>\n",
       "      <td>5402</td>\n",
       "    </tr>\n",
       "    <tr>\n",
       "      <th>1</th>\n",
       "      <td>DOR Withdraw</td>\n",
       "      <td>358286</td>\n",
       "    </tr>\n",
       "    <tr>\n",
       "      <th>2</th>\n",
       "      <td>DUMMY CASE CREATED</td>\n",
       "      <td>1</td>\n",
       "    </tr>\n",
       "    <tr>\n",
       "      <th>3</th>\n",
       "      <td>Denied</td>\n",
       "      <td>21520</td>\n",
       "    </tr>\n",
       "    <tr>\n",
       "      <th>4</th>\n",
       "      <td>Did Not Challenge</td>\n",
       "      <td>15250122</td>\n",
       "    </tr>\n",
       "    <tr>\n",
       "      <th>5</th>\n",
       "      <td>Granted</td>\n",
       "      <td>374</td>\n",
       "    </tr>\n",
       "    <tr>\n",
       "      <th>6</th>\n",
       "      <td>Liable</td>\n",
       "      <td>861052</td>\n",
       "    </tr>\n",
       "    <tr>\n",
       "      <th>7</th>\n",
       "      <td>Not Liable</td>\n",
       "      <td>1047299</td>\n",
       "    </tr>\n",
       "    <tr>\n",
       "      <th>8</th>\n",
       "      <td>Stricken</td>\n",
       "      <td>55</td>\n",
       "    </tr>\n",
       "    <tr>\n",
       "      <th>9</th>\n",
       "      <td>Withdrawn</td>\n",
       "      <td>771</td>\n",
       "    </tr>\n",
       "  </tbody>\n",
       "</table>\n",
       "</div>"
      ],
      "text/plain": [
       "        Hearing Dispo  Ticket Number\n",
       "0           Continued           5402\n",
       "1        DOR Withdraw         358286\n",
       "2  DUMMY CASE CREATED              1\n",
       "3              Denied          21520\n",
       "4   Did Not Challenge       15250122\n",
       "5             Granted            374\n",
       "6              Liable         861052\n",
       "7          Not Liable        1047299\n",
       "8            Stricken             55\n",
       "9           Withdrawn            771"
      ]
     },
     "execution_count": 27,
     "metadata": {},
     "output_type": "execute_result"
    }
   ],
   "source": [
    "not_taxi_hearing_grouped = not_taxi_hearing_df.groupby(['Hearing Dispo'])['Ticket Number'].sum()\n",
    "not_taxi_hearing_grouped = pd.DataFrame(not_taxi_hearing_grouped).reset_index()\n",
    "not_taxi_hearing_grouped"
   ]
  },
  {
   "cell_type": "markdown",
   "metadata": {},
   "source": [
    "# Challenges to Tickets for All Types: Taxis v Not Taxis"
   ]
  },
  {
   "cell_type": "markdown",
   "metadata": {},
   "source": [
    "## Taxis"
   ]
  },
  {
   "cell_type": "code",
   "execution_count": 34,
   "metadata": {
    "collapsed": false
   },
   "outputs": [
    {
     "data": {
      "text/plain": [
       "<matplotlib.axes._subplots.AxesSubplot at 0x1234b1bd0>"
      ]
     },
     "execution_count": 34,
     "metadata": {},
     "output_type": "execute_result"
    },
    {
     "data": {
      "image/png": "[encoded data removed]",
      "text/plain": [
       "<matplotlib.figure.Figure at 0x1237e8d10>"
      ]
     },
     "metadata": {},
     "output_type": "display_data"
    }
   ],
   "source": [
    "taxi_hearing_series = taxi_hearing_df.groupby(['Hearing Dispo'])['Ticket Number'].sum()\n",
    "taxi_hearing_series.plot(kind='pie', autopct='%1.1f%%', fontsize=16)"
   ]
  },
  {
   "cell_type": "markdown",
   "metadata": {},
   "source": [
    "## Not Taxis"
   ]
  },
  {
   "cell_type": "code",
   "execution_count": 35,
   "metadata": {
    "collapsed": false
   },
   "outputs": [
    {
     "data": {
      "text/plain": [
       "<matplotlib.axes._subplots.AxesSubplot at 0x12349f410>"
      ]
     },
     "execution_count": 35,
     "metadata": {},
     "output_type": "execute_result"
    },
    {
     "data": {
      "image/png": "[encoded data removed]",
      "text/plain": [
       "<matplotlib.figure.Figure at 0x123517550>"
      ]
     },
     "metadata": {},
     "output_type": "display_data"
    }
   ],
   "source": [
    "not_taxi_hearing_series = not_taxi_hearing_df.groupby(['Hearing Dispo'])['Ticket Number'].sum()\n",
    "not_taxi_hearing_series.plot(kind='pie', autopct='%1.1f%%', fontsize=16)"
   ]
  },
  {
   "cell_type": "markdown",
   "metadata": {},
   "source": [
    "## Initial Results\n",
    "\n",
    "* Taxis are actually much more likely to contest a ticket than the rest of the population\n",
    "* Intuitively, this makes sense, given that the probably encounter many more tickets that the general population"
   ]
  },
  {
   "cell_type": "code",
   "execution_count": null,
   "metadata": {
    "collapsed": true
   },
   "outputs": [],
   "source": []
  }
 ],
 "metadata": {
  "kernelspec": {
   "display_name": "Python 2",
   "language": "python",
   "name": "python2"
  },
  "language_info": {
   "codemirror_mode": {
    "name": "ipython",
    "version": 2
   },
   "file_extension": ".py",
   "mimetype": "text/x-python",
   "name": "python",
   "nbconvert_exporter": "python",
   "pygments_lexer": "ipython2",
   "version": "2.7.10"
  }
 },
 "nbformat": 4,
 "nbformat_minor": 0
}
